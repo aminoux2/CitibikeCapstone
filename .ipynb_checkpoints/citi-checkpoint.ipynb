{
 "cells": [
  {
   "cell_type": "code",
   "execution_count": 10,
   "metadata": {},
   "outputs": [],
   "source": [
    "import pandas as pd\n",
    "import numpy as np\n",
    "import seaborn as sns\n",
    "import statsmodels.formula.api as smf\n",
    "import sklearn.metrics\n",
    "from sklearn.metrics import confusion_matrix, accuracy_score\n",
    "from sklearn.model_selection import train_test_split\n",
    "from matplotlib import pyplot as plt"
   ]
  },
  {
   "cell_type": "markdown",
   "metadata": {},
   "source": [
    "# Put dataset together"
   ]
  },
  {
   "cell_type": "code",
   "execution_count": 11,
   "metadata": {},
   "outputs": [],
   "source": [
    "#only using 2019 data just for the month\n",
    "jan19=pd.read_csv('/Users/galvanize/Downloads/jan19.csv')\n",
    "feb19=pd.read_csv('/Users/galvanize/Downloads/feb19.csv')\n",
    "mar19=pd.read_csv('/Users/galvanize/Downloads/mar19.csv')\n",
    "apr19=pd.read_csv('/Users/galvanize/Downloads/apr19.csv')\n",
    "may19=pd.read_csv('/Users/galvanize/Downloads/may19.csv')\n",
    "jun19=pd.read_csv('/Users/galvanize/Downloads/jun19.csv')\n",
    "jul19=pd.read_csv('/Users/galvanize/Downloads/jul19.csv')\n",
    "aug19=pd.read_csv('/Users/galvanize/Downloads/aug19.csv')\n",
    "sep19=pd.read_csv('/Users/galvanize/Downloads/sep19.csv')\n",
    "oct19=pd.read_csv('/Users/galvanize/Downloads/oct19.csv')\n",
    "nov19=pd.read_csv('/Users/galvanize/Downloads/nov19.csv')\n",
    "dec19=pd.read_csv('/Users/galvanize/Downloads/dec19.csv')\n"
   ]
  },
  {
   "cell_type": "code",
   "execution_count": 12,
   "metadata": {},
   "outputs": [],
   "source": [
    "jan19['month'] = 1\n",
    "feb19['month'] = 2\n",
    "mar19['month'] = 3\n",
    "apr19['month'] = 4\n",
    "may19['month'] = 5\n",
    "jun19['month'] = 6\n",
    "jul19['month'] = 7\n",
    "aug19['month'] = 8\n",
    "sep19['month'] = 9\n",
    "oct19['month'] = 10\n",
    "nov19['month'] = 11\n",
    "dec19['month'] = 12"
   ]
  },
  {
   "cell_type": "code",
   "execution_count": 13,
   "metadata": {},
   "outputs": [],
   "source": [
    "citi=pd.concat([jan19, feb19, mar19, apr19, may19, jun19, jul19, aug19, sep19, oct19, nov19, dec19])"
   ]
  },
  {
   "cell_type": "code",
   "execution_count": 14,
   "metadata": {},
   "outputs": [],
   "source": [
    "citi= citi.sample(n=1000000)"
   ]
  },
  {
   "cell_type": "code",
   "execution_count": 15,
   "metadata": {},
   "outputs": [
    {
     "name": "stdout",
     "output_type": "stream",
     "text": [
      "<class 'pandas.core.frame.DataFrame'>\n",
      "Int64Index: 1000000 entries, 665620 to 453614\n",
      "Data columns (total 16 columns):\n",
      " #   Column                   Non-Null Count    Dtype  \n",
      "---  ------                   --------------    -----  \n",
      " 0   tripduration             1000000 non-null  int64  \n",
      " 1   starttime                1000000 non-null  object \n",
      " 2   stoptime                 1000000 non-null  object \n",
      " 3   start station id         999996 non-null   float64\n",
      " 4   start station name       999996 non-null   object \n",
      " 5   start station latitude   1000000 non-null  float64\n",
      " 6   start station longitude  1000000 non-null  float64\n",
      " 7   end station id           999996 non-null   float64\n",
      " 8   end station name         999996 non-null   object \n",
      " 9   end station latitude     1000000 non-null  float64\n",
      " 10  end station longitude    1000000 non-null  float64\n",
      " 11  bikeid                   1000000 non-null  int64  \n",
      " 12  usertype                 1000000 non-null  object \n",
      " 13  birth year               1000000 non-null  int64  \n",
      " 14  gender                   1000000 non-null  int64  \n",
      " 15  month                    1000000 non-null  int64  \n",
      "dtypes: float64(6), int64(5), object(5)\n",
      "memory usage: 129.7+ MB\n"
     ]
    }
   ],
   "source": [
    "citi.info()"
   ]
  },
  {
   "cell_type": "markdown",
   "metadata": {},
   "source": [
    "# Light Data cleaning and making columns"
   ]
  },
  {
   "cell_type": "code",
   "execution_count": 16,
   "metadata": {},
   "outputs": [],
   "source": [
    "citi=citi.dropna(subset=['start station id'])"
   ]
  },
  {
   "cell_type": "code",
   "execution_count": 17,
   "metadata": {},
   "outputs": [],
   "source": [
    "#pull month from start time. get it to date time form and then break it out by month, day of week, hour\n"
   ]
  },
  {
   "cell_type": "code",
   "execution_count": 18,
   "metadata": {},
   "outputs": [
    {
     "name": "stdout",
     "output_type": "stream",
     "text": [
      "<class 'pandas.core.frame.DataFrame'>\n",
      "Int64Index: 999996 entries, 665620 to 453614\n",
      "Data columns (total 16 columns):\n",
      " #   Column                   Non-Null Count   Dtype  \n",
      "---  ------                   --------------   -----  \n",
      " 0   tripduration             999996 non-null  int64  \n",
      " 1   starttime                999996 non-null  object \n",
      " 2   stoptime                 999996 non-null  object \n",
      " 3   start station id         999996 non-null  float64\n",
      " 4   start station name       999996 non-null  object \n",
      " 5   start station latitude   999996 non-null  float64\n",
      " 6   start station longitude  999996 non-null  float64\n",
      " 7   end station id           999996 non-null  float64\n",
      " 8   end station name         999996 non-null  object \n",
      " 9   end station latitude     999996 non-null  float64\n",
      " 10  end station longitude    999996 non-null  float64\n",
      " 11  bikeid                   999996 non-null  int64  \n",
      " 12  usertype                 999996 non-null  object \n",
      " 13  birth year               999996 non-null  int64  \n",
      " 14  gender                   999996 non-null  int64  \n",
      " 15  month                    999996 non-null  int64  \n",
      "dtypes: float64(6), int64(5), object(5)\n",
      "memory usage: 129.7+ MB\n"
     ]
    }
   ],
   "source": [
    "citi.info()"
   ]
  },
  {
   "cell_type": "code",
   "execution_count": 19,
   "metadata": {},
   "outputs": [],
   "source": [
    "citi.reset_index(inplace=True)"
   ]
  },
  {
   "cell_type": "code",
   "execution_count": 20,
   "metadata": {},
   "outputs": [],
   "source": [
    "citi.drop(columns= 'index', inplace=True)"
   ]
  },
  {
   "cell_type": "code",
   "execution_count": 21,
   "metadata": {},
   "outputs": [
    {
     "data": {
      "text/html": [
       "<div>\n",
       "<style scoped>\n",
       "    .dataframe tbody tr th:only-of-type {\n",
       "        vertical-align: middle;\n",
       "    }\n",
       "\n",
       "    .dataframe tbody tr th {\n",
       "        vertical-align: top;\n",
       "    }\n",
       "\n",
       "    .dataframe thead th {\n",
       "        text-align: right;\n",
       "    }\n",
       "</style>\n",
       "<table border=\"1\" class=\"dataframe\">\n",
       "  <thead>\n",
       "    <tr style=\"text-align: right;\">\n",
       "      <th></th>\n",
       "      <th>tripduration</th>\n",
       "      <th>starttime</th>\n",
       "      <th>stoptime</th>\n",
       "      <th>start station id</th>\n",
       "      <th>start station name</th>\n",
       "      <th>start station latitude</th>\n",
       "      <th>start station longitude</th>\n",
       "      <th>end station id</th>\n",
       "      <th>end station name</th>\n",
       "      <th>end station latitude</th>\n",
       "      <th>end station longitude</th>\n",
       "      <th>bikeid</th>\n",
       "      <th>usertype</th>\n",
       "      <th>birth year</th>\n",
       "      <th>gender</th>\n",
       "      <th>month</th>\n",
       "    </tr>\n",
       "  </thead>\n",
       "  <tbody>\n",
       "    <tr>\n",
       "      <th>0</th>\n",
       "      <td>722</td>\n",
       "      <td>2019-04-11 19:59:53.4370</td>\n",
       "      <td>2019-04-11 20:11:55.7940</td>\n",
       "      <td>3307.0</td>\n",
       "      <td>West End Ave &amp; W 94 St</td>\n",
       "      <td>40.794165</td>\n",
       "      <td>-73.974124</td>\n",
       "      <td>3282.0</td>\n",
       "      <td>5 Ave &amp; E 88 St</td>\n",
       "      <td>40.783070</td>\n",
       "      <td>-73.959390</td>\n",
       "      <td>37575</td>\n",
       "      <td>Subscriber</td>\n",
       "      <td>1991</td>\n",
       "      <td>1</td>\n",
       "      <td>4</td>\n",
       "    </tr>\n",
       "    <tr>\n",
       "      <th>1</th>\n",
       "      <td>132</td>\n",
       "      <td>2019-08-07 16:24:51.3450</td>\n",
       "      <td>2019-08-07 16:27:04.0160</td>\n",
       "      <td>3389.0</td>\n",
       "      <td>Carroll St &amp; Columbia St</td>\n",
       "      <td>40.683046</td>\n",
       "      <td>-74.003486</td>\n",
       "      <td>3315.0</td>\n",
       "      <td>Henry St &amp; Degraw St</td>\n",
       "      <td>40.684751</td>\n",
       "      <td>-73.999173</td>\n",
       "      <td>24857</td>\n",
       "      <td>Subscriber</td>\n",
       "      <td>1990</td>\n",
       "      <td>1</td>\n",
       "      <td>8</td>\n",
       "    </tr>\n",
       "    <tr>\n",
       "      <th>2</th>\n",
       "      <td>111</td>\n",
       "      <td>2019-01-15 18:57:45.1220</td>\n",
       "      <td>2019-01-15 18:59:37.0660</td>\n",
       "      <td>3002.0</td>\n",
       "      <td>South End Ave &amp; Liberty St</td>\n",
       "      <td>40.711512</td>\n",
       "      <td>-74.015756</td>\n",
       "      <td>363.0</td>\n",
       "      <td>West Thames St</td>\n",
       "      <td>40.708347</td>\n",
       "      <td>-74.017134</td>\n",
       "      <td>15276</td>\n",
       "      <td>Subscriber</td>\n",
       "      <td>1980</td>\n",
       "      <td>1</td>\n",
       "      <td>1</td>\n",
       "    </tr>\n",
       "    <tr>\n",
       "      <th>3</th>\n",
       "      <td>717</td>\n",
       "      <td>2019-07-31 08:36:00.6680</td>\n",
       "      <td>2019-07-31 08:47:58.4420</td>\n",
       "      <td>3540.0</td>\n",
       "      <td>Morningside Ave &amp; W 123 St</td>\n",
       "      <td>40.810000</td>\n",
       "      <td>-73.955151</td>\n",
       "      <td>3331.0</td>\n",
       "      <td>Riverside Dr &amp; W 104 St</td>\n",
       "      <td>40.801343</td>\n",
       "      <td>-73.971146</td>\n",
       "      <td>34354</td>\n",
       "      <td>Subscriber</td>\n",
       "      <td>1967</td>\n",
       "      <td>1</td>\n",
       "      <td>7</td>\n",
       "    </tr>\n",
       "    <tr>\n",
       "      <th>4</th>\n",
       "      <td>1884</td>\n",
       "      <td>2019-09-04 18:50:58.1360</td>\n",
       "      <td>2019-09-04 19:22:22.9190</td>\n",
       "      <td>362.0</td>\n",
       "      <td>Broadway &amp; W 37 St</td>\n",
       "      <td>40.751726</td>\n",
       "      <td>-73.987535</td>\n",
       "      <td>3508.0</td>\n",
       "      <td>St Nicholas Ave &amp; Manhattan Ave</td>\n",
       "      <td>40.809725</td>\n",
       "      <td>-73.953149</td>\n",
       "      <td>38302</td>\n",
       "      <td>Subscriber</td>\n",
       "      <td>1963</td>\n",
       "      <td>1</td>\n",
       "      <td>9</td>\n",
       "    </tr>\n",
       "  </tbody>\n",
       "</table>\n",
       "</div>"
      ],
      "text/plain": [
       "   tripduration                 starttime                  stoptime  \\\n",
       "0           722  2019-04-11 19:59:53.4370  2019-04-11 20:11:55.7940   \n",
       "1           132  2019-08-07 16:24:51.3450  2019-08-07 16:27:04.0160   \n",
       "2           111  2019-01-15 18:57:45.1220  2019-01-15 18:59:37.0660   \n",
       "3           717  2019-07-31 08:36:00.6680  2019-07-31 08:47:58.4420   \n",
       "4          1884  2019-09-04 18:50:58.1360  2019-09-04 19:22:22.9190   \n",
       "\n",
       "   start station id          start station name  start station latitude  \\\n",
       "0            3307.0      West End Ave & W 94 St               40.794165   \n",
       "1            3389.0    Carroll St & Columbia St               40.683046   \n",
       "2            3002.0  South End Ave & Liberty St               40.711512   \n",
       "3            3540.0  Morningside Ave & W 123 St               40.810000   \n",
       "4             362.0          Broadway & W 37 St               40.751726   \n",
       "\n",
       "   start station longitude  end station id                 end station name  \\\n",
       "0               -73.974124          3282.0                  5 Ave & E 88 St   \n",
       "1               -74.003486          3315.0             Henry St & Degraw St   \n",
       "2               -74.015756           363.0                   West Thames St   \n",
       "3               -73.955151          3331.0          Riverside Dr & W 104 St   \n",
       "4               -73.987535          3508.0  St Nicholas Ave & Manhattan Ave   \n",
       "\n",
       "   end station latitude  end station longitude  bikeid    usertype  \\\n",
       "0             40.783070             -73.959390   37575  Subscriber   \n",
       "1             40.684751             -73.999173   24857  Subscriber   \n",
       "2             40.708347             -74.017134   15276  Subscriber   \n",
       "3             40.801343             -73.971146   34354  Subscriber   \n",
       "4             40.809725             -73.953149   38302  Subscriber   \n",
       "\n",
       "   birth year  gender  month  \n",
       "0        1991       1      4  \n",
       "1        1990       1      8  \n",
       "2        1980       1      1  \n",
       "3        1967       1      7  \n",
       "4        1963       1      9  "
      ]
     },
     "execution_count": 21,
     "metadata": {},
     "output_type": "execute_result"
    }
   ],
   "source": [
    "citi.head()"
   ]
  },
  {
   "cell_type": "code",
   "execution_count": 22,
   "metadata": {},
   "outputs": [],
   "source": [
    "#export csv for use in Tableau\n",
    "citi.to_csv('citi.csv',index= False)"
   ]
  },
  {
   "cell_type": "code",
   "execution_count": 23,
   "metadata": {},
   "outputs": [],
   "source": [
    "citi['starttime'] = pd.to_datetime(citi['starttime'])\n",
    "citi['stoptime'] = pd.to_datetime(citi['stoptime'])\n"
   ]
  },
  {
   "cell_type": "code",
   "execution_count": 24,
   "metadata": {},
   "outputs": [],
   "source": [
    "citi['trip_dayofweek']= citi['starttime'].dt.weekday\n",
    "citi['trip_month']= citi['starttime'].dt.month\n",
    "citi['trip_hour']= citi['starttime'].dt.hour\n",
    "\n",
    "\n"
   ]
  },
  {
   "cell_type": "code",
   "execution_count": 25,
   "metadata": {},
   "outputs": [
    {
     "name": "stdout",
     "output_type": "stream",
     "text": [
      "<class 'pandas.core.frame.DataFrame'>\n",
      "RangeIndex: 999996 entries, 0 to 999995\n",
      "Data columns (total 19 columns):\n",
      " #   Column                   Non-Null Count   Dtype         \n",
      "---  ------                   --------------   -----         \n",
      " 0   tripduration             999996 non-null  int64         \n",
      " 1   starttime                999996 non-null  datetime64[ns]\n",
      " 2   stoptime                 999996 non-null  datetime64[ns]\n",
      " 3   start station id         999996 non-null  float64       \n",
      " 4   start station name       999996 non-null  object        \n",
      " 5   start station latitude   999996 non-null  float64       \n",
      " 6   start station longitude  999996 non-null  float64       \n",
      " 7   end station id           999996 non-null  float64       \n",
      " 8   end station name         999996 non-null  object        \n",
      " 9   end station latitude     999996 non-null  float64       \n",
      " 10  end station longitude    999996 non-null  float64       \n",
      " 11  bikeid                   999996 non-null  int64         \n",
      " 12  usertype                 999996 non-null  object        \n",
      " 13  birth year               999996 non-null  int64         \n",
      " 14  gender                   999996 non-null  int64         \n",
      " 15  month                    999996 non-null  int64         \n",
      " 16  trip_dayofweek           999996 non-null  int64         \n",
      " 17  trip_month               999996 non-null  int64         \n",
      " 18  trip_hour                999996 non-null  int64         \n",
      "dtypes: datetime64[ns](2), float64(6), int64(8), object(3)\n",
      "memory usage: 145.0+ MB\n"
     ]
    }
   ],
   "source": [
    "citi.info()"
   ]
  },
  {
   "cell_type": "code",
   "execution_count": 26,
   "metadata": {},
   "outputs": [
    {
     "data": {
      "text/html": [
       "<div>\n",
       "<style scoped>\n",
       "    .dataframe tbody tr th:only-of-type {\n",
       "        vertical-align: middle;\n",
       "    }\n",
       "\n",
       "    .dataframe tbody tr th {\n",
       "        vertical-align: top;\n",
       "    }\n",
       "\n",
       "    .dataframe thead th {\n",
       "        text-align: right;\n",
       "    }\n",
       "</style>\n",
       "<table border=\"1\" class=\"dataframe\">\n",
       "  <thead>\n",
       "    <tr style=\"text-align: right;\">\n",
       "      <th></th>\n",
       "      <th>tripduration</th>\n",
       "      <th>starttime</th>\n",
       "      <th>stoptime</th>\n",
       "      <th>start station id</th>\n",
       "      <th>start station name</th>\n",
       "      <th>start station latitude</th>\n",
       "      <th>start station longitude</th>\n",
       "      <th>end station id</th>\n",
       "      <th>end station name</th>\n",
       "      <th>end station latitude</th>\n",
       "      <th>end station longitude</th>\n",
       "      <th>bikeid</th>\n",
       "      <th>usertype</th>\n",
       "      <th>birth year</th>\n",
       "      <th>gender</th>\n",
       "      <th>month</th>\n",
       "      <th>trip_dayofweek</th>\n",
       "      <th>trip_month</th>\n",
       "      <th>trip_hour</th>\n",
       "    </tr>\n",
       "  </thead>\n",
       "  <tbody>\n",
       "  </tbody>\n",
       "</table>\n",
       "</div>"
      ],
      "text/plain": [
       "Empty DataFrame\n",
       "Columns: [tripduration, starttime, stoptime, start station id, start station name, start station latitude, start station longitude, end station id, end station name, end station latitude, end station longitude, bikeid, usertype, birth year, gender, month, trip_dayofweek, trip_month, trip_hour]\n",
       "Index: []"
      ]
     },
     "execution_count": 26,
     "metadata": {},
     "output_type": "execute_result"
    }
   ],
   "source": [
    "citi[citi['end station name'].isnull()]"
   ]
  },
  {
   "cell_type": "code",
   "execution_count": 27,
   "metadata": {},
   "outputs": [
    {
     "data": {
      "text/html": [
       "<div>\n",
       "<style scoped>\n",
       "    .dataframe tbody tr th:only-of-type {\n",
       "        vertical-align: middle;\n",
       "    }\n",
       "\n",
       "    .dataframe tbody tr th {\n",
       "        vertical-align: top;\n",
       "    }\n",
       "\n",
       "    .dataframe thead th {\n",
       "        text-align: right;\n",
       "    }\n",
       "</style>\n",
       "<table border=\"1\" class=\"dataframe\">\n",
       "  <thead>\n",
       "    <tr style=\"text-align: right;\">\n",
       "      <th></th>\n",
       "      <th>tripduration</th>\n",
       "      <th>starttime</th>\n",
       "      <th>stoptime</th>\n",
       "      <th>start station id</th>\n",
       "      <th>start station name</th>\n",
       "      <th>start station latitude</th>\n",
       "      <th>start station longitude</th>\n",
       "      <th>end station id</th>\n",
       "      <th>end station name</th>\n",
       "      <th>end station latitude</th>\n",
       "      <th>end station longitude</th>\n",
       "      <th>bikeid</th>\n",
       "      <th>usertype</th>\n",
       "      <th>birth year</th>\n",
       "      <th>gender</th>\n",
       "      <th>month</th>\n",
       "      <th>trip_dayofweek</th>\n",
       "      <th>trip_month</th>\n",
       "      <th>trip_hour</th>\n",
       "    </tr>\n",
       "  </thead>\n",
       "  <tbody>\n",
       "    <tr>\n",
       "      <th>0</th>\n",
       "      <td>722</td>\n",
       "      <td>2019-04-11 19:59:53.437</td>\n",
       "      <td>2019-04-11 20:11:55.794</td>\n",
       "      <td>3307.0</td>\n",
       "      <td>West End Ave &amp; W 94 St</td>\n",
       "      <td>40.794165</td>\n",
       "      <td>-73.974124</td>\n",
       "      <td>3282.0</td>\n",
       "      <td>5 Ave &amp; E 88 St</td>\n",
       "      <td>40.783070</td>\n",
       "      <td>-73.959390</td>\n",
       "      <td>37575</td>\n",
       "      <td>Subscriber</td>\n",
       "      <td>1991</td>\n",
       "      <td>1</td>\n",
       "      <td>4</td>\n",
       "      <td>3</td>\n",
       "      <td>4</td>\n",
       "      <td>19</td>\n",
       "    </tr>\n",
       "    <tr>\n",
       "      <th>1</th>\n",
       "      <td>132</td>\n",
       "      <td>2019-08-07 16:24:51.345</td>\n",
       "      <td>2019-08-07 16:27:04.016</td>\n",
       "      <td>3389.0</td>\n",
       "      <td>Carroll St &amp; Columbia St</td>\n",
       "      <td>40.683046</td>\n",
       "      <td>-74.003486</td>\n",
       "      <td>3315.0</td>\n",
       "      <td>Henry St &amp; Degraw St</td>\n",
       "      <td>40.684751</td>\n",
       "      <td>-73.999173</td>\n",
       "      <td>24857</td>\n",
       "      <td>Subscriber</td>\n",
       "      <td>1990</td>\n",
       "      <td>1</td>\n",
       "      <td>8</td>\n",
       "      <td>2</td>\n",
       "      <td>8</td>\n",
       "      <td>16</td>\n",
       "    </tr>\n",
       "    <tr>\n",
       "      <th>2</th>\n",
       "      <td>111</td>\n",
       "      <td>2019-01-15 18:57:45.122</td>\n",
       "      <td>2019-01-15 18:59:37.066</td>\n",
       "      <td>3002.0</td>\n",
       "      <td>South End Ave &amp; Liberty St</td>\n",
       "      <td>40.711512</td>\n",
       "      <td>-74.015756</td>\n",
       "      <td>363.0</td>\n",
       "      <td>West Thames St</td>\n",
       "      <td>40.708347</td>\n",
       "      <td>-74.017134</td>\n",
       "      <td>15276</td>\n",
       "      <td>Subscriber</td>\n",
       "      <td>1980</td>\n",
       "      <td>1</td>\n",
       "      <td>1</td>\n",
       "      <td>1</td>\n",
       "      <td>1</td>\n",
       "      <td>18</td>\n",
       "    </tr>\n",
       "    <tr>\n",
       "      <th>3</th>\n",
       "      <td>717</td>\n",
       "      <td>2019-07-31 08:36:00.668</td>\n",
       "      <td>2019-07-31 08:47:58.442</td>\n",
       "      <td>3540.0</td>\n",
       "      <td>Morningside Ave &amp; W 123 St</td>\n",
       "      <td>40.810000</td>\n",
       "      <td>-73.955151</td>\n",
       "      <td>3331.0</td>\n",
       "      <td>Riverside Dr &amp; W 104 St</td>\n",
       "      <td>40.801343</td>\n",
       "      <td>-73.971146</td>\n",
       "      <td>34354</td>\n",
       "      <td>Subscriber</td>\n",
       "      <td>1967</td>\n",
       "      <td>1</td>\n",
       "      <td>7</td>\n",
       "      <td>2</td>\n",
       "      <td>7</td>\n",
       "      <td>8</td>\n",
       "    </tr>\n",
       "    <tr>\n",
       "      <th>4</th>\n",
       "      <td>1884</td>\n",
       "      <td>2019-09-04 18:50:58.136</td>\n",
       "      <td>2019-09-04 19:22:22.919</td>\n",
       "      <td>362.0</td>\n",
       "      <td>Broadway &amp; W 37 St</td>\n",
       "      <td>40.751726</td>\n",
       "      <td>-73.987535</td>\n",
       "      <td>3508.0</td>\n",
       "      <td>St Nicholas Ave &amp; Manhattan Ave</td>\n",
       "      <td>40.809725</td>\n",
       "      <td>-73.953149</td>\n",
       "      <td>38302</td>\n",
       "      <td>Subscriber</td>\n",
       "      <td>1963</td>\n",
       "      <td>1</td>\n",
       "      <td>9</td>\n",
       "      <td>2</td>\n",
       "      <td>9</td>\n",
       "      <td>18</td>\n",
       "    </tr>\n",
       "  </tbody>\n",
       "</table>\n",
       "</div>"
      ],
      "text/plain": [
       "   tripduration               starttime                stoptime  \\\n",
       "0           722 2019-04-11 19:59:53.437 2019-04-11 20:11:55.794   \n",
       "1           132 2019-08-07 16:24:51.345 2019-08-07 16:27:04.016   \n",
       "2           111 2019-01-15 18:57:45.122 2019-01-15 18:59:37.066   \n",
       "3           717 2019-07-31 08:36:00.668 2019-07-31 08:47:58.442   \n",
       "4          1884 2019-09-04 18:50:58.136 2019-09-04 19:22:22.919   \n",
       "\n",
       "   start station id          start station name  start station latitude  \\\n",
       "0            3307.0      West End Ave & W 94 St               40.794165   \n",
       "1            3389.0    Carroll St & Columbia St               40.683046   \n",
       "2            3002.0  South End Ave & Liberty St               40.711512   \n",
       "3            3540.0  Morningside Ave & W 123 St               40.810000   \n",
       "4             362.0          Broadway & W 37 St               40.751726   \n",
       "\n",
       "   start station longitude  end station id                 end station name  \\\n",
       "0               -73.974124          3282.0                  5 Ave & E 88 St   \n",
       "1               -74.003486          3315.0             Henry St & Degraw St   \n",
       "2               -74.015756           363.0                   West Thames St   \n",
       "3               -73.955151          3331.0          Riverside Dr & W 104 St   \n",
       "4               -73.987535          3508.0  St Nicholas Ave & Manhattan Ave   \n",
       "\n",
       "   end station latitude  end station longitude  bikeid    usertype  \\\n",
       "0             40.783070             -73.959390   37575  Subscriber   \n",
       "1             40.684751             -73.999173   24857  Subscriber   \n",
       "2             40.708347             -74.017134   15276  Subscriber   \n",
       "3             40.801343             -73.971146   34354  Subscriber   \n",
       "4             40.809725             -73.953149   38302  Subscriber   \n",
       "\n",
       "   birth year  gender  month  trip_dayofweek  trip_month  trip_hour  \n",
       "0        1991       1      4               3           4         19  \n",
       "1        1990       1      8               2           8         16  \n",
       "2        1980       1      1               1           1         18  \n",
       "3        1967       1      7               2           7          8  \n",
       "4        1963       1      9               2           9         18  "
      ]
     },
     "execution_count": 27,
     "metadata": {},
     "output_type": "execute_result"
    }
   ],
   "source": [
    "citi.head()"
   ]
  },
  {
   "cell_type": "code",
   "execution_count": 28,
   "metadata": {},
   "outputs": [],
   "source": [
    "#make age column\n",
    "citi['age']= 2019 - citi['birth year']"
   ]
  },
  {
   "cell_type": "code",
   "execution_count": 29,
   "metadata": {},
   "outputs": [],
   "source": [
    "#make trip duration from seconds to minutes\n",
    "citi['tripduration_mins']= citi['tripduration']/60"
   ]
  },
  {
   "cell_type": "markdown",
   "metadata": {},
   "source": [
    "# EDA"
   ]
  },
  {
   "cell_type": "code",
   "execution_count": 30,
   "metadata": {},
   "outputs": [
    {
     "data": {
      "text/plain": [
       "40939.71666666667"
      ]
     },
     "execution_count": 30,
     "metadata": {},
     "output_type": "execute_result"
    }
   ],
   "source": [
    "citi.tripduration_mins.max()"
   ]
  },
  {
   "cell_type": "code",
   "execution_count": 31,
   "metadata": {},
   "outputs": [
    {
     "data": {
      "text/plain": [
       "Pershing Square North            7596\n",
       "E 17 St & Broadway               5875\n",
       "8 Ave & W 31 St                  5849\n",
       "Broadway & E 22 St               5540\n",
       "Broadway & E 14 St               5501\n",
       "                                 ... \n",
       "Fairview Ave & Linden St            1\n",
       "Flushing Ave & Woodward Ave         1\n",
       "Hancock St & Wyckoff Ave            1\n",
       "Jefferson Ave & Evergreen Ave       1\n",
       "Menahan St & Onderdonk Ave          1\n",
       "Name: start station name, Length: 926, dtype: int64"
      ]
     },
     "execution_count": 31,
     "metadata": {},
     "output_type": "execute_result"
    }
   ],
   "source": [
    "citi['start station name'].value_counts()"
   ]
  },
  {
   "cell_type": "code",
   "execution_count": null,
   "metadata": {},
   "outputs": [],
   "source": []
  },
  {
   "cell_type": "code",
   "execution_count": 32,
   "metadata": {},
   "outputs": [
    {
     "data": {
      "text/html": [
       "<div>\n",
       "<style scoped>\n",
       "    .dataframe tbody tr th:only-of-type {\n",
       "        vertical-align: middle;\n",
       "    }\n",
       "\n",
       "    .dataframe tbody tr th {\n",
       "        vertical-align: top;\n",
       "    }\n",
       "\n",
       "    .dataframe thead th {\n",
       "        text-align: right;\n",
       "    }\n",
       "</style>\n",
       "<table border=\"1\" class=\"dataframe\">\n",
       "  <thead>\n",
       "    <tr style=\"text-align: right;\">\n",
       "      <th></th>\n",
       "      <th>tripduration</th>\n",
       "      <th>starttime</th>\n",
       "      <th>stoptime</th>\n",
       "      <th>start station id</th>\n",
       "      <th>start station latitude</th>\n",
       "      <th>start station longitude</th>\n",
       "      <th>end station id</th>\n",
       "      <th>end station name</th>\n",
       "      <th>end station latitude</th>\n",
       "      <th>end station longitude</th>\n",
       "      <th>bikeid</th>\n",
       "      <th>usertype</th>\n",
       "      <th>birth year</th>\n",
       "      <th>gender</th>\n",
       "      <th>month</th>\n",
       "      <th>trip_dayofweek</th>\n",
       "      <th>trip_month</th>\n",
       "      <th>trip_hour</th>\n",
       "      <th>age</th>\n",
       "      <th>tripduration_mins</th>\n",
       "    </tr>\n",
       "    <tr>\n",
       "      <th>start station name</th>\n",
       "      <th></th>\n",
       "      <th></th>\n",
       "      <th></th>\n",
       "      <th></th>\n",
       "      <th></th>\n",
       "      <th></th>\n",
       "      <th></th>\n",
       "      <th></th>\n",
       "      <th></th>\n",
       "      <th></th>\n",
       "      <th></th>\n",
       "      <th></th>\n",
       "      <th></th>\n",
       "      <th></th>\n",
       "      <th></th>\n",
       "      <th></th>\n",
       "      <th></th>\n",
       "      <th></th>\n",
       "      <th></th>\n",
       "      <th></th>\n",
       "    </tr>\n",
       "  </thead>\n",
       "  <tbody>\n",
       "    <tr>\n",
       "      <th>Pershing Square North</th>\n",
       "      <td>7596</td>\n",
       "      <td>7596</td>\n",
       "      <td>7596</td>\n",
       "      <td>7596</td>\n",
       "      <td>7596</td>\n",
       "      <td>7596</td>\n",
       "      <td>7596</td>\n",
       "      <td>7596</td>\n",
       "      <td>7596</td>\n",
       "      <td>7596</td>\n",
       "      <td>7596</td>\n",
       "      <td>7596</td>\n",
       "      <td>7596</td>\n",
       "      <td>7596</td>\n",
       "      <td>7596</td>\n",
       "      <td>7596</td>\n",
       "      <td>7596</td>\n",
       "      <td>7596</td>\n",
       "      <td>7596</td>\n",
       "      <td>7596</td>\n",
       "    </tr>\n",
       "    <tr>\n",
       "      <th>E 17 St &amp; Broadway</th>\n",
       "      <td>5875</td>\n",
       "      <td>5875</td>\n",
       "      <td>5875</td>\n",
       "      <td>5875</td>\n",
       "      <td>5875</td>\n",
       "      <td>5875</td>\n",
       "      <td>5875</td>\n",
       "      <td>5875</td>\n",
       "      <td>5875</td>\n",
       "      <td>5875</td>\n",
       "      <td>5875</td>\n",
       "      <td>5875</td>\n",
       "      <td>5875</td>\n",
       "      <td>5875</td>\n",
       "      <td>5875</td>\n",
       "      <td>5875</td>\n",
       "      <td>5875</td>\n",
       "      <td>5875</td>\n",
       "      <td>5875</td>\n",
       "      <td>5875</td>\n",
       "    </tr>\n",
       "    <tr>\n",
       "      <th>8 Ave &amp; W 31 St</th>\n",
       "      <td>5849</td>\n",
       "      <td>5849</td>\n",
       "      <td>5849</td>\n",
       "      <td>5849</td>\n",
       "      <td>5849</td>\n",
       "      <td>5849</td>\n",
       "      <td>5849</td>\n",
       "      <td>5849</td>\n",
       "      <td>5849</td>\n",
       "      <td>5849</td>\n",
       "      <td>5849</td>\n",
       "      <td>5849</td>\n",
       "      <td>5849</td>\n",
       "      <td>5849</td>\n",
       "      <td>5849</td>\n",
       "      <td>5849</td>\n",
       "      <td>5849</td>\n",
       "      <td>5849</td>\n",
       "      <td>5849</td>\n",
       "      <td>5849</td>\n",
       "    </tr>\n",
       "    <tr>\n",
       "      <th>Broadway &amp; E 22 St</th>\n",
       "      <td>5540</td>\n",
       "      <td>5540</td>\n",
       "      <td>5540</td>\n",
       "      <td>5540</td>\n",
       "      <td>5540</td>\n",
       "      <td>5540</td>\n",
       "      <td>5540</td>\n",
       "      <td>5540</td>\n",
       "      <td>5540</td>\n",
       "      <td>5540</td>\n",
       "      <td>5540</td>\n",
       "      <td>5540</td>\n",
       "      <td>5540</td>\n",
       "      <td>5540</td>\n",
       "      <td>5540</td>\n",
       "      <td>5540</td>\n",
       "      <td>5540</td>\n",
       "      <td>5540</td>\n",
       "      <td>5540</td>\n",
       "      <td>5540</td>\n",
       "    </tr>\n",
       "    <tr>\n",
       "      <th>Broadway &amp; E 14 St</th>\n",
       "      <td>5501</td>\n",
       "      <td>5501</td>\n",
       "      <td>5501</td>\n",
       "      <td>5501</td>\n",
       "      <td>5501</td>\n",
       "      <td>5501</td>\n",
       "      <td>5501</td>\n",
       "      <td>5501</td>\n",
       "      <td>5501</td>\n",
       "      <td>5501</td>\n",
       "      <td>5501</td>\n",
       "      <td>5501</td>\n",
       "      <td>5501</td>\n",
       "      <td>5501</td>\n",
       "      <td>5501</td>\n",
       "      <td>5501</td>\n",
       "      <td>5501</td>\n",
       "      <td>5501</td>\n",
       "      <td>5501</td>\n",
       "      <td>5501</td>\n",
       "    </tr>\n",
       "    <tr>\n",
       "      <th>W 21 St &amp; 6 Ave</th>\n",
       "      <td>5380</td>\n",
       "      <td>5380</td>\n",
       "      <td>5380</td>\n",
       "      <td>5380</td>\n",
       "      <td>5380</td>\n",
       "      <td>5380</td>\n",
       "      <td>5380</td>\n",
       "      <td>5380</td>\n",
       "      <td>5380</td>\n",
       "      <td>5380</td>\n",
       "      <td>5380</td>\n",
       "      <td>5380</td>\n",
       "      <td>5380</td>\n",
       "      <td>5380</td>\n",
       "      <td>5380</td>\n",
       "      <td>5380</td>\n",
       "      <td>5380</td>\n",
       "      <td>5380</td>\n",
       "      <td>5380</td>\n",
       "      <td>5380</td>\n",
       "    </tr>\n",
       "    <tr>\n",
       "      <th>West St &amp; Chambers St</th>\n",
       "      <td>5133</td>\n",
       "      <td>5133</td>\n",
       "      <td>5133</td>\n",
       "      <td>5133</td>\n",
       "      <td>5133</td>\n",
       "      <td>5133</td>\n",
       "      <td>5133</td>\n",
       "      <td>5133</td>\n",
       "      <td>5133</td>\n",
       "      <td>5133</td>\n",
       "      <td>5133</td>\n",
       "      <td>5133</td>\n",
       "      <td>5133</td>\n",
       "      <td>5133</td>\n",
       "      <td>5133</td>\n",
       "      <td>5133</td>\n",
       "      <td>5133</td>\n",
       "      <td>5133</td>\n",
       "      <td>5133</td>\n",
       "      <td>5133</td>\n",
       "    </tr>\n",
       "    <tr>\n",
       "      <th>Broadway &amp; W 60 St</th>\n",
       "      <td>5011</td>\n",
       "      <td>5011</td>\n",
       "      <td>5011</td>\n",
       "      <td>5011</td>\n",
       "      <td>5011</td>\n",
       "      <td>5011</td>\n",
       "      <td>5011</td>\n",
       "      <td>5011</td>\n",
       "      <td>5011</td>\n",
       "      <td>5011</td>\n",
       "      <td>5011</td>\n",
       "      <td>5011</td>\n",
       "      <td>5011</td>\n",
       "      <td>5011</td>\n",
       "      <td>5011</td>\n",
       "      <td>5011</td>\n",
       "      <td>5011</td>\n",
       "      <td>5011</td>\n",
       "      <td>5011</td>\n",
       "      <td>5011</td>\n",
       "    </tr>\n",
       "    <tr>\n",
       "      <th>Christopher St &amp; Greenwich St</th>\n",
       "      <td>4929</td>\n",
       "      <td>4929</td>\n",
       "      <td>4929</td>\n",
       "      <td>4929</td>\n",
       "      <td>4929</td>\n",
       "      <td>4929</td>\n",
       "      <td>4929</td>\n",
       "      <td>4929</td>\n",
       "      <td>4929</td>\n",
       "      <td>4929</td>\n",
       "      <td>4929</td>\n",
       "      <td>4929</td>\n",
       "      <td>4929</td>\n",
       "      <td>4929</td>\n",
       "      <td>4929</td>\n",
       "      <td>4929</td>\n",
       "      <td>4929</td>\n",
       "      <td>4929</td>\n",
       "      <td>4929</td>\n",
       "      <td>4929</td>\n",
       "    </tr>\n",
       "    <tr>\n",
       "      <th>W 20 St &amp; 11 Ave</th>\n",
       "      <td>4821</td>\n",
       "      <td>4821</td>\n",
       "      <td>4821</td>\n",
       "      <td>4821</td>\n",
       "      <td>4821</td>\n",
       "      <td>4821</td>\n",
       "      <td>4821</td>\n",
       "      <td>4821</td>\n",
       "      <td>4821</td>\n",
       "      <td>4821</td>\n",
       "      <td>4821</td>\n",
       "      <td>4821</td>\n",
       "      <td>4821</td>\n",
       "      <td>4821</td>\n",
       "      <td>4821</td>\n",
       "      <td>4821</td>\n",
       "      <td>4821</td>\n",
       "      <td>4821</td>\n",
       "      <td>4821</td>\n",
       "      <td>4821</td>\n",
       "    </tr>\n",
       "  </tbody>\n",
       "</table>\n",
       "</div>"
      ],
      "text/plain": [
       "                               tripduration  starttime  stoptime  \\\n",
       "start station name                                                 \n",
       "Pershing Square North                  7596       7596      7596   \n",
       "E 17 St & Broadway                     5875       5875      5875   \n",
       "8 Ave & W 31 St                        5849       5849      5849   \n",
       "Broadway & E 22 St                     5540       5540      5540   \n",
       "Broadway & E 14 St                     5501       5501      5501   \n",
       "W 21 St & 6 Ave                        5380       5380      5380   \n",
       "West St & Chambers St                  5133       5133      5133   \n",
       "Broadway & W 60 St                     5011       5011      5011   \n",
       "Christopher St & Greenwich St          4929       4929      4929   \n",
       "W 20 St & 11 Ave                       4821       4821      4821   \n",
       "\n",
       "                               start station id  start station latitude  \\\n",
       "start station name                                                        \n",
       "Pershing Square North                      7596                    7596   \n",
       "E 17 St & Broadway                         5875                    5875   \n",
       "8 Ave & W 31 St                            5849                    5849   \n",
       "Broadway & E 22 St                         5540                    5540   \n",
       "Broadway & E 14 St                         5501                    5501   \n",
       "W 21 St & 6 Ave                            5380                    5380   \n",
       "West St & Chambers St                      5133                    5133   \n",
       "Broadway & W 60 St                         5011                    5011   \n",
       "Christopher St & Greenwich St              4929                    4929   \n",
       "W 20 St & 11 Ave                           4821                    4821   \n",
       "\n",
       "                               start station longitude  end station id  \\\n",
       "start station name                                                       \n",
       "Pershing Square North                             7596            7596   \n",
       "E 17 St & Broadway                                5875            5875   \n",
       "8 Ave & W 31 St                                   5849            5849   \n",
       "Broadway & E 22 St                                5540            5540   \n",
       "Broadway & E 14 St                                5501            5501   \n",
       "W 21 St & 6 Ave                                   5380            5380   \n",
       "West St & Chambers St                             5133            5133   \n",
       "Broadway & W 60 St                                5011            5011   \n",
       "Christopher St & Greenwich St                     4929            4929   \n",
       "W 20 St & 11 Ave                                  4821            4821   \n",
       "\n",
       "                               end station name  end station latitude  \\\n",
       "start station name                                                      \n",
       "Pershing Square North                      7596                  7596   \n",
       "E 17 St & Broadway                         5875                  5875   \n",
       "8 Ave & W 31 St                            5849                  5849   \n",
       "Broadway & E 22 St                         5540                  5540   \n",
       "Broadway & E 14 St                         5501                  5501   \n",
       "W 21 St & 6 Ave                            5380                  5380   \n",
       "West St & Chambers St                      5133                  5133   \n",
       "Broadway & W 60 St                         5011                  5011   \n",
       "Christopher St & Greenwich St              4929                  4929   \n",
       "W 20 St & 11 Ave                           4821                  4821   \n",
       "\n",
       "                               end station longitude  bikeid  usertype  \\\n",
       "start station name                                                       \n",
       "Pershing Square North                           7596    7596      7596   \n",
       "E 17 St & Broadway                              5875    5875      5875   \n",
       "8 Ave & W 31 St                                 5849    5849      5849   \n",
       "Broadway & E 22 St                              5540    5540      5540   \n",
       "Broadway & E 14 St                              5501    5501      5501   \n",
       "W 21 St & 6 Ave                                 5380    5380      5380   \n",
       "West St & Chambers St                           5133    5133      5133   \n",
       "Broadway & W 60 St                              5011    5011      5011   \n",
       "Christopher St & Greenwich St                   4929    4929      4929   \n",
       "W 20 St & 11 Ave                                4821    4821      4821   \n",
       "\n",
       "                               birth year  gender  month  trip_dayofweek  \\\n",
       "start station name                                                         \n",
       "Pershing Square North                7596    7596   7596            7596   \n",
       "E 17 St & Broadway                   5875    5875   5875            5875   \n",
       "8 Ave & W 31 St                      5849    5849   5849            5849   \n",
       "Broadway & E 22 St                   5540    5540   5540            5540   \n",
       "Broadway & E 14 St                   5501    5501   5501            5501   \n",
       "W 21 St & 6 Ave                      5380    5380   5380            5380   \n",
       "West St & Chambers St                5133    5133   5133            5133   \n",
       "Broadway & W 60 St                   5011    5011   5011            5011   \n",
       "Christopher St & Greenwich St        4929    4929   4929            4929   \n",
       "W 20 St & 11 Ave                     4821    4821   4821            4821   \n",
       "\n",
       "                               trip_month  trip_hour   age  tripduration_mins  \n",
       "start station name                                                             \n",
       "Pershing Square North                7596       7596  7596               7596  \n",
       "E 17 St & Broadway                   5875       5875  5875               5875  \n",
       "8 Ave & W 31 St                      5849       5849  5849               5849  \n",
       "Broadway & E 22 St                   5540       5540  5540               5540  \n",
       "Broadway & E 14 St                   5501       5501  5501               5501  \n",
       "W 21 St & 6 Ave                      5380       5380  5380               5380  \n",
       "West St & Chambers St                5133       5133  5133               5133  \n",
       "Broadway & W 60 St                   5011       5011  5011               5011  \n",
       "Christopher St & Greenwich St        4929       4929  4929               4929  \n",
       "W 20 St & 11 Ave                     4821       4821  4821               4821  "
      ]
     },
     "execution_count": 32,
     "metadata": {},
     "output_type": "execute_result"
    }
   ],
   "source": [
    "#most popular starting stations\n",
    "citi.groupby('start station name').count().sort_values(by='age', ascending=False).head(10)"
   ]
  },
  {
   "cell_type": "code",
   "execution_count": 33,
   "metadata": {},
   "outputs": [
    {
     "data": {
      "text/html": [
       "<div>\n",
       "<style scoped>\n",
       "    .dataframe tbody tr th:only-of-type {\n",
       "        vertical-align: middle;\n",
       "    }\n",
       "\n",
       "    .dataframe tbody tr th {\n",
       "        vertical-align: top;\n",
       "    }\n",
       "\n",
       "    .dataframe thead th {\n",
       "        text-align: right;\n",
       "    }\n",
       "</style>\n",
       "<table border=\"1\" class=\"dataframe\">\n",
       "  <thead>\n",
       "    <tr style=\"text-align: right;\">\n",
       "      <th></th>\n",
       "      <th>tripduration</th>\n",
       "      <th>starttime</th>\n",
       "      <th>stoptime</th>\n",
       "      <th>start station id</th>\n",
       "      <th>start station name</th>\n",
       "      <th>start station latitude</th>\n",
       "      <th>start station longitude</th>\n",
       "      <th>end station name</th>\n",
       "      <th>end station latitude</th>\n",
       "      <th>end station longitude</th>\n",
       "      <th>bikeid</th>\n",
       "      <th>usertype</th>\n",
       "      <th>birth year</th>\n",
       "      <th>gender</th>\n",
       "      <th>month</th>\n",
       "      <th>trip_dayofweek</th>\n",
       "      <th>trip_month</th>\n",
       "      <th>trip_hour</th>\n",
       "      <th>age</th>\n",
       "      <th>tripduration_mins</th>\n",
       "    </tr>\n",
       "    <tr>\n",
       "      <th>end station id</th>\n",
       "      <th></th>\n",
       "      <th></th>\n",
       "      <th></th>\n",
       "      <th></th>\n",
       "      <th></th>\n",
       "      <th></th>\n",
       "      <th></th>\n",
       "      <th></th>\n",
       "      <th></th>\n",
       "      <th></th>\n",
       "      <th></th>\n",
       "      <th></th>\n",
       "      <th></th>\n",
       "      <th></th>\n",
       "      <th></th>\n",
       "      <th></th>\n",
       "      <th></th>\n",
       "      <th></th>\n",
       "      <th></th>\n",
       "      <th></th>\n",
       "    </tr>\n",
       "  </thead>\n",
       "  <tbody>\n",
       "    <tr>\n",
       "      <th>519.0</th>\n",
       "      <td>7633</td>\n",
       "      <td>7633</td>\n",
       "      <td>7633</td>\n",
       "      <td>7633</td>\n",
       "      <td>7633</td>\n",
       "      <td>7633</td>\n",
       "      <td>7633</td>\n",
       "      <td>7633</td>\n",
       "      <td>7633</td>\n",
       "      <td>7633</td>\n",
       "      <td>7633</td>\n",
       "      <td>7633</td>\n",
       "      <td>7633</td>\n",
       "      <td>7633</td>\n",
       "      <td>7633</td>\n",
       "      <td>7633</td>\n",
       "      <td>7633</td>\n",
       "      <td>7633</td>\n",
       "      <td>7633</td>\n",
       "      <td>7633</td>\n",
       "    </tr>\n",
       "    <tr>\n",
       "      <th>497.0</th>\n",
       "      <td>6243</td>\n",
       "      <td>6243</td>\n",
       "      <td>6243</td>\n",
       "      <td>6243</td>\n",
       "      <td>6243</td>\n",
       "      <td>6243</td>\n",
       "      <td>6243</td>\n",
       "      <td>6243</td>\n",
       "      <td>6243</td>\n",
       "      <td>6243</td>\n",
       "      <td>6243</td>\n",
       "      <td>6243</td>\n",
       "      <td>6243</td>\n",
       "      <td>6243</td>\n",
       "      <td>6243</td>\n",
       "      <td>6243</td>\n",
       "      <td>6243</td>\n",
       "      <td>6243</td>\n",
       "      <td>6243</td>\n",
       "      <td>6243</td>\n",
       "    </tr>\n",
       "    <tr>\n",
       "      <th>3255.0</th>\n",
       "      <td>5985</td>\n",
       "      <td>5985</td>\n",
       "      <td>5985</td>\n",
       "      <td>5985</td>\n",
       "      <td>5985</td>\n",
       "      <td>5985</td>\n",
       "      <td>5985</td>\n",
       "      <td>5985</td>\n",
       "      <td>5985</td>\n",
       "      <td>5985</td>\n",
       "      <td>5985</td>\n",
       "      <td>5985</td>\n",
       "      <td>5985</td>\n",
       "      <td>5985</td>\n",
       "      <td>5985</td>\n",
       "      <td>5985</td>\n",
       "      <td>5985</td>\n",
       "      <td>5985</td>\n",
       "      <td>5985</td>\n",
       "      <td>5985</td>\n",
       "    </tr>\n",
       "    <tr>\n",
       "      <th>402.0</th>\n",
       "      <td>5953</td>\n",
       "      <td>5953</td>\n",
       "      <td>5953</td>\n",
       "      <td>5953</td>\n",
       "      <td>5953</td>\n",
       "      <td>5953</td>\n",
       "      <td>5953</td>\n",
       "      <td>5953</td>\n",
       "      <td>5953</td>\n",
       "      <td>5953</td>\n",
       "      <td>5953</td>\n",
       "      <td>5953</td>\n",
       "      <td>5953</td>\n",
       "      <td>5953</td>\n",
       "      <td>5953</td>\n",
       "      <td>5953</td>\n",
       "      <td>5953</td>\n",
       "      <td>5953</td>\n",
       "      <td>5953</td>\n",
       "      <td>5953</td>\n",
       "    </tr>\n",
       "    <tr>\n",
       "      <th>426.0</th>\n",
       "      <td>5575</td>\n",
       "      <td>5575</td>\n",
       "      <td>5575</td>\n",
       "      <td>5575</td>\n",
       "      <td>5575</td>\n",
       "      <td>5575</td>\n",
       "      <td>5575</td>\n",
       "      <td>5575</td>\n",
       "      <td>5575</td>\n",
       "      <td>5575</td>\n",
       "      <td>5575</td>\n",
       "      <td>5575</td>\n",
       "      <td>5575</td>\n",
       "      <td>5575</td>\n",
       "      <td>5575</td>\n",
       "      <td>5575</td>\n",
       "      <td>5575</td>\n",
       "      <td>5575</td>\n",
       "      <td>5575</td>\n",
       "      <td>5575</td>\n",
       "    </tr>\n",
       "    <tr>\n",
       "      <th>285.0</th>\n",
       "      <td>5500</td>\n",
       "      <td>5500</td>\n",
       "      <td>5500</td>\n",
       "      <td>5500</td>\n",
       "      <td>5500</td>\n",
       "      <td>5500</td>\n",
       "      <td>5500</td>\n",
       "      <td>5500</td>\n",
       "      <td>5500</td>\n",
       "      <td>5500</td>\n",
       "      <td>5500</td>\n",
       "      <td>5500</td>\n",
       "      <td>5500</td>\n",
       "      <td>5500</td>\n",
       "      <td>5500</td>\n",
       "      <td>5500</td>\n",
       "      <td>5500</td>\n",
       "      <td>5500</td>\n",
       "      <td>5500</td>\n",
       "      <td>5500</td>\n",
       "    </tr>\n",
       "    <tr>\n",
       "      <th>435.0</th>\n",
       "      <td>5457</td>\n",
       "      <td>5457</td>\n",
       "      <td>5457</td>\n",
       "      <td>5457</td>\n",
       "      <td>5457</td>\n",
       "      <td>5457</td>\n",
       "      <td>5457</td>\n",
       "      <td>5457</td>\n",
       "      <td>5457</td>\n",
       "      <td>5457</td>\n",
       "      <td>5457</td>\n",
       "      <td>5457</td>\n",
       "      <td>5457</td>\n",
       "      <td>5457</td>\n",
       "      <td>5457</td>\n",
       "      <td>5457</td>\n",
       "      <td>5457</td>\n",
       "      <td>5457</td>\n",
       "      <td>5457</td>\n",
       "      <td>5457</td>\n",
       "    </tr>\n",
       "    <tr>\n",
       "      <th>358.0</th>\n",
       "      <td>4990</td>\n",
       "      <td>4990</td>\n",
       "      <td>4990</td>\n",
       "      <td>4990</td>\n",
       "      <td>4990</td>\n",
       "      <td>4990</td>\n",
       "      <td>4990</td>\n",
       "      <td>4990</td>\n",
       "      <td>4990</td>\n",
       "      <td>4990</td>\n",
       "      <td>4990</td>\n",
       "      <td>4990</td>\n",
       "      <td>4990</td>\n",
       "      <td>4990</td>\n",
       "      <td>4990</td>\n",
       "      <td>4990</td>\n",
       "      <td>4990</td>\n",
       "      <td>4990</td>\n",
       "      <td>4990</td>\n",
       "      <td>4990</td>\n",
       "    </tr>\n",
       "    <tr>\n",
       "      <th>514.0</th>\n",
       "      <td>4972</td>\n",
       "      <td>4972</td>\n",
       "      <td>4972</td>\n",
       "      <td>4972</td>\n",
       "      <td>4972</td>\n",
       "      <td>4972</td>\n",
       "      <td>4972</td>\n",
       "      <td>4972</td>\n",
       "      <td>4972</td>\n",
       "      <td>4972</td>\n",
       "      <td>4972</td>\n",
       "      <td>4972</td>\n",
       "      <td>4972</td>\n",
       "      <td>4972</td>\n",
       "      <td>4972</td>\n",
       "      <td>4972</td>\n",
       "      <td>4972</td>\n",
       "      <td>4972</td>\n",
       "      <td>4972</td>\n",
       "      <td>4972</td>\n",
       "    </tr>\n",
       "    <tr>\n",
       "      <th>459.0</th>\n",
       "      <td>4911</td>\n",
       "      <td>4911</td>\n",
       "      <td>4911</td>\n",
       "      <td>4911</td>\n",
       "      <td>4911</td>\n",
       "      <td>4911</td>\n",
       "      <td>4911</td>\n",
       "      <td>4911</td>\n",
       "      <td>4911</td>\n",
       "      <td>4911</td>\n",
       "      <td>4911</td>\n",
       "      <td>4911</td>\n",
       "      <td>4911</td>\n",
       "      <td>4911</td>\n",
       "      <td>4911</td>\n",
       "      <td>4911</td>\n",
       "      <td>4911</td>\n",
       "      <td>4911</td>\n",
       "      <td>4911</td>\n",
       "      <td>4911</td>\n",
       "    </tr>\n",
       "  </tbody>\n",
       "</table>\n",
       "</div>"
      ],
      "text/plain": [
       "                tripduration  starttime  stoptime  start station id  \\\n",
       "end station id                                                        \n",
       "519.0                   7633       7633      7633              7633   \n",
       "497.0                   6243       6243      6243              6243   \n",
       "3255.0                  5985       5985      5985              5985   \n",
       "402.0                   5953       5953      5953              5953   \n",
       "426.0                   5575       5575      5575              5575   \n",
       "285.0                   5500       5500      5500              5500   \n",
       "435.0                   5457       5457      5457              5457   \n",
       "358.0                   4990       4990      4990              4990   \n",
       "514.0                   4972       4972      4972              4972   \n",
       "459.0                   4911       4911      4911              4911   \n",
       "\n",
       "                start station name  start station latitude  \\\n",
       "end station id                                               \n",
       "519.0                         7633                    7633   \n",
       "497.0                         6243                    6243   \n",
       "3255.0                        5985                    5985   \n",
       "402.0                         5953                    5953   \n",
       "426.0                         5575                    5575   \n",
       "285.0                         5500                    5500   \n",
       "435.0                         5457                    5457   \n",
       "358.0                         4990                    4990   \n",
       "514.0                         4972                    4972   \n",
       "459.0                         4911                    4911   \n",
       "\n",
       "                start station longitude  end station name  \\\n",
       "end station id                                              \n",
       "519.0                              7633              7633   \n",
       "497.0                              6243              6243   \n",
       "3255.0                             5985              5985   \n",
       "402.0                              5953              5953   \n",
       "426.0                              5575              5575   \n",
       "285.0                              5500              5500   \n",
       "435.0                              5457              5457   \n",
       "358.0                              4990              4990   \n",
       "514.0                              4972              4972   \n",
       "459.0                              4911              4911   \n",
       "\n",
       "                end station latitude  end station longitude  bikeid  usertype  \\\n",
       "end station id                                                                  \n",
       "519.0                           7633                   7633    7633      7633   \n",
       "497.0                           6243                   6243    6243      6243   \n",
       "3255.0                          5985                   5985    5985      5985   \n",
       "402.0                           5953                   5953    5953      5953   \n",
       "426.0                           5575                   5575    5575      5575   \n",
       "285.0                           5500                   5500    5500      5500   \n",
       "435.0                           5457                   5457    5457      5457   \n",
       "358.0                           4990                   4990    4990      4990   \n",
       "514.0                           4972                   4972    4972      4972   \n",
       "459.0                           4911                   4911    4911      4911   \n",
       "\n",
       "                birth year  gender  month  trip_dayofweek  trip_month  \\\n",
       "end station id                                                          \n",
       "519.0                 7633    7633   7633            7633        7633   \n",
       "497.0                 6243    6243   6243            6243        6243   \n",
       "3255.0                5985    5985   5985            5985        5985   \n",
       "402.0                 5953    5953   5953            5953        5953   \n",
       "426.0                 5575    5575   5575            5575        5575   \n",
       "285.0                 5500    5500   5500            5500        5500   \n",
       "435.0                 5457    5457   5457            5457        5457   \n",
       "358.0                 4990    4990   4990            4990        4990   \n",
       "514.0                 4972    4972   4972            4972        4972   \n",
       "459.0                 4911    4911   4911            4911        4911   \n",
       "\n",
       "                trip_hour   age  tripduration_mins  \n",
       "end station id                                      \n",
       "519.0                7633  7633               7633  \n",
       "497.0                6243  6243               6243  \n",
       "3255.0               5985  5985               5985  \n",
       "402.0                5953  5953               5953  \n",
       "426.0                5575  5575               5575  \n",
       "285.0                5500  5500               5500  \n",
       "435.0                5457  5457               5457  \n",
       "358.0                4990  4990               4990  \n",
       "514.0                4972  4972               4972  \n",
       "459.0                4911  4911               4911  "
      ]
     },
     "execution_count": 33,
     "metadata": {},
     "output_type": "execute_result"
    }
   ],
   "source": [
    "#most popular ending stations\n",
    "citi.groupby('end station id').count().sort_values(by='age', ascending=False).head(10)"
   ]
  },
  {
   "cell_type": "code",
   "execution_count": 34,
   "metadata": {},
   "outputs": [
    {
     "data": {
      "text/plain": [
       "2.3560854185772304"
      ]
     },
     "execution_count": 34,
     "metadata": {},
     "output_type": "execute_result"
    }
   ],
   "source": [
    "citi[citi['end station name']== 'Pershing Square North']['trip_dayofweek'].mean()"
   ]
  },
  {
   "cell_type": "code",
   "execution_count": 35,
   "metadata": {},
   "outputs": [
    {
     "data": {
      "text/plain": [
       "2.8920062517445735"
      ]
     },
     "execution_count": 35,
     "metadata": {},
     "output_type": "execute_result"
    }
   ],
   "source": [
    "citi[citi['end station name']!= 'Pershing Square North']['trip_dayofweek'].mean()"
   ]
  },
  {
   "cell_type": "code",
   "execution_count": 36,
   "metadata": {},
   "outputs": [
    {
     "data": {
      "text/plain": [
       "<matplotlib.axes._subplots.AxesSubplot at 0x7fc2fb7dae20>"
      ]
     },
     "execution_count": 36,
     "metadata": {},
     "output_type": "execute_result"
    },
    {
     "data": {
      "image/png": "[encoded data removed]",
      "text/plain": [
       "<Figure size 432x288 with 1 Axes>"
      ]
     },
     "metadata": {
      "needs_background": "light"
     },
     "output_type": "display_data"
    }
   ],
   "source": [
    "sns.countplot(x= 'trip_dayofweek' , data=citi[citi['end station name']== 'Pershing Square North'])"
   ]
  },
  {
   "cell_type": "code",
   "execution_count": 37,
   "metadata": {},
   "outputs": [
    {
     "data": {
      "text/plain": [
       "<matplotlib.axes._subplots.AxesSubplot at 0x7fc2a9ab90a0>"
      ]
     },
     "execution_count": 37,
     "metadata": {},
     "output_type": "execute_result"
    },
    {
     "data": {
      "image/png": "[encoded data removed]",
      "text/plain": [
       "<Figure size 432x288 with 1 Axes>"
      ]
     },
     "metadata": {
      "needs_background": "light"
     },
     "output_type": "display_data"
    }
   ],
   "source": [
    "#day of the week could be helpful to the model\n",
    "sns.countplot(x= 'trip_dayofweek' , data=citi[citi['end station name']!= 'Pershing Square North'])"
   ]
  },
  {
   "cell_type": "code",
   "execution_count": 38,
   "metadata": {},
   "outputs": [
    {
     "data": {
      "text/plain": [
       "2.868652891238187"
      ]
     },
     "execution_count": 38,
     "metadata": {},
     "output_type": "execute_result"
    }
   ],
   "source": [
    "citi[citi['end station name']== 'E 17 St & Broadway']['trip_dayofweek'].mean()"
   ]
  },
  {
   "cell_type": "code",
   "execution_count": 39,
   "metadata": {},
   "outputs": [
    {
     "data": {
      "text/plain": [
       "2.8880365644179187"
      ]
     },
     "execution_count": 39,
     "metadata": {},
     "output_type": "execute_result"
    }
   ],
   "source": [
    "citi[citi['end station name']!= 'E 17 St & Broadway']['trip_dayofweek'].mean()"
   ]
  },
  {
   "cell_type": "code",
   "execution_count": 40,
   "metadata": {},
   "outputs": [
    {
     "data": {
      "text/plain": [
       "<matplotlib.axes._subplots.AxesSubplot at 0x7fc2ae79e520>"
      ]
     },
     "execution_count": 40,
     "metadata": {},
     "output_type": "execute_result"
    },
    {
     "data": {
      "image/png": "[encoded data removed]",
      "text/plain": [
       "<Figure size 432x288 with 1 Axes>"
      ]
     },
     "metadata": {
      "needs_background": "light"
     },
     "output_type": "display_data"
    }
   ],
   "source": [
    "sns.countplot(x= 'trip_dayofweek' , data=citi[citi['end station name']== 'E 17 St & Broadway'])"
   ]
  },
  {
   "cell_type": "code",
   "execution_count": 41,
   "metadata": {},
   "outputs": [
    {
     "data": {
      "text/plain": [
       "<matplotlib.axes._subplots.AxesSubplot at 0x7fc290165190>"
      ]
     },
     "execution_count": 41,
     "metadata": {},
     "output_type": "execute_result"
    },
    {
     "data": {
      "image/png": "[encoded data removed]",
      "text/plain": [
       "<Figure size 432x288 with 1 Axes>"
      ]
     },
     "metadata": {
      "needs_background": "light"
     },
     "output_type": "display_data"
    }
   ],
   "source": [
    "sns.countplot(x= 'trip_dayofweek' , data=citi[citi['end station name']!= 'E 17 St & Broadway'])"
   ]
  },
  {
   "cell_type": "code",
   "execution_count": 42,
   "metadata": {},
   "outputs": [
    {
     "data": {
      "text/plain": [
       "2.5432555014278515"
      ]
     },
     "execution_count": 42,
     "metadata": {},
     "output_type": "execute_result"
    }
   ],
   "source": [
    "citi[citi['end station name']== 'Broadway & E 22 St']['trip_dayofweek'].mean()"
   ]
  },
  {
   "cell_type": "code",
   "execution_count": 43,
   "metadata": {},
   "outputs": [
    {
     "data": {
      "text/plain": [
       "2.889979608528001"
      ]
     },
     "execution_count": 43,
     "metadata": {},
     "output_type": "execute_result"
    }
   ],
   "source": [
    "citi[citi['end station name']!= 'Broadway & E 22 St']['trip_dayofweek'].mean()"
   ]
  },
  {
   "cell_type": "code",
   "execution_count": 44,
   "metadata": {},
   "outputs": [
    {
     "data": {
      "text/plain": [
       "<matplotlib.axes._subplots.AxesSubplot at 0x7fc2aa5f5070>"
      ]
     },
     "execution_count": 44,
     "metadata": {},
     "output_type": "execute_result"
    },
    {
     "data": {
      "image/png": "[encoded data removed]",
      "text/plain": [
       "<Figure size 432x288 with 1 Axes>"
      ]
     },
     "metadata": {
      "needs_background": "light"
     },
     "output_type": "display_data"
    }
   ],
   "source": [
    "sns.countplot(x= 'trip_dayofweek' , data=citi[citi['end station name']== 'Broadway & E 22 St'])"
   ]
  },
  {
   "cell_type": "code",
   "execution_count": 45,
   "metadata": {},
   "outputs": [
    {
     "data": {
      "text/plain": [
       "<matplotlib.axes._subplots.AxesSubplot at 0x7fc29dcea460>"
      ]
     },
     "execution_count": 45,
     "metadata": {},
     "output_type": "execute_result"
    },
    {
     "data": {
      "image/png": "[encoded data removed]",
      "text/plain": [
       "<Figure size 432x288 with 1 Axes>"
      ]
     },
     "metadata": {
      "needs_background": "light"
     },
     "output_type": "display_data"
    }
   ],
   "source": [
    "sns.countplot(x= 'trip_dayofweek' , data=citi[citi['end station name']!= 'Broadway & E 22 St'])"
   ]
  },
  {
   "cell_type": "code",
   "execution_count": 46,
   "metadata": {},
   "outputs": [],
   "source": [
    "#8 Ave & W 31 St"
   ]
  },
  {
   "cell_type": "code",
   "execution_count": 47,
   "metadata": {},
   "outputs": [
    {
     "data": {
      "text/plain": [
       "2.459816207184628"
      ]
     },
     "execution_count": 47,
     "metadata": {},
     "output_type": "execute_result"
    }
   ],
   "source": [
    "citi[citi['end station name']== '8 Ave & W 31 St']['trip_dayofweek'].mean()"
   ]
  },
  {
   "cell_type": "code",
   "execution_count": 48,
   "metadata": {},
   "outputs": [
    {
     "data": {
      "text/plain": [
       "2.89049316355654"
      ]
     },
     "execution_count": 48,
     "metadata": {},
     "output_type": "execute_result"
    }
   ],
   "source": [
    "citi[citi['end station name']!= '8 Ave & W 31 St']['trip_dayofweek'].mean()"
   ]
  },
  {
   "cell_type": "code",
   "execution_count": 49,
   "metadata": {},
   "outputs": [
    {
     "data": {
      "text/plain": [
       "<matplotlib.axes._subplots.AxesSubplot at 0x7fc2966df0a0>"
      ]
     },
     "execution_count": 49,
     "metadata": {},
     "output_type": "execute_result"
    },
    {
     "data": {
      "image/png": "[encoded data removed]",
      "text/plain": [
       "<Figure size 432x288 with 1 Axes>"
      ]
     },
     "metadata": {
      "needs_background": "light"
     },
     "output_type": "display_data"
    }
   ],
   "source": [
    "sns.countplot(x= 'trip_dayofweek' , data=citi[citi['end station name']== '8 Ave & W 31 St'])"
   ]
  },
  {
   "cell_type": "code",
   "execution_count": 50,
   "metadata": {},
   "outputs": [
    {
     "data": {
      "text/plain": [
       "<matplotlib.axes._subplots.AxesSubplot at 0x7fc27c77a970>"
      ]
     },
     "execution_count": 50,
     "metadata": {},
     "output_type": "execute_result"
    },
    {
     "data": {
      "image/png": "[encoded data removed]",
      "text/plain": [
       "<Figure size 432x288 with 1 Axes>"
      ]
     },
     "metadata": {
      "needs_background": "light"
     },
     "output_type": "display_data"
    }
   ],
   "source": [
    "sns.countplot(x= 'trip_dayofweek' , data=citi[citi['end station name']!= '8 Ave & W 31 St'])"
   ]
  },
  {
   "cell_type": "code",
   "execution_count": 51,
   "metadata": {},
   "outputs": [],
   "source": [
    "#Broadway & E 14 St"
   ]
  },
  {
   "cell_type": "code",
   "execution_count": 52,
   "metadata": {},
   "outputs": [
    {
     "data": {
      "text/plain": [
       "2.9194545454545455"
      ]
     },
     "execution_count": 52,
     "metadata": {},
     "output_type": "execute_result"
    }
   ],
   "source": [
    "citi[citi['end station name']== 'Broadway & E 14 St']['trip_dayofweek'].mean()"
   ]
  },
  {
   "cell_type": "code",
   "execution_count": 53,
   "metadata": {},
   "outputs": [
    {
     "data": {
      "text/plain": [
       "2.88774112716391"
      ]
     },
     "execution_count": 53,
     "metadata": {},
     "output_type": "execute_result"
    }
   ],
   "source": [
    "citi[citi['end station name']!= 'Broadway & E 14 St']['trip_dayofweek'].mean()"
   ]
  },
  {
   "cell_type": "code",
   "execution_count": 54,
   "metadata": {},
   "outputs": [
    {
     "data": {
      "text/plain": [
       "<matplotlib.axes._subplots.AxesSubplot at 0x7fc29741d220>"
      ]
     },
     "execution_count": 54,
     "metadata": {},
     "output_type": "execute_result"
    },
    {
     "data": {
      "image/png": "[encoded data removed]",
      "text/plain": [
       "<Figure size 432x288 with 1 Axes>"
      ]
     },
     "metadata": {
      "needs_background": "light"
     },
     "output_type": "display_data"
    }
   ],
   "source": [
    "sns.countplot(x= 'trip_dayofweek' , data=citi[citi['end station name']== 'Broadway & E 14 St'])"
   ]
  },
  {
   "cell_type": "code",
   "execution_count": 55,
   "metadata": {},
   "outputs": [
    {
     "data": {
      "text/plain": [
       "<matplotlib.axes._subplots.AxesSubplot at 0x7fc258c8e520>"
      ]
     },
     "execution_count": 55,
     "metadata": {},
     "output_type": "execute_result"
    },
    {
     "data": {
      "image/png": "[encoded data removed]",
      "text/plain": [
       "<Figure size 432x288 with 1 Axes>"
      ]
     },
     "metadata": {
      "needs_background": "light"
     },
     "output_type": "display_data"
    }
   ],
   "source": [
    "sns.countplot(x= 'trip_dayofweek' , data=citi[citi['end station name']!= 'Broadway & E 14 St'])"
   ]
  },
  {
   "cell_type": "markdown",
   "metadata": {},
   "source": [
    "# Popular Station EDA"
   ]
  },
  {
   "cell_type": "code",
   "execution_count": 56,
   "metadata": {},
   "outputs": [],
   "source": [
    "def popular_station(row):\n",
    "    #if row [row['end station id'].isin([519,497,402,3255,285,426,435,514]) == True:\n",
    "    if row ['end station id']== 519:\n",
    "      return 1\n",
    "    elif row ['end station id']== 497:\n",
    "        return 1\n",
    "    elif row ['end station id']== 402:\n",
    "        return 1\n",
    "    elif row ['end station id']== 3255:\n",
    "        return 1\n",
    "    elif row ['end station id']== 285:\n",
    "        return 1\n",
    "    elif row ['end station id']== 426:\n",
    "        return 1\n",
    "    elif row ['end station id']== 435:\n",
    "        return 1\n",
    "    elif row ['end station id']== 514:\n",
    "        return 1\n",
    "    else:\n",
    "      return 0\n",
    "\n",
    "citi['popular_station_bool'] = citi.apply (lambda row: popular_station(row), axis=1)"
   ]
  },
  {
   "cell_type": "code",
   "execution_count": 57,
   "metadata": {},
   "outputs": [
    {
     "name": "stdout",
     "output_type": "stream",
     "text": [
      "<class 'pandas.core.frame.DataFrame'>\n",
      "RangeIndex: 999996 entries, 0 to 999995\n",
      "Data columns (total 22 columns):\n",
      " #   Column                   Non-Null Count   Dtype         \n",
      "---  ------                   --------------   -----         \n",
      " 0   tripduration             999996 non-null  int64         \n",
      " 1   starttime                999996 non-null  datetime64[ns]\n",
      " 2   stoptime                 999996 non-null  datetime64[ns]\n",
      " 3   start station id         999996 non-null  float64       \n",
      " 4   start station name       999996 non-null  object        \n",
      " 5   start station latitude   999996 non-null  float64       \n",
      " 6   start station longitude  999996 non-null  float64       \n",
      " 7   end station id           999996 non-null  float64       \n",
      " 8   end station name         999996 non-null  object        \n",
      " 9   end station latitude     999996 non-null  float64       \n",
      " 10  end station longitude    999996 non-null  float64       \n",
      " 11  bikeid                   999996 non-null  int64         \n",
      " 12  usertype                 999996 non-null  object        \n",
      " 13  birth year               999996 non-null  int64         \n",
      " 14  gender                   999996 non-null  int64         \n",
      " 15  month                    999996 non-null  int64         \n",
      " 16  trip_dayofweek           999996 non-null  int64         \n",
      " 17  trip_month               999996 non-null  int64         \n",
      " 18  trip_hour                999996 non-null  int64         \n",
      " 19  age                      999996 non-null  int64         \n",
      " 20  tripduration_mins        999996 non-null  float64       \n",
      " 21  popular_station_bool     999996 non-null  int64         \n",
      "dtypes: datetime64[ns](2), float64(7), int64(10), object(3)\n",
      "memory usage: 167.8+ MB\n"
     ]
    }
   ],
   "source": [
    "citi.info()"
   ]
  },
  {
   "cell_type": "code",
   "execution_count": 58,
   "metadata": {},
   "outputs": [
    {
     "data": {
      "text/plain": [
       "0    952678\n",
       "1     47318\n",
       "Name: popular_station_bool, dtype: int64"
      ]
     },
     "execution_count": 58,
     "metadata": {},
     "output_type": "execute_result"
    }
   ],
   "source": [
    "citi['popular_station_bool'].value_counts()"
   ]
  },
  {
   "cell_type": "code",
   "execution_count": 59,
   "metadata": {},
   "outputs": [
    {
     "data": {
      "text/plain": [
       "0    0.952682\n",
       "1    0.047318\n",
       "Name: popular_station_bool, dtype: float64"
      ]
     },
     "execution_count": 59,
     "metadata": {},
     "output_type": "execute_result"
    }
   ],
   "source": [
    "citi['popular_station_bool'].value_counts(normalize= True)"
   ]
  },
  {
   "cell_type": "code",
   "execution_count": 60,
   "metadata": {},
   "outputs": [
    {
     "data": {
      "text/plain": [
       "<matplotlib.axes._subplots.AxesSubplot at 0x7fc2a56d90a0>"
      ]
     },
     "execution_count": 60,
     "metadata": {},
     "output_type": "execute_result"
    },
    {
     "data": {
      "image/png": "[encoded data removed]",
      "text/plain": [
       "<Figure size 432x288 with 1 Axes>"
      ]
     },
     "metadata": {
      "needs_background": "light"
     },
     "output_type": "display_data"
    }
   ],
   "source": [
    "ax = sns.boxplot(x = 'popular_station_bool', y = 'age', data = citi)\n",
    "ax"
   ]
  },
  {
   "cell_type": "code",
   "execution_count": 61,
   "metadata": {},
   "outputs": [
    {
     "data": {
      "image/png": "[encoded data removed]",
      "text/plain": [
       "<Figure size 432x288 with 1 Axes>"
      ]
     },
     "metadata": {
      "needs_background": "light"
     },
     "output_type": "display_data"
    }
   ],
   "source": [
    "ax= sns.countplot(x='usertype', hue='popular_station_bool', data=citi)"
   ]
  },
  {
   "cell_type": "code",
   "execution_count": 62,
   "metadata": {},
   "outputs": [
    {
     "data": {
      "image/png": "[encoded data removed]",
      "text/plain": [
       "<Figure size 432x288 with 1 Axes>"
      ]
     },
     "metadata": {
      "needs_background": "light"
     },
     "output_type": "display_data"
    }
   ],
   "source": [
    "ax= sns.countplot(x='gender', hue='popular_station_bool', data=citi)"
   ]
  },
  {
   "cell_type": "code",
   "execution_count": 63,
   "metadata": {},
   "outputs": [
    {
     "data": {
      "image/png": "[encoded data removed]",
      "text/plain": [
       "<Figure size 432x288 with 1 Axes>"
      ]
     },
     "metadata": {
      "needs_background": "light"
     },
     "output_type": "display_data"
    }
   ],
   "source": [
    "ax= sns.countplot(x='trip_dayofweek', hue='popular_station_bool', data=citi)"
   ]
  },
  {
   "cell_type": "code",
   "execution_count": 64,
   "metadata": {},
   "outputs": [
    {
     "data": {
      "image/png": "[encoded data removed]",
      "text/plain": [
       "<Figure size 432x288 with 1 Axes>"
      ]
     },
     "metadata": {
      "needs_background": "light"
     },
     "output_type": "display_data"
    }
   ],
   "source": [
    "ax= sns.countplot(x='trip_month', hue='popular_station_bool', data=citi)"
   ]
  },
  {
   "cell_type": "code",
   "execution_count": 65,
   "metadata": {},
   "outputs": [
    {
     "data": {
      "image/png": "[encoded data removed]",
      "text/plain": [
       "<Figure size 432x288 with 1 Axes>"
      ]
     },
     "metadata": {
      "needs_background": "light"
     },
     "output_type": "display_data"
    }
   ],
   "source": [
    "ax= sns.countplot(x='trip_hour', hue='popular_station_bool', data=citi)"
   ]
  },
  {
   "cell_type": "markdown",
   "metadata": {},
   "source": [
    "# Model"
   ]
  },
  {
   "cell_type": "code",
   "execution_count": 66,
   "metadata": {},
   "outputs": [],
   "source": [
    "citi.rename(columns = {'start station id': 'start_station_id'}, inplace=True)"
   ]
  },
  {
   "cell_type": "code",
   "execution_count": 67,
   "metadata": {},
   "outputs": [],
   "source": [
    "X= citi[['gender','trip_hour', 'usertype', 'start_station_id']]"
   ]
  },
  {
   "cell_type": "code",
   "execution_count": 68,
   "metadata": {},
   "outputs": [],
   "source": [
    "y= citi[['popular_station_bool']]"
   ]
  },
  {
   "cell_type": "code",
   "execution_count": 69,
   "metadata": {},
   "outputs": [],
   "source": [
    "X_train, X_test, y_train, y_test = train_test_split(X,y,test_size = 0.2)"
   ]
  },
  {
   "cell_type": "code",
   "execution_count": 70,
   "metadata": {},
   "outputs": [
    {
     "data": {
      "text/html": [
       "<div>\n",
       "<style scoped>\n",
       "    .dataframe tbody tr th:only-of-type {\n",
       "        vertical-align: middle;\n",
       "    }\n",
       "\n",
       "    .dataframe tbody tr th {\n",
       "        vertical-align: top;\n",
       "    }\n",
       "\n",
       "    .dataframe thead th {\n",
       "        text-align: right;\n",
       "    }\n",
       "</style>\n",
       "<table border=\"1\" class=\"dataframe\">\n",
       "  <thead>\n",
       "    <tr style=\"text-align: right;\">\n",
       "      <th></th>\n",
       "      <th>gender</th>\n",
       "      <th>trip_hour</th>\n",
       "      <th>usertype</th>\n",
       "      <th>start_station_id</th>\n",
       "      <th>popular_station_bool</th>\n",
       "    </tr>\n",
       "  </thead>\n",
       "  <tbody>\n",
       "    <tr>\n",
       "      <th>859549</th>\n",
       "      <td>1</td>\n",
       "      <td>18</td>\n",
       "      <td>Subscriber</td>\n",
       "      <td>3110.0</td>\n",
       "      <td>0</td>\n",
       "    </tr>\n",
       "    <tr>\n",
       "      <th>511502</th>\n",
       "      <td>1</td>\n",
       "      <td>17</td>\n",
       "      <td>Subscriber</td>\n",
       "      <td>3002.0</td>\n",
       "      <td>0</td>\n",
       "    </tr>\n",
       "    <tr>\n",
       "      <th>902116</th>\n",
       "      <td>1</td>\n",
       "      <td>18</td>\n",
       "      <td>Subscriber</td>\n",
       "      <td>3108.0</td>\n",
       "      <td>0</td>\n",
       "    </tr>\n",
       "    <tr>\n",
       "      <th>371337</th>\n",
       "      <td>1</td>\n",
       "      <td>9</td>\n",
       "      <td>Subscriber</td>\n",
       "      <td>492.0</td>\n",
       "      <td>0</td>\n",
       "    </tr>\n",
       "    <tr>\n",
       "      <th>372754</th>\n",
       "      <td>2</td>\n",
       "      <td>20</td>\n",
       "      <td>Subscriber</td>\n",
       "      <td>3656.0</td>\n",
       "      <td>0</td>\n",
       "    </tr>\n",
       "    <tr>\n",
       "      <th>...</th>\n",
       "      <td>...</td>\n",
       "      <td>...</td>\n",
       "      <td>...</td>\n",
       "      <td>...</td>\n",
       "      <td>...</td>\n",
       "    </tr>\n",
       "    <tr>\n",
       "      <th>605427</th>\n",
       "      <td>1</td>\n",
       "      <td>18</td>\n",
       "      <td>Subscriber</td>\n",
       "      <td>2002.0</td>\n",
       "      <td>0</td>\n",
       "    </tr>\n",
       "    <tr>\n",
       "      <th>392350</th>\n",
       "      <td>1</td>\n",
       "      <td>9</td>\n",
       "      <td>Subscriber</td>\n",
       "      <td>295.0</td>\n",
       "      <td>0</td>\n",
       "    </tr>\n",
       "    <tr>\n",
       "      <th>353542</th>\n",
       "      <td>1</td>\n",
       "      <td>14</td>\n",
       "      <td>Subscriber</td>\n",
       "      <td>493.0</td>\n",
       "      <td>0</td>\n",
       "    </tr>\n",
       "    <tr>\n",
       "      <th>19890</th>\n",
       "      <td>2</td>\n",
       "      <td>21</td>\n",
       "      <td>Subscriber</td>\n",
       "      <td>438.0</td>\n",
       "      <td>0</td>\n",
       "    </tr>\n",
       "    <tr>\n",
       "      <th>867838</th>\n",
       "      <td>1</td>\n",
       "      <td>9</td>\n",
       "      <td>Subscriber</td>\n",
       "      <td>151.0</td>\n",
       "      <td>0</td>\n",
       "    </tr>\n",
       "  </tbody>\n",
       "</table>\n",
       "<p>799996 rows × 5 columns</p>\n",
       "</div>"
      ],
      "text/plain": [
       "        gender  trip_hour    usertype  start_station_id  popular_station_bool\n",
       "859549       1         18  Subscriber            3110.0                     0\n",
       "511502       1         17  Subscriber            3002.0                     0\n",
       "902116       1         18  Subscriber            3108.0                     0\n",
       "371337       1          9  Subscriber             492.0                     0\n",
       "372754       2         20  Subscriber            3656.0                     0\n",
       "...        ...        ...         ...               ...                   ...\n",
       "605427       1         18  Subscriber            2002.0                     0\n",
       "392350       1          9  Subscriber             295.0                     0\n",
       "353542       1         14  Subscriber             493.0                     0\n",
       "19890        2         21  Subscriber             438.0                     0\n",
       "867838       1          9  Subscriber             151.0                     0\n",
       "\n",
       "[799996 rows x 5 columns]"
      ]
     },
     "execution_count": 70,
     "metadata": {},
     "output_type": "execute_result"
    }
   ],
   "source": [
    "citi_train = pd.concat([X_train, y_train], axis = 1)\n",
    "citi_train"
   ]
  },
  {
   "cell_type": "code",
   "execution_count": 71,
   "metadata": {},
   "outputs": [
    {
     "data": {
      "text/html": [
       "<div>\n",
       "<style scoped>\n",
       "    .dataframe tbody tr th:only-of-type {\n",
       "        vertical-align: middle;\n",
       "    }\n",
       "\n",
       "    .dataframe tbody tr th {\n",
       "        vertical-align: top;\n",
       "    }\n",
       "\n",
       "    .dataframe thead th {\n",
       "        text-align: right;\n",
       "    }\n",
       "</style>\n",
       "<table border=\"1\" class=\"dataframe\">\n",
       "  <thead>\n",
       "    <tr style=\"text-align: right;\">\n",
       "      <th></th>\n",
       "      <th>gender</th>\n",
       "      <th>trip_hour</th>\n",
       "      <th>usertype</th>\n",
       "      <th>start_station_id</th>\n",
       "      <th>popular_station_bool</th>\n",
       "    </tr>\n",
       "  </thead>\n",
       "  <tbody>\n",
       "    <tr>\n",
       "      <th>88026</th>\n",
       "      <td>1</td>\n",
       "      <td>9</td>\n",
       "      <td>Subscriber</td>\n",
       "      <td>3311.0</td>\n",
       "      <td>0</td>\n",
       "    </tr>\n",
       "    <tr>\n",
       "      <th>909725</th>\n",
       "      <td>1</td>\n",
       "      <td>17</td>\n",
       "      <td>Subscriber</td>\n",
       "      <td>3142.0</td>\n",
       "      <td>0</td>\n",
       "    </tr>\n",
       "    <tr>\n",
       "      <th>69988</th>\n",
       "      <td>1</td>\n",
       "      <td>10</td>\n",
       "      <td>Subscriber</td>\n",
       "      <td>3125.0</td>\n",
       "      <td>0</td>\n",
       "    </tr>\n",
       "    <tr>\n",
       "      <th>25680</th>\n",
       "      <td>1</td>\n",
       "      <td>18</td>\n",
       "      <td>Subscriber</td>\n",
       "      <td>3117.0</td>\n",
       "      <td>0</td>\n",
       "    </tr>\n",
       "    <tr>\n",
       "      <th>220865</th>\n",
       "      <td>0</td>\n",
       "      <td>14</td>\n",
       "      <td>Customer</td>\n",
       "      <td>501.0</td>\n",
       "      <td>0</td>\n",
       "    </tr>\n",
       "    <tr>\n",
       "      <th>...</th>\n",
       "      <td>...</td>\n",
       "      <td>...</td>\n",
       "      <td>...</td>\n",
       "      <td>...</td>\n",
       "      <td>...</td>\n",
       "    </tr>\n",
       "    <tr>\n",
       "      <th>169689</th>\n",
       "      <td>1</td>\n",
       "      <td>7</td>\n",
       "      <td>Subscriber</td>\n",
       "      <td>530.0</td>\n",
       "      <td>0</td>\n",
       "    </tr>\n",
       "    <tr>\n",
       "      <th>185996</th>\n",
       "      <td>1</td>\n",
       "      <td>8</td>\n",
       "      <td>Subscriber</td>\n",
       "      <td>519.0</td>\n",
       "      <td>0</td>\n",
       "    </tr>\n",
       "    <tr>\n",
       "      <th>499139</th>\n",
       "      <td>1</td>\n",
       "      <td>19</td>\n",
       "      <td>Customer</td>\n",
       "      <td>3427.0</td>\n",
       "      <td>0</td>\n",
       "    </tr>\n",
       "    <tr>\n",
       "      <th>270961</th>\n",
       "      <td>2</td>\n",
       "      <td>6</td>\n",
       "      <td>Subscriber</td>\n",
       "      <td>3160.0</td>\n",
       "      <td>0</td>\n",
       "    </tr>\n",
       "    <tr>\n",
       "      <th>974581</th>\n",
       "      <td>2</td>\n",
       "      <td>17</td>\n",
       "      <td>Subscriber</td>\n",
       "      <td>237.0</td>\n",
       "      <td>0</td>\n",
       "    </tr>\n",
       "  </tbody>\n",
       "</table>\n",
       "<p>200000 rows × 5 columns</p>\n",
       "</div>"
      ],
      "text/plain": [
       "        gender  trip_hour    usertype  start_station_id  popular_station_bool\n",
       "88026        1          9  Subscriber            3311.0                     0\n",
       "909725       1         17  Subscriber            3142.0                     0\n",
       "69988        1         10  Subscriber            3125.0                     0\n",
       "25680        1         18  Subscriber            3117.0                     0\n",
       "220865       0         14    Customer             501.0                     0\n",
       "...        ...        ...         ...               ...                   ...\n",
       "169689       1          7  Subscriber             530.0                     0\n",
       "185996       1          8  Subscriber             519.0                     0\n",
       "499139       1         19    Customer            3427.0                     0\n",
       "270961       2          6  Subscriber            3160.0                     0\n",
       "974581       2         17  Subscriber             237.0                     0\n",
       "\n",
       "[200000 rows x 5 columns]"
      ]
     },
     "execution_count": 71,
     "metadata": {},
     "output_type": "execute_result"
    }
   ],
   "source": [
    "citi_test = pd.concat([X_test, y_test], axis = 1)\n",
    "citi_test"
   ]
  },
  {
   "cell_type": "code",
   "execution_count": 73,
   "metadata": {},
   "outputs": [
    {
     "ename": "KeyboardInterrupt",
     "evalue": "",
     "output_type": "error",
     "traceback": [
      "\u001b[0;31m---------------------------------------------------------------------------\u001b[0m",
      "\u001b[0;31mKeyboardInterrupt\u001b[0m                         Traceback (most recent call last)",
      "\u001b[0;32m<ipython-input-73-90fce785d454>\u001b[0m in \u001b[0;36m<module>\u001b[0;34m\u001b[0m\n\u001b[1;32m      1\u001b[0m \u001b[0mformula\u001b[0m \u001b[0;34m=\u001b[0m \u001b[0;34m'popular_station_bool ~ gender + usertype + C(trip_hour) + C(start_station_id)'\u001b[0m\u001b[0;34m\u001b[0m\u001b[0;34m\u001b[0m\u001b[0m\n\u001b[0;32m----> 2\u001b[0;31m \u001b[0mfitted_model\u001b[0m \u001b[0;34m=\u001b[0m \u001b[0msmf\u001b[0m\u001b[0;34m.\u001b[0m\u001b[0mlogit\u001b[0m\u001b[0;34m(\u001b[0m\u001b[0mformula\u001b[0m\u001b[0;34m=\u001b[0m\u001b[0mformula\u001b[0m\u001b[0;34m,\u001b[0m \u001b[0mdata\u001b[0m\u001b[0;34m=\u001b[0m\u001b[0mciti_train\u001b[0m\u001b[0;34m,\u001b[0m \u001b[0mmissing\u001b[0m\u001b[0;34m=\u001b[0m\u001b[0;34m'drop'\u001b[0m\u001b[0;34m)\u001b[0m\u001b[0;34m.\u001b[0m\u001b[0mfit\u001b[0m\u001b[0;34m(\u001b[0m\u001b[0;34m)\u001b[0m\u001b[0;34m\u001b[0m\u001b[0;34m\u001b[0m\u001b[0m\n\u001b[0m\u001b[1;32m      3\u001b[0m \u001b[0;34m\u001b[0m\u001b[0m\n\u001b[1;32m      4\u001b[0m \u001b[0;34m\u001b[0m\u001b[0m\n\u001b[1;32m      5\u001b[0m \u001b[0mfitted_model\u001b[0m\u001b[0;34m.\u001b[0m\u001b[0msummary\u001b[0m\u001b[0;34m(\u001b[0m\u001b[0;34m)\u001b[0m\u001b[0;34m\u001b[0m\u001b[0;34m\u001b[0m\u001b[0m\n",
      "\u001b[0;32m~/miniconda3/lib/python3.8/site-packages/statsmodels/base/model.py\u001b[0m in \u001b[0;36mfrom_formula\u001b[0;34m(cls, formula, data, subset, drop_cols, *args, **kwargs)\u001b[0m\n\u001b[1;32m    193\u001b[0m                        \u001b[0;34m'formula'\u001b[0m\u001b[0;34m:\u001b[0m \u001b[0mformula\u001b[0m\u001b[0;34m,\u001b[0m  \u001b[0;31m# attach formula for unpckling\u001b[0m\u001b[0;34m\u001b[0m\u001b[0;34m\u001b[0m\u001b[0m\n\u001b[1;32m    194\u001b[0m                        'design_info': design_info})\n\u001b[0;32m--> 195\u001b[0;31m         \u001b[0mmod\u001b[0m \u001b[0;34m=\u001b[0m \u001b[0mcls\u001b[0m\u001b[0;34m(\u001b[0m\u001b[0mendog\u001b[0m\u001b[0;34m,\u001b[0m \u001b[0mexog\u001b[0m\u001b[0;34m,\u001b[0m \u001b[0;34m*\u001b[0m\u001b[0margs\u001b[0m\u001b[0;34m,\u001b[0m \u001b[0;34m**\u001b[0m\u001b[0mkwargs\u001b[0m\u001b[0;34m)\u001b[0m\u001b[0;34m\u001b[0m\u001b[0;34m\u001b[0m\u001b[0m\n\u001b[0m\u001b[1;32m    196\u001b[0m         \u001b[0mmod\u001b[0m\u001b[0;34m.\u001b[0m\u001b[0mformula\u001b[0m \u001b[0;34m=\u001b[0m \u001b[0mformula\u001b[0m\u001b[0;34m\u001b[0m\u001b[0;34m\u001b[0m\u001b[0m\n\u001b[1;32m    197\u001b[0m \u001b[0;34m\u001b[0m\u001b[0m\n",
      "\u001b[0;32m~/miniconda3/lib/python3.8/site-packages/statsmodels/discrete/discrete_model.py\u001b[0m in \u001b[0;36m__init__\u001b[0;34m(self, endog, exog, check_rank, **kwargs)\u001b[0m\n\u001b[1;32m    454\u001b[0m \u001b[0;34m\u001b[0m\u001b[0m\n\u001b[1;32m    455\u001b[0m     \u001b[0;32mdef\u001b[0m \u001b[0m__init__\u001b[0m\u001b[0;34m(\u001b[0m\u001b[0mself\u001b[0m\u001b[0;34m,\u001b[0m \u001b[0mendog\u001b[0m\u001b[0;34m,\u001b[0m \u001b[0mexog\u001b[0m\u001b[0;34m,\u001b[0m \u001b[0mcheck_rank\u001b[0m\u001b[0;34m=\u001b[0m\u001b[0;32mTrue\u001b[0m\u001b[0;34m,\u001b[0m \u001b[0;34m**\u001b[0m\u001b[0mkwargs\u001b[0m\u001b[0;34m)\u001b[0m\u001b[0;34m:\u001b[0m\u001b[0;34m\u001b[0m\u001b[0;34m\u001b[0m\u001b[0m\n\u001b[0;32m--> 456\u001b[0;31m         \u001b[0msuper\u001b[0m\u001b[0;34m(\u001b[0m\u001b[0;34m)\u001b[0m\u001b[0;34m.\u001b[0m\u001b[0m__init__\u001b[0m\u001b[0;34m(\u001b[0m\u001b[0mendog\u001b[0m\u001b[0;34m,\u001b[0m \u001b[0mexog\u001b[0m\u001b[0;34m,\u001b[0m \u001b[0mcheck_rank\u001b[0m\u001b[0;34m,\u001b[0m \u001b[0;34m**\u001b[0m\u001b[0mkwargs\u001b[0m\u001b[0;34m)\u001b[0m\u001b[0;34m\u001b[0m\u001b[0;34m\u001b[0m\u001b[0m\n\u001b[0m\u001b[1;32m    457\u001b[0m         if (not issubclass(self.__class__, MultinomialModel) and\n\u001b[1;32m    458\u001b[0m                 not np.all((self.endog >= 0) & (self.endog <= 1))):\n",
      "\u001b[0;32m~/miniconda3/lib/python3.8/site-packages/statsmodels/discrete/discrete_model.py\u001b[0m in \u001b[0;36m__init__\u001b[0;34m(self, endog, exog, check_rank, **kwargs)\u001b[0m\n\u001b[1;32m    173\u001b[0m     \u001b[0;32mdef\u001b[0m \u001b[0m__init__\u001b[0m\u001b[0;34m(\u001b[0m\u001b[0mself\u001b[0m\u001b[0;34m,\u001b[0m \u001b[0mendog\u001b[0m\u001b[0;34m,\u001b[0m \u001b[0mexog\u001b[0m\u001b[0;34m,\u001b[0m \u001b[0mcheck_rank\u001b[0m\u001b[0;34m=\u001b[0m\u001b[0;32mTrue\u001b[0m\u001b[0;34m,\u001b[0m \u001b[0;34m**\u001b[0m\u001b[0mkwargs\u001b[0m\u001b[0;34m)\u001b[0m\u001b[0;34m:\u001b[0m\u001b[0;34m\u001b[0m\u001b[0;34m\u001b[0m\u001b[0m\n\u001b[1;32m    174\u001b[0m         \u001b[0mself\u001b[0m\u001b[0;34m.\u001b[0m\u001b[0m_check_rank\u001b[0m \u001b[0;34m=\u001b[0m \u001b[0mcheck_rank\u001b[0m\u001b[0;34m\u001b[0m\u001b[0;34m\u001b[0m\u001b[0m\n\u001b[0;32m--> 175\u001b[0;31m         \u001b[0msuper\u001b[0m\u001b[0;34m(\u001b[0m\u001b[0;34m)\u001b[0m\u001b[0;34m.\u001b[0m\u001b[0m__init__\u001b[0m\u001b[0;34m(\u001b[0m\u001b[0mendog\u001b[0m\u001b[0;34m,\u001b[0m \u001b[0mexog\u001b[0m\u001b[0;34m,\u001b[0m \u001b[0;34m**\u001b[0m\u001b[0mkwargs\u001b[0m\u001b[0;34m)\u001b[0m\u001b[0;34m\u001b[0m\u001b[0;34m\u001b[0m\u001b[0m\n\u001b[0m\u001b[1;32m    176\u001b[0m         \u001b[0mself\u001b[0m\u001b[0;34m.\u001b[0m\u001b[0mraise_on_perfect_prediction\u001b[0m \u001b[0;34m=\u001b[0m \u001b[0;32mTrue\u001b[0m\u001b[0;34m\u001b[0m\u001b[0;34m\u001b[0m\u001b[0m\n\u001b[1;32m    177\u001b[0m \u001b[0;34m\u001b[0m\u001b[0m\n",
      "\u001b[0;32m~/miniconda3/lib/python3.8/site-packages/statsmodels/base/model.py\u001b[0m in \u001b[0;36m__init__\u001b[0;34m(self, endog, exog, **kwargs)\u001b[0m\n\u001b[1;32m    235\u001b[0m \u001b[0;34m\u001b[0m\u001b[0m\n\u001b[1;32m    236\u001b[0m     \u001b[0;32mdef\u001b[0m \u001b[0m__init__\u001b[0m\u001b[0;34m(\u001b[0m\u001b[0mself\u001b[0m\u001b[0;34m,\u001b[0m \u001b[0mendog\u001b[0m\u001b[0;34m,\u001b[0m \u001b[0mexog\u001b[0m\u001b[0;34m=\u001b[0m\u001b[0;32mNone\u001b[0m\u001b[0;34m,\u001b[0m \u001b[0;34m**\u001b[0m\u001b[0mkwargs\u001b[0m\u001b[0;34m)\u001b[0m\u001b[0;34m:\u001b[0m\u001b[0;34m\u001b[0m\u001b[0;34m\u001b[0m\u001b[0m\n\u001b[0;32m--> 237\u001b[0;31m         \u001b[0msuper\u001b[0m\u001b[0;34m(\u001b[0m\u001b[0mLikelihoodModel\u001b[0m\u001b[0;34m,\u001b[0m \u001b[0mself\u001b[0m\u001b[0;34m)\u001b[0m\u001b[0;34m.\u001b[0m\u001b[0m__init__\u001b[0m\u001b[0;34m(\u001b[0m\u001b[0mendog\u001b[0m\u001b[0;34m,\u001b[0m \u001b[0mexog\u001b[0m\u001b[0;34m,\u001b[0m \u001b[0;34m**\u001b[0m\u001b[0mkwargs\u001b[0m\u001b[0;34m)\u001b[0m\u001b[0;34m\u001b[0m\u001b[0;34m\u001b[0m\u001b[0m\n\u001b[0m\u001b[1;32m    238\u001b[0m         \u001b[0mself\u001b[0m\u001b[0;34m.\u001b[0m\u001b[0minitialize\u001b[0m\u001b[0;34m(\u001b[0m\u001b[0;34m)\u001b[0m\u001b[0;34m\u001b[0m\u001b[0;34m\u001b[0m\u001b[0m\n\u001b[1;32m    239\u001b[0m \u001b[0;34m\u001b[0m\u001b[0m\n",
      "\u001b[0;32m~/miniconda3/lib/python3.8/site-packages/statsmodels/base/model.py\u001b[0m in \u001b[0;36m__init__\u001b[0;34m(self, endog, exog, **kwargs)\u001b[0m\n\u001b[1;32m     75\u001b[0m         \u001b[0mmissing\u001b[0m \u001b[0;34m=\u001b[0m \u001b[0mkwargs\u001b[0m\u001b[0;34m.\u001b[0m\u001b[0mpop\u001b[0m\u001b[0;34m(\u001b[0m\u001b[0;34m'missing'\u001b[0m\u001b[0;34m,\u001b[0m \u001b[0;34m'none'\u001b[0m\u001b[0;34m)\u001b[0m\u001b[0;34m\u001b[0m\u001b[0;34m\u001b[0m\u001b[0m\n\u001b[1;32m     76\u001b[0m         \u001b[0mhasconst\u001b[0m \u001b[0;34m=\u001b[0m \u001b[0mkwargs\u001b[0m\u001b[0;34m.\u001b[0m\u001b[0mpop\u001b[0m\u001b[0;34m(\u001b[0m\u001b[0;34m'hasconst'\u001b[0m\u001b[0;34m,\u001b[0m \u001b[0;32mNone\u001b[0m\u001b[0;34m)\u001b[0m\u001b[0;34m\u001b[0m\u001b[0;34m\u001b[0m\u001b[0m\n\u001b[0;32m---> 77\u001b[0;31m         self.data = self._handle_data(endog, exog, missing, hasconst,\n\u001b[0m\u001b[1;32m     78\u001b[0m                                       **kwargs)\n\u001b[1;32m     79\u001b[0m         \u001b[0mself\u001b[0m\u001b[0;34m.\u001b[0m\u001b[0mk_constant\u001b[0m \u001b[0;34m=\u001b[0m \u001b[0mself\u001b[0m\u001b[0;34m.\u001b[0m\u001b[0mdata\u001b[0m\u001b[0;34m.\u001b[0m\u001b[0mk_constant\u001b[0m\u001b[0;34m\u001b[0m\u001b[0;34m\u001b[0m\u001b[0m\n",
      "\u001b[0;32m~/miniconda3/lib/python3.8/site-packages/statsmodels/base/model.py\u001b[0m in \u001b[0;36m_handle_data\u001b[0;34m(self, endog, exog, missing, hasconst, **kwargs)\u001b[0m\n\u001b[1;32m     99\u001b[0m \u001b[0;34m\u001b[0m\u001b[0m\n\u001b[1;32m    100\u001b[0m     \u001b[0;32mdef\u001b[0m \u001b[0m_handle_data\u001b[0m\u001b[0;34m(\u001b[0m\u001b[0mself\u001b[0m\u001b[0;34m,\u001b[0m \u001b[0mendog\u001b[0m\u001b[0;34m,\u001b[0m \u001b[0mexog\u001b[0m\u001b[0;34m,\u001b[0m \u001b[0mmissing\u001b[0m\u001b[0;34m,\u001b[0m \u001b[0mhasconst\u001b[0m\u001b[0;34m,\u001b[0m \u001b[0;34m**\u001b[0m\u001b[0mkwargs\u001b[0m\u001b[0;34m)\u001b[0m\u001b[0;34m:\u001b[0m\u001b[0;34m\u001b[0m\u001b[0;34m\u001b[0m\u001b[0m\n\u001b[0;32m--> 101\u001b[0;31m         \u001b[0mdata\u001b[0m \u001b[0;34m=\u001b[0m \u001b[0mhandle_data\u001b[0m\u001b[0;34m(\u001b[0m\u001b[0mendog\u001b[0m\u001b[0;34m,\u001b[0m \u001b[0mexog\u001b[0m\u001b[0;34m,\u001b[0m \u001b[0mmissing\u001b[0m\u001b[0;34m,\u001b[0m \u001b[0mhasconst\u001b[0m\u001b[0;34m,\u001b[0m \u001b[0;34m**\u001b[0m\u001b[0mkwargs\u001b[0m\u001b[0;34m)\u001b[0m\u001b[0;34m\u001b[0m\u001b[0;34m\u001b[0m\u001b[0m\n\u001b[0m\u001b[1;32m    102\u001b[0m         \u001b[0;31m# kwargs arrays could have changed, easier to just attach here\u001b[0m\u001b[0;34m\u001b[0m\u001b[0;34m\u001b[0m\u001b[0;34m\u001b[0m\u001b[0m\n\u001b[1;32m    103\u001b[0m         \u001b[0;32mfor\u001b[0m \u001b[0mkey\u001b[0m \u001b[0;32min\u001b[0m \u001b[0mkwargs\u001b[0m\u001b[0;34m:\u001b[0m\u001b[0;34m\u001b[0m\u001b[0;34m\u001b[0m\u001b[0m\n",
      "\u001b[0;32m~/miniconda3/lib/python3.8/site-packages/statsmodels/base/data.py\u001b[0m in \u001b[0;36mhandle_data\u001b[0;34m(endog, exog, missing, hasconst, **kwargs)\u001b[0m\n\u001b[1;32m    670\u001b[0m \u001b[0;34m\u001b[0m\u001b[0m\n\u001b[1;32m    671\u001b[0m     \u001b[0mklass\u001b[0m \u001b[0;34m=\u001b[0m \u001b[0mhandle_data_class_factory\u001b[0m\u001b[0;34m(\u001b[0m\u001b[0mendog\u001b[0m\u001b[0;34m,\u001b[0m \u001b[0mexog\u001b[0m\u001b[0;34m)\u001b[0m\u001b[0;34m\u001b[0m\u001b[0;34m\u001b[0m\u001b[0m\n\u001b[0;32m--> 672\u001b[0;31m     return klass(endog, exog=exog, missing=missing, hasconst=hasconst,\n\u001b[0m\u001b[1;32m    673\u001b[0m                  **kwargs)\n",
      "\u001b[0;32m~/miniconda3/lib/python3.8/site-packages/statsmodels/base/data.py\u001b[0m in \u001b[0;36m__init__\u001b[0;34m(self, endog, exog, missing, hasconst, **kwargs)\u001b[0m\n\u001b[1;32m     85\u001b[0m         \u001b[0mself\u001b[0m\u001b[0;34m.\u001b[0m\u001b[0mconst_idx\u001b[0m \u001b[0;34m=\u001b[0m \u001b[0;32mNone\u001b[0m\u001b[0;34m\u001b[0m\u001b[0;34m\u001b[0m\u001b[0m\n\u001b[1;32m     86\u001b[0m         \u001b[0mself\u001b[0m\u001b[0;34m.\u001b[0m\u001b[0mk_constant\u001b[0m \u001b[0;34m=\u001b[0m \u001b[0;36m0\u001b[0m\u001b[0;34m\u001b[0m\u001b[0;34m\u001b[0m\u001b[0m\n\u001b[0;32m---> 87\u001b[0;31m         \u001b[0mself\u001b[0m\u001b[0;34m.\u001b[0m\u001b[0m_handle_constant\u001b[0m\u001b[0;34m(\u001b[0m\u001b[0mhasconst\u001b[0m\u001b[0;34m)\u001b[0m\u001b[0;34m\u001b[0m\u001b[0;34m\u001b[0m\u001b[0m\n\u001b[0m\u001b[1;32m     88\u001b[0m         \u001b[0mself\u001b[0m\u001b[0;34m.\u001b[0m\u001b[0m_check_integrity\u001b[0m\u001b[0;34m(\u001b[0m\u001b[0;34m)\u001b[0m\u001b[0;34m\u001b[0m\u001b[0;34m\u001b[0m\u001b[0m\n\u001b[1;32m     89\u001b[0m         \u001b[0mself\u001b[0m\u001b[0;34m.\u001b[0m\u001b[0m_cache\u001b[0m \u001b[0;34m=\u001b[0m \u001b[0;34m{\u001b[0m\u001b[0;34m}\u001b[0m\u001b[0;34m\u001b[0m\u001b[0;34m\u001b[0m\u001b[0m\n",
      "\u001b[0;32m~/miniconda3/lib/python3.8/site-packages/statsmodels/base/data.py\u001b[0m in \u001b[0;36m_handle_constant\u001b[0;34m(self, hasconst)\u001b[0m\n\u001b[1;32m    132\u001b[0m             \u001b[0;32mif\u001b[0m \u001b[0;32mnot\u001b[0m \u001b[0mnp\u001b[0m\u001b[0;34m.\u001b[0m\u001b[0misfinite\u001b[0m\u001b[0;34m(\u001b[0m\u001b[0mexog_max\u001b[0m\u001b[0;34m)\u001b[0m\u001b[0;34m.\u001b[0m\u001b[0mall\u001b[0m\u001b[0;34m(\u001b[0m\u001b[0;34m)\u001b[0m\u001b[0;34m:\u001b[0m\u001b[0;34m\u001b[0m\u001b[0;34m\u001b[0m\u001b[0m\n\u001b[1;32m    133\u001b[0m                 \u001b[0;32mraise\u001b[0m \u001b[0mMissingDataError\u001b[0m\u001b[0;34m(\u001b[0m\u001b[0;34m'exog contains inf or nans'\u001b[0m\u001b[0;34m)\u001b[0m\u001b[0;34m\u001b[0m\u001b[0;34m\u001b[0m\u001b[0m\n\u001b[0;32m--> 134\u001b[0;31m             \u001b[0mexog_min\u001b[0m \u001b[0;34m=\u001b[0m \u001b[0mnp\u001b[0m\u001b[0;34m.\u001b[0m\u001b[0mmin\u001b[0m\u001b[0;34m(\u001b[0m\u001b[0mself\u001b[0m\u001b[0;34m.\u001b[0m\u001b[0mexog\u001b[0m\u001b[0;34m,\u001b[0m \u001b[0maxis\u001b[0m\u001b[0;34m=\u001b[0m\u001b[0;36m0\u001b[0m\u001b[0;34m)\u001b[0m\u001b[0;34m\u001b[0m\u001b[0;34m\u001b[0m\u001b[0m\n\u001b[0m\u001b[1;32m    135\u001b[0m             \u001b[0mconst_idx\u001b[0m \u001b[0;34m=\u001b[0m \u001b[0mnp\u001b[0m\u001b[0;34m.\u001b[0m\u001b[0mwhere\u001b[0m\u001b[0;34m(\u001b[0m\u001b[0mexog_max\u001b[0m \u001b[0;34m==\u001b[0m \u001b[0mexog_min\u001b[0m\u001b[0;34m)\u001b[0m\u001b[0;34m[\u001b[0m\u001b[0;36m0\u001b[0m\u001b[0;34m]\u001b[0m\u001b[0;34m.\u001b[0m\u001b[0msqueeze\u001b[0m\u001b[0;34m(\u001b[0m\u001b[0;34m)\u001b[0m\u001b[0;34m\u001b[0m\u001b[0;34m\u001b[0m\u001b[0m\n\u001b[1;32m    136\u001b[0m             \u001b[0mself\u001b[0m\u001b[0;34m.\u001b[0m\u001b[0mk_constant\u001b[0m \u001b[0;34m=\u001b[0m \u001b[0mconst_idx\u001b[0m\u001b[0;34m.\u001b[0m\u001b[0msize\u001b[0m\u001b[0;34m\u001b[0m\u001b[0;34m\u001b[0m\u001b[0m\n",
      "\u001b[0;32m<__array_function__ internals>\u001b[0m in \u001b[0;36mamin\u001b[0;34m(*args, **kwargs)\u001b[0m\n",
      "\u001b[0;32m~/miniconda3/lib/python3.8/site-packages/numpy/core/fromnumeric.py\u001b[0m in \u001b[0;36mamin\u001b[0;34m(a, axis, out, keepdims, initial, where)\u001b[0m\n\u001b[1;32m   2828\u001b[0m     \u001b[0;36m6\u001b[0m\u001b[0;34m\u001b[0m\u001b[0;34m\u001b[0m\u001b[0m\n\u001b[1;32m   2829\u001b[0m     \"\"\"\n\u001b[0;32m-> 2830\u001b[0;31m     return _wrapreduction(a, np.minimum, 'min', axis, None, out,\n\u001b[0m\u001b[1;32m   2831\u001b[0m                           keepdims=keepdims, initial=initial, where=where)\n\u001b[1;32m   2832\u001b[0m \u001b[0;34m\u001b[0m\u001b[0m\n",
      "\u001b[0;32m~/miniconda3/lib/python3.8/site-packages/numpy/core/fromnumeric.py\u001b[0m in \u001b[0;36m_wrapreduction\u001b[0;34m(obj, ufunc, method, axis, dtype, out, **kwargs)\u001b[0m\n\u001b[1;32m     85\u001b[0m                 \u001b[0;32mreturn\u001b[0m \u001b[0mreduction\u001b[0m\u001b[0;34m(\u001b[0m\u001b[0maxis\u001b[0m\u001b[0;34m=\u001b[0m\u001b[0maxis\u001b[0m\u001b[0;34m,\u001b[0m \u001b[0mout\u001b[0m\u001b[0;34m=\u001b[0m\u001b[0mout\u001b[0m\u001b[0;34m,\u001b[0m \u001b[0;34m**\u001b[0m\u001b[0mpasskwargs\u001b[0m\u001b[0;34m)\u001b[0m\u001b[0;34m\u001b[0m\u001b[0;34m\u001b[0m\u001b[0m\n\u001b[1;32m     86\u001b[0m \u001b[0;34m\u001b[0m\u001b[0m\n\u001b[0;32m---> 87\u001b[0;31m     \u001b[0;32mreturn\u001b[0m \u001b[0mufunc\u001b[0m\u001b[0;34m.\u001b[0m\u001b[0mreduce\u001b[0m\u001b[0;34m(\u001b[0m\u001b[0mobj\u001b[0m\u001b[0;34m,\u001b[0m \u001b[0maxis\u001b[0m\u001b[0;34m,\u001b[0m \u001b[0mdtype\u001b[0m\u001b[0;34m,\u001b[0m \u001b[0mout\u001b[0m\u001b[0;34m,\u001b[0m \u001b[0;34m**\u001b[0m\u001b[0mpasskwargs\u001b[0m\u001b[0;34m)\u001b[0m\u001b[0;34m\u001b[0m\u001b[0;34m\u001b[0m\u001b[0m\n\u001b[0m\u001b[1;32m     88\u001b[0m \u001b[0;34m\u001b[0m\u001b[0m\n\u001b[1;32m     89\u001b[0m \u001b[0;34m\u001b[0m\u001b[0m\n",
      "\u001b[0;31mKeyboardInterrupt\u001b[0m: "
     ]
    }
   ],
   "source": [
    "formula = 'popular_station_bool ~ gender + usertype + C(trip_hour) + C(start_station_id)' \n",
    "fitted_model = smf.logit(formula=formula, data=citi_train, missing='drop').fit()\n",
    "\n",
    "\n",
    "fitted_model.summary()"
   ]
  },
  {
   "cell_type": "code",
   "execution_count": null,
   "metadata": {},
   "outputs": [],
   "source": [
    "y_pred_test = np.round(fitted_model.predict(citi_test))\n",
    "y_pred_test"
   ]
  },
  {
   "cell_type": "code",
   "execution_count": null,
   "metadata": {},
   "outputs": [],
   "source": [
    "#wrong? i did something wrong but i dont know what... it predicted everything will be 0....?\n",
    "pd.crosstab(citi_test['popular_station_bool'], y_pred_test)"
   ]
  },
  {
   "cell_type": "code",
   "execution_count": null,
   "metadata": {},
   "outputs": [],
   "source": [
    "confusion_matrix(citi_test['popular_station_bool'], y_pred_test)"
   ]
  },
  {
   "cell_type": "code",
   "execution_count": null,
   "metadata": {},
   "outputs": [],
   "source": []
  },
  {
   "cell_type": "code",
   "execution_count": null,
   "metadata": {},
   "outputs": [],
   "source": [
    "#what stations are most popular and what time of day"
   ]
  },
  {
   "cell_type": "code",
   "execution_count": null,
   "metadata": {},
   "outputs": [],
   "source": [
    "#what times of day are the most rides/ rides by month"
   ]
  },
  {
   "cell_type": "code",
   "execution_count": null,
   "metadata": {},
   "outputs": [],
   "source": []
  },
  {
   "cell_type": "code",
   "execution_count": 74,
   "metadata": {},
   "outputs": [
    {
     "data": {
      "image/png": "[encoded data removed]",
      "text/plain": [
       "<Figure size 1152x216 with 1 Axes>"
      ]
     },
     "metadata": {},
     "output_type": "display_data"
    }
   ],
   "source": [
    "sns.set(rc={'figure.figsize': (16,3)})\n",
    "ax = sns.distplot(citi['tripduration_mins'])"
   ]
  },
  {
   "cell_type": "code",
   "execution_count": 75,
   "metadata": {},
   "outputs": [
    {
     "data": {
      "text/plain": [
       "1584"
      ]
     },
     "execution_count": 75,
     "metadata": {},
     "output_type": "execute_result"
    }
   ],
   "source": [
    "#how many trips are over 3 hours\n",
    "len(citi.loc[citi['tripduration_mins']>180])"
   ]
  },
  {
   "cell_type": "code",
   "execution_count": 76,
   "metadata": {},
   "outputs": [
    {
     "data": {
      "text/plain": [
       "999996"
      ]
     },
     "execution_count": 76,
     "metadata": {},
     "output_type": "execute_result"
    }
   ],
   "source": [
    "len(citi)"
   ]
  },
  {
   "cell_type": "code",
   "execution_count": null,
   "metadata": {},
   "outputs": [],
   "source": [
    "#how much data am i dropping? \n",
    "len(citi.loc[citi['tripduration_mins']>180]) / len(citi)"
   ]
  },
  {
   "cell_type": "code",
   "execution_count": null,
   "metadata": {},
   "outputs": [],
   "source": [
    "#dropped all records of trips over 3 hours\n",
    "citi= citi.loc[citi['tripduration_mins']<=180]"
   ]
  },
  {
   "cell_type": "code",
   "execution_count": null,
   "metadata": {},
   "outputs": [],
   "source": []
  },
  {
   "cell_type": "code",
   "execution_count": null,
   "metadata": {},
   "outputs": [],
   "source": []
  },
  {
   "cell_type": "code",
   "execution_count": 77,
   "metadata": {},
   "outputs": [
    {
     "data": {
      "text/plain": [
       "1    0.684717\n",
       "2    0.239278\n",
       "0    0.076005\n",
       "Name: gender, dtype: float64"
      ]
     },
     "execution_count": 77,
     "metadata": {},
     "output_type": "execute_result"
    }
   ],
   "source": [
    "#male/female ratio... drop unknowns or no?\n",
    "#there are a lot more men who use citibike than women\n",
    "citi['gender'].value_counts(normalize=True)"
   ]
  },
  {
   "cell_type": "code",
   "execution_count": null,
   "metadata": {},
   "outputs": [],
   "source": [
    "len(citi)"
   ]
  },
  {
   "cell_type": "code",
   "execution_count": null,
   "metadata": {},
   "outputs": [],
   "source": [
    "len(citi['gender'])"
   ]
  },
  {
   "cell_type": "code",
   "execution_count": null,
   "metadata": {},
   "outputs": [],
   "source": [
    "citi['gender'].sum()"
   ]
  },
  {
   "cell_type": "code",
   "execution_count": null,
   "metadata": {},
   "outputs": [],
   "source": [
    "683800 / len(citi) * 100"
   ]
  },
  {
   "cell_type": "code",
   "execution_count": null,
   "metadata": {},
   "outputs": [],
   "source": [
    "239952 / len(citi) * 100"
   ]
  },
  {
   "cell_type": "code",
   "execution_count": null,
   "metadata": {},
   "outputs": [],
   "source": [
    "74595 / len(citi) * 100"
   ]
  },
  {
   "cell_type": "code",
   "execution_count": 79,
   "metadata": {},
   "outputs": [
    {
     "data": {
      "text/plain": [
       "<matplotlib.axes._subplots.AxesSubplot at 0x7fc27acbf8e0>"
      ]
     },
     "execution_count": 79,
     "metadata": {},
     "output_type": "execute_result"
    },
    {
     "data": {
      "image/png": "[encoded data removed]",
      "text/plain": [
       "<Figure size 1152x216 with 1 Axes>"
      ]
     },
     "metadata": {},
     "output_type": "display_data"
    }
   ],
   "source": [
    "ax = sns.boxplot(x = 'usertype', y = 'trip_month', data = citi)\n",
    "ax"
   ]
  },
  {
   "cell_type": "code",
   "execution_count": null,
   "metadata": {},
   "outputs": [],
   "source": []
  },
  {
   "cell_type": "code",
   "execution_count": null,
   "metadata": {},
   "outputs": [],
   "source": []
  },
  {
   "cell_type": "code",
   "execution_count": 80,
   "metadata": {},
   "outputs": [
    {
     "data": {
      "text/plain": [
       "Subscriber    860579\n",
       "Customer      139417\n",
       "Name: usertype, dtype: int64"
      ]
     },
     "execution_count": 80,
     "metadata": {},
     "output_type": "execute_result"
    }
   ],
   "source": [
    "#subs v users breakdown\n",
    "citi['usertype'].value_counts()"
   ]
  },
  {
   "cell_type": "code",
   "execution_count": null,
   "metadata": {},
   "outputs": [],
   "source": []
  },
  {
   "cell_type": "code",
   "execution_count": 82,
   "metadata": {},
   "outputs": [
    {
     "data": {
      "text/plain": [
       "<matplotlib.axes._subplots.AxesSubplot at 0x7fc2c951c940>"
      ]
     },
     "execution_count": 82,
     "metadata": {},
     "output_type": "execute_result"
    },
    {
     "data": {
      "image/png": "[encoded data removed]",
      "text/plain": [
       "<Figure size 432x432 with 1 Axes>"
      ]
     },
     "metadata": {},
     "output_type": "display_data"
    }
   ],
   "source": [
    "#sns.set(rc={'figure.figsize': (6, 6)})\n",
    "ax = sns.boxplot(x = 'usertype', y = 'tripduration_mins', data = citi)\n",
    "ax\n"
   ]
  },
  {
   "cell_type": "code",
   "execution_count": 83,
   "metadata": {},
   "outputs": [
    {
     "data": {
      "text/plain": [
       "usertype\n",
       "Customer      19.966667\n",
       "Subscriber     9.316667\n",
       "Name: tripduration_mins, dtype: float64"
      ]
     },
     "execution_count": 83,
     "metadata": {},
     "output_type": "execute_result"
    }
   ],
   "source": [
    "citi.groupby(\"usertype\")[\"tripduration_mins\"].median()\n",
    "#user type has some effect on trip duration. \n",
    "#check if subscribesrs have longer trips than customers in big df because current pricing structure \n",
    "#incentivizes longer trips for subscribers\n",
    "\n",
    "#maybe there is a way to change pricing/make it more dynamic\n",
    "#\n"
   ]
  },
  {
   "cell_type": "code",
   "execution_count": 84,
   "metadata": {},
   "outputs": [
    {
     "data": {
      "text/plain": [
       "usertype\n",
       "Customer      34.338886\n",
       "Subscriber    13.326611\n",
       "Name: tripduration_mins, dtype: float64"
      ]
     },
     "execution_count": 84,
     "metadata": {},
     "output_type": "execute_result"
    }
   ],
   "source": [
    "citi.groupby(\"usertype\")[\"tripduration_mins\"].mean()\n"
   ]
  },
  {
   "cell_type": "code",
   "execution_count": 85,
   "metadata": {},
   "outputs": [
    {
     "data": {
      "text/plain": [
       "<matplotlib.axes._subplots.AxesSubplot at 0x7fc2ad464dc0>"
      ]
     },
     "execution_count": 85,
     "metadata": {},
     "output_type": "execute_result"
    },
    {
     "data": {
      "image/png": "[encoded data removed]",
      "text/plain": [
       "<Figure size 432x432 with 1 Axes>"
      ]
     },
     "metadata": {},
     "output_type": "display_data"
    }
   ],
   "source": [
    "sns.set(rc={'figure.figsize': (6, 6)})\n",
    "ax = sns.boxplot(x = 'usertype', y = 'age', data = citi)\n",
    "ax\n",
    "#subscribers skew younger than customers"
   ]
  },
  {
   "cell_type": "code",
   "execution_count": 86,
   "metadata": {},
   "outputs": [
    {
     "data": {
      "text/plain": [
       "usertype\n",
       "Customer      43\n",
       "Subscriber    36\n",
       "Name: age, dtype: int64"
      ]
     },
     "execution_count": 86,
     "metadata": {},
     "output_type": "execute_result"
    }
   ],
   "source": [
    "#not a major difference between user type and ages\n",
    "citi.groupby(\"usertype\")[\"age\"].median()\n"
   ]
  },
  {
   "cell_type": "code",
   "execution_count": 90,
   "metadata": {},
   "outputs": [
    {
     "data": {
      "text/plain": [
       "usertype\n",
       "Customer      39.359067\n",
       "Subscriber    38.718989\n",
       "Name: age, dtype: float64"
      ]
     },
     "execution_count": 90,
     "metadata": {},
     "output_type": "execute_result"
    }
   ],
   "source": [
    "#not a big difference\n",
    "citi.groupby(\"usertype\")[\"age\"].mean()\n"
   ]
  },
  {
   "cell_type": "code",
   "execution_count": 87,
   "metadata": {},
   "outputs": [
    {
     "data": {
      "text/plain": [
       "16.256091024364093"
      ]
     },
     "execution_count": 87,
     "metadata": {},
     "output_type": "execute_result"
    }
   ],
   "source": [
    "citi.tripduration_mins.mean()"
   ]
  },
  {
   "cell_type": "code",
   "execution_count": 88,
   "metadata": {},
   "outputs": [
    {
     "data": {
      "text/plain": [
       "1.0166666666666666"
      ]
     },
     "execution_count": 88,
     "metadata": {},
     "output_type": "execute_result"
    }
   ],
   "source": [
    "citi.tripduration_mins.min()"
   ]
  },
  {
   "cell_type": "code",
   "execution_count": 89,
   "metadata": {},
   "outputs": [
    {
     "data": {
      "text/plain": [
       "40939.71666666667"
      ]
     },
     "execution_count": 89,
     "metadata": {},
     "output_type": "execute_result"
    }
   ],
   "source": [
    "citi.tripduration_mins.max()"
   ]
  },
  {
   "cell_type": "code",
   "execution_count": null,
   "metadata": {},
   "outputs": [],
   "source": [
    "citi.info()"
   ]
  },
  {
   "cell_type": "code",
   "execution_count": null,
   "metadata": {},
   "outputs": [],
   "source": []
  },
  {
   "cell_type": "code",
   "execution_count": null,
   "metadata": {},
   "outputs": [],
   "source": [
    "citi['age'].max()\n",
    "#how to cut out bogus ages?"
   ]
  },
  {
   "cell_type": "code",
   "execution_count": null,
   "metadata": {},
   "outputs": [],
   "source": [
    "citi['age'].min()"
   ]
  },
  {
   "cell_type": "code",
   "execution_count": null,
   "metadata": {},
   "outputs": [],
   "source": [
    "citi['age'].median()"
   ]
  },
  {
   "cell_type": "code",
   "execution_count": null,
   "metadata": {},
   "outputs": [],
   "source": [
    "citi['age'].mean()"
   ]
  },
  {
   "cell_type": "code",
   "execution_count": 91,
   "metadata": {},
   "outputs": [
    {
     "data": {
      "text/plain": [
       "1250"
      ]
     },
     "execution_count": 91,
     "metadata": {},
     "output_type": "execute_result"
    }
   ],
   "source": [
    "#taking out ages over 80 (a check of my work)\n",
    "len(citi.loc[citi['age']>80])"
   ]
  },
  {
   "cell_type": "code",
   "execution_count": null,
   "metadata": {},
   "outputs": [],
   "source": []
  },
  {
   "cell_type": "code",
   "execution_count": 92,
   "metadata": {},
   "outputs": [],
   "source": [
    "#actually reassigning the database \n",
    "citi= citi.loc[citi['age']<=80]"
   ]
  },
  {
   "cell_type": "code",
   "execution_count": 93,
   "metadata": {},
   "outputs": [
    {
     "data": {
      "text/plain": [
       "50    83505\n",
       "29    41554\n",
       "30    41474\n",
       "28    39516\n",
       "27    38952\n",
       "      ...  \n",
       "75      427\n",
       "76      421\n",
       "78      336\n",
       "79      238\n",
       "80      107\n",
       "Name: age, Length: 65, dtype: int64"
      ]
     },
     "execution_count": 93,
     "metadata": {},
     "output_type": "execute_result"
    }
   ],
   "source": [
    "citi['age'].value_counts()"
   ]
  },
  {
   "cell_type": "code",
   "execution_count": null,
   "metadata": {},
   "outputs": [],
   "source": [
    "citi['age'].max()"
   ]
  },
  {
   "cell_type": "code",
   "execution_count": null,
   "metadata": {},
   "outputs": [],
   "source": [
    "citi['age'].min()"
   ]
  },
  {
   "cell_type": "code",
   "execution_count": null,
   "metadata": {},
   "outputs": [],
   "source": [
    "citi['age'].mean()"
   ]
  },
  {
   "cell_type": "code",
   "execution_count": null,
   "metadata": {},
   "outputs": [],
   "source": [
    "citi['age'].median()"
   ]
  },
  {
   "cell_type": "code",
   "execution_count": 94,
   "metadata": {},
   "outputs": [],
   "source": [
    "age_count= citi['age'].value_counts()"
   ]
  },
  {
   "cell_type": "code",
   "execution_count": 95,
   "metadata": {},
   "outputs": [
    {
     "data": {
      "image/png": "[encoded data removed]",
      "text/plain": [
       "<Figure size 1152x216 with 1 Axes>"
      ]
     },
     "metadata": {},
     "output_type": "display_data"
    }
   ],
   "source": [
    "#ax = sns.distplot(aug20, x='age') this didn't work!!!\n",
    "sns.set(rc={'figure.figsize': (16,3)})\n",
    "ax = sns.distplot(citi['age'])\n"
   ]
  },
  {
   "cell_type": "code",
   "execution_count": null,
   "metadata": {},
   "outputs": [],
   "source": [
    "citi.info()"
   ]
  },
  {
   "cell_type": "code",
   "execution_count": 96,
   "metadata": {},
   "outputs": [
    {
     "data": {
      "text/plain": [
       "<seaborn.axisgrid.PairGrid at 0x7fc2ac77d280>"
      ]
     },
     "execution_count": 96,
     "metadata": {},
     "output_type": "execute_result"
    },
    {
     "data": {
      "image/png": "[encoded data removed]",
      "text/plain": [
       "<Figure size 2160x2160 with 12 Axes>"
      ]
     },
     "metadata": {},
     "output_type": "display_data"
    }
   ],
   "source": [
    "sns.pairplot(citi[['age','trip_month','tripduration_mins']], plot_kws = {\"color\": \"green\"}, height = 10)"
   ]
  },
  {
   "cell_type": "code",
   "execution_count": null,
   "metadata": {},
   "outputs": [],
   "source": [
    "#USELESS\n",
    "sns.set(rc={'figure.figsize': (16, 5)})\n",
    "ax = sns.scatterplot(x = 'age', y = 'tripduration_mins', data = citi,\n",
    "                 palette ='plasma_r', ci = False)"
   ]
  },
  {
   "cell_type": "code",
   "execution_count": null,
   "metadata": {},
   "outputs": [],
   "source": []
  },
  {
   "cell_type": "code",
   "execution_count": 98,
   "metadata": {},
   "outputs": [
    {
     "data": {
      "image/png": "[encoded data removed]",
      "text/plain": [
       "<Figure size 720x720 with 1 Axes>"
      ]
     },
     "metadata": {},
     "output_type": "display_data"
    }
   ],
   "source": [
    "sns.set(rc={'figure.figsize': (10, 10)})\n",
    "ax = sns.barplot(x = 'age', y = 'tripduration_mins', data = citi, ci = False)\n"
   ]
  },
  {
   "cell_type": "code",
   "execution_count": null,
   "metadata": {},
   "outputs": [],
   "source": [
    "citi.info()"
   ]
  },
  {
   "cell_type": "code",
   "execution_count": null,
   "metadata": {},
   "outputs": [],
   "source": []
  },
  {
   "cell_type": "code",
   "execution_count": null,
   "metadata": {},
   "outputs": [],
   "source": [
    "citi.describe()"
   ]
  },
  {
   "cell_type": "code",
   "execution_count": null,
   "metadata": {},
   "outputs": [],
   "source": [
    "# Creating new df w/ only the numerical vars\n",
    "num_df = citi[['tripduration_mins', 'start_station_id',\n",
    "                  'end station id', 'gender', 'trip_dayofweek',\n",
    "                  'trip_month', 'trip_hour', 'age', \n",
    "                   'popular_station_bool']]\n",
    "num_df"
   ]
  },
  {
   "cell_type": "code",
   "execution_count": null,
   "metadata": {},
   "outputs": [],
   "source": [
    "plt.matshow(num_df.corr())\n",
    "\n",
    "f = plt.figure(figsize=(19, 15))\n",
    "plt.matshow(num_df.corr(), fignum=f.number)\n",
    "plt.xticks(range(num_df.shape[1]), num_df.columns, fontsize=14, rotation=45)\n",
    "plt.yticks(range(num_df.shape[1]), num_df.columns, fontsize=14)\n",
    "cb = plt.colorbar()\n",
    "cb.ax.tick_params(labelsize=14)\n",
    "plt.title('Correlation Matrix', fontsize=16, fontweight='bold')\n",
    "\n",
    "plt.show()"
   ]
  },
  {
   "cell_type": "code",
   "execution_count": 99,
   "metadata": {},
   "outputs": [],
   "source": [
    "popular_df = citi.loc[citi['popular_station_bool']== 1]"
   ]
  },
  {
   "cell_type": "code",
   "execution_count": 100,
   "metadata": {},
   "outputs": [
    {
     "data": {
      "image/png": "[encoded data removed]",
      "text/plain": [
       "<Figure size 1152x216 with 1 Axes>"
      ]
     },
     "metadata": {},
     "output_type": "display_data"
    }
   ],
   "source": [
    "sns.set(rc={'figure.figsize': (16,3)})\n",
    "ax= sns.countplot(x='trip_hour', data=popular_df)"
   ]
  },
  {
   "cell_type": "code",
   "execution_count": 101,
   "metadata": {},
   "outputs": [
    {
     "data": {
      "image/png": "[encoded data removed]",
      "text/plain": [
       "<Figure size 720x360 with 1 Axes>"
      ]
     },
     "metadata": {},
     "output_type": "display_data"
    }
   ],
   "source": [
    "sns.set(rc={'figure.figsize': (10,5)})\n",
    "ax= sns.countplot(x='trip_dayofweek', data=popular_df)"
   ]
  },
  {
   "cell_type": "code",
   "execution_count": 102,
   "metadata": {},
   "outputs": [
    {
     "data": {
      "image/png": "[encoded data removed]",
      "text/plain": [
       "<Figure size 720x360 with 1 Axes>"
      ]
     },
     "metadata": {},
     "output_type": "display_data"
    }
   ],
   "source": [
    "sns.set(rc={'figure.figsize': (10,5)})\n",
    "ax= sns.countplot(x='trip_month', data=popular_df)"
   ]
  },
  {
   "cell_type": "code",
   "execution_count": null,
   "metadata": {},
   "outputs": [],
   "source": [
    "citi.info()"
   ]
  },
  {
   "cell_type": "code",
   "execution_count": null,
   "metadata": {},
   "outputs": [],
   "source": [
    "sortby departure time stamps"
   ]
  },
  {
   "cell_type": "code",
   "execution_count": 103,
   "metadata": {},
   "outputs": [
    {
     "data": {
      "text/plain": [
       "<matplotlib.axes._subplots.AxesSubplot at 0x7fc2cf4dda30>"
      ]
     },
     "execution_count": 103,
     "metadata": {},
     "output_type": "execute_result"
    },
    {
     "data": {
      "image/png": "[encoded data removed]",
      "text/plain": [
       "<Figure size 720x360 with 1 Axes>"
      ]
     },
     "metadata": {},
     "output_type": "display_data"
    }
   ],
   "source": [
    "sns.countplot(x= 'tripduration_mins' , data=citi[citi['age']== 25])"
   ]
  },
  {
   "cell_type": "code",
   "execution_count": null,
   "metadata": {},
   "outputs": [],
   "source": []
  },
  {
   "cell_type": "code",
   "execution_count": null,
   "metadata": {},
   "outputs": [],
   "source": []
  },
  {
   "cell_type": "code",
   "execution_count": null,
   "metadata": {},
   "outputs": [],
   "source": []
  }
 ],
 "metadata": {
  "kernelspec": {
   "display_name": "Python 3",
   "language": "python",
   "name": "python3"
  },
  "language_info": {
   "codemirror_mode": {
    "name": "ipython",
    "version": 3
   },
   "file_extension": ".py",
   "mimetype": "text/x-python",
   "name": "python",
   "nbconvert_exporter": "python",
   "pygments_lexer": "ipython3",
   "version": "3.8.3"
  }
 },
 "nbformat": 4,
 "nbformat_minor": 4
}
