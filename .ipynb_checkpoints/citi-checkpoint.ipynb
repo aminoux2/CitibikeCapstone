{
 "cells": [
  {
   "cell_type": "code",
   "execution_count": 1,
   "metadata": {},
   "outputs": [],
   "source": [
    "import pandas as pd\n",
    "import numpy as np\n",
    "import seaborn as sns\n",
    "import statsmodels.formula.api as smf\n",
    "import sklearn.metrics\n",
    "from sklearn.metrics import confusion_matrix, accuracy_score\n",
    "from sklearn.model_selection import train_test_split\n",
    "from matplotlib import pyplot as plt"
   ]
  },
  {
   "cell_type": "markdown",
   "metadata": {},
   "source": [
    "# Put dataset together"
   ]
  },
  {
   "cell_type": "code",
   "execution_count": 2,
   "metadata": {},
   "outputs": [],
   "source": [
    "#only using 2019 data just for the month\n",
    "jan19=pd.read_csv('/Users/galvanize/Downloads/jan19.csv')\n",
    "feb19=pd.read_csv('/Users/galvanize/Downloads/feb19.csv')\n",
    "mar19=pd.read_csv('/Users/galvanize/Downloads/mar19.csv')\n",
    "apr19=pd.read_csv('/Users/galvanize/Downloads/apr19.csv')\n",
    "may19=pd.read_csv('/Users/galvanize/Downloads/may19.csv')\n",
    "jun19=pd.read_csv('/Users/galvanize/Downloads/jun19.csv')\n",
    "jul19=pd.read_csv('/Users/galvanize/Downloads/jul19.csv')\n",
    "aug19=pd.read_csv('/Users/galvanize/Downloads/aug19.csv')\n",
    "sep19=pd.read_csv('/Users/galvanize/Downloads/sep19.csv')\n",
    "oct19=pd.read_csv('/Users/galvanize/Downloads/oct19.csv')\n",
    "nov19=pd.read_csv('/Users/galvanize/Downloads/nov19.csv')\n",
    "dec19=pd.read_csv('/Users/galvanize/Downloads/dec19.csv')\n"
   ]
  },
  {
   "cell_type": "code",
   "execution_count": 3,
   "metadata": {},
   "outputs": [],
   "source": [
    "jan19['month'] = 1\n",
    "feb19['month'] = 2\n",
    "mar19['month'] = 3\n",
    "apr19['month'] = 4\n",
    "may19['month'] = 5\n",
    "jun19['month'] = 6\n",
    "jul19['month'] = 7\n",
    "aug19['month'] = 8\n",
    "sep19['month'] = 9\n",
    "oct19['month'] = 10\n",
    "nov19['month'] = 11\n",
    "dec19['month'] = 12"
   ]
  },
  {
   "cell_type": "code",
   "execution_count": 4,
   "metadata": {},
   "outputs": [],
   "source": [
    "citi=pd.concat([jan19, feb19, mar19, apr19, may19, jun19, jul19, aug19, sep19, oct19, nov19, dec19])"
   ]
  },
  {
   "cell_type": "code",
   "execution_count": 5,
   "metadata": {},
   "outputs": [],
   "source": [
    "citi= citi.sample(n=1000000)"
   ]
  },
  {
   "cell_type": "code",
   "execution_count": 6,
   "metadata": {},
   "outputs": [
    {
     "name": "stdout",
     "output_type": "stream",
     "text": [
      "<class 'pandas.core.frame.DataFrame'>\n",
      "Int64Index: 1000000 entries, 286412 to 467716\n",
      "Data columns (total 16 columns):\n",
      " #   Column                   Non-Null Count    Dtype  \n",
      "---  ------                   --------------    -----  \n",
      " 0   tripduration             1000000 non-null  int64  \n",
      " 1   starttime                1000000 non-null  object \n",
      " 2   stoptime                 1000000 non-null  object \n",
      " 3   start station id         999992 non-null   float64\n",
      " 4   start station name       999992 non-null   object \n",
      " 5   start station latitude   1000000 non-null  float64\n",
      " 6   start station longitude  1000000 non-null  float64\n",
      " 7   end station id           999992 non-null   float64\n",
      " 8   end station name         999992 non-null   object \n",
      " 9   end station latitude     1000000 non-null  float64\n",
      " 10  end station longitude    1000000 non-null  float64\n",
      " 11  bikeid                   1000000 non-null  int64  \n",
      " 12  usertype                 1000000 non-null  object \n",
      " 13  birth year               1000000 non-null  int64  \n",
      " 14  gender                   1000000 non-null  int64  \n",
      " 15  month                    1000000 non-null  int64  \n",
      "dtypes: float64(6), int64(5), object(5)\n",
      "memory usage: 129.7+ MB\n"
     ]
    }
   ],
   "source": [
    "citi.info()"
   ]
  },
  {
   "cell_type": "markdown",
   "metadata": {},
   "source": [
    "# Light Data cleaning and making columns"
   ]
  },
  {
   "cell_type": "code",
   "execution_count": 7,
   "metadata": {},
   "outputs": [],
   "source": [
    "citi=citi.dropna(subset=['start station id'])"
   ]
  },
  {
   "cell_type": "code",
   "execution_count": 8,
   "metadata": {},
   "outputs": [],
   "source": [
    "#pull month from start time. get it to date time form and then break it out by month, day of week, hour\n"
   ]
  },
  {
   "cell_type": "code",
   "execution_count": 9,
   "metadata": {},
   "outputs": [
    {
     "name": "stdout",
     "output_type": "stream",
     "text": [
      "<class 'pandas.core.frame.DataFrame'>\n",
      "Int64Index: 999992 entries, 286412 to 467716\n",
      "Data columns (total 16 columns):\n",
      " #   Column                   Non-Null Count   Dtype  \n",
      "---  ------                   --------------   -----  \n",
      " 0   tripduration             999992 non-null  int64  \n",
      " 1   starttime                999992 non-null  object \n",
      " 2   stoptime                 999992 non-null  object \n",
      " 3   start station id         999992 non-null  float64\n",
      " 4   start station name       999992 non-null  object \n",
      " 5   start station latitude   999992 non-null  float64\n",
      " 6   start station longitude  999992 non-null  float64\n",
      " 7   end station id           999992 non-null  float64\n",
      " 8   end station name         999992 non-null  object \n",
      " 9   end station latitude     999992 non-null  float64\n",
      " 10  end station longitude    999992 non-null  float64\n",
      " 11  bikeid                   999992 non-null  int64  \n",
      " 12  usertype                 999992 non-null  object \n",
      " 13  birth year               999992 non-null  int64  \n",
      " 14  gender                   999992 non-null  int64  \n",
      " 15  month                    999992 non-null  int64  \n",
      "dtypes: float64(6), int64(5), object(5)\n",
      "memory usage: 129.7+ MB\n"
     ]
    }
   ],
   "source": [
    "citi.info()"
   ]
  },
  {
   "cell_type": "code",
   "execution_count": 10,
   "metadata": {},
   "outputs": [],
   "source": [
    "citi.reset_index(inplace=True)"
   ]
  },
  {
   "cell_type": "code",
   "execution_count": 11,
   "metadata": {},
   "outputs": [],
   "source": [
    "citi.drop(columns= 'index', inplace=True)"
   ]
  },
  {
   "cell_type": "code",
   "execution_count": 12,
   "metadata": {},
   "outputs": [
    {
     "data": {
      "text/html": [
       "<div>\n",
       "<style scoped>\n",
       "    .dataframe tbody tr th:only-of-type {\n",
       "        vertical-align: middle;\n",
       "    }\n",
       "\n",
       "    .dataframe tbody tr th {\n",
       "        vertical-align: top;\n",
       "    }\n",
       "\n",
       "    .dataframe thead th {\n",
       "        text-align: right;\n",
       "    }\n",
       "</style>\n",
       "<table border=\"1\" class=\"dataframe\">\n",
       "  <thead>\n",
       "    <tr style=\"text-align: right;\">\n",
       "      <th></th>\n",
       "      <th>tripduration</th>\n",
       "      <th>starttime</th>\n",
       "      <th>stoptime</th>\n",
       "      <th>start station id</th>\n",
       "      <th>start station name</th>\n",
       "      <th>start station latitude</th>\n",
       "      <th>start station longitude</th>\n",
       "      <th>end station id</th>\n",
       "      <th>end station name</th>\n",
       "      <th>end station latitude</th>\n",
       "      <th>end station longitude</th>\n",
       "      <th>bikeid</th>\n",
       "      <th>usertype</th>\n",
       "      <th>birth year</th>\n",
       "      <th>gender</th>\n",
       "      <th>month</th>\n",
       "    </tr>\n",
       "  </thead>\n",
       "  <tbody>\n",
       "    <tr>\n",
       "      <th>0</th>\n",
       "      <td>569</td>\n",
       "      <td>2019-03-10 03:22:23.3270</td>\n",
       "      <td>2019-03-10 03:31:52.9430</td>\n",
       "      <td>473.0</td>\n",
       "      <td>Rivington St &amp; Chrystie St</td>\n",
       "      <td>40.721101</td>\n",
       "      <td>-73.991925</td>\n",
       "      <td>445.0</td>\n",
       "      <td>E 10 St &amp; Avenue A</td>\n",
       "      <td>40.727408</td>\n",
       "      <td>-73.981420</td>\n",
       "      <td>31105</td>\n",
       "      <td>Subscriber</td>\n",
       "      <td>1982</td>\n",
       "      <td>1</td>\n",
       "      <td>3</td>\n",
       "    </tr>\n",
       "    <tr>\n",
       "      <th>1</th>\n",
       "      <td>295</td>\n",
       "      <td>2019-08-05 20:19:37.7690</td>\n",
       "      <td>2019-08-05 20:24:33.3330</td>\n",
       "      <td>3263.0</td>\n",
       "      <td>Cooper Square &amp; Astor Pl</td>\n",
       "      <td>40.729515</td>\n",
       "      <td>-73.990753</td>\n",
       "      <td>3463.0</td>\n",
       "      <td>E 16 St &amp; Irving Pl</td>\n",
       "      <td>40.735367</td>\n",
       "      <td>-73.987974</td>\n",
       "      <td>16399</td>\n",
       "      <td>Subscriber</td>\n",
       "      <td>1964</td>\n",
       "      <td>1</td>\n",
       "      <td>8</td>\n",
       "    </tr>\n",
       "    <tr>\n",
       "      <th>2</th>\n",
       "      <td>1507</td>\n",
       "      <td>2019-08-23 18:36:18.0990</td>\n",
       "      <td>2019-08-23 19:01:25.7950</td>\n",
       "      <td>3641.0</td>\n",
       "      <td>Broadway &amp; W 25 St</td>\n",
       "      <td>40.742869</td>\n",
       "      <td>-73.989186</td>\n",
       "      <td>330.0</td>\n",
       "      <td>Reade St &amp; Broadway</td>\n",
       "      <td>40.714505</td>\n",
       "      <td>-74.005628</td>\n",
       "      <td>35048</td>\n",
       "      <td>Subscriber</td>\n",
       "      <td>1986</td>\n",
       "      <td>2</td>\n",
       "      <td>8</td>\n",
       "    </tr>\n",
       "    <tr>\n",
       "      <th>3</th>\n",
       "      <td>397</td>\n",
       "      <td>2019-01-18 14:45:44.1000</td>\n",
       "      <td>2019-01-18 14:52:21.5690</td>\n",
       "      <td>468.0</td>\n",
       "      <td>Broadway &amp; W 56 St</td>\n",
       "      <td>40.765265</td>\n",
       "      <td>-73.981923</td>\n",
       "      <td>479.0</td>\n",
       "      <td>9 Ave &amp; W 45 St</td>\n",
       "      <td>40.760193</td>\n",
       "      <td>-73.991255</td>\n",
       "      <td>20529</td>\n",
       "      <td>Subscriber</td>\n",
       "      <td>1980</td>\n",
       "      <td>1</td>\n",
       "      <td>1</td>\n",
       "    </tr>\n",
       "    <tr>\n",
       "      <th>4</th>\n",
       "      <td>1638</td>\n",
       "      <td>2019-06-09 10:42:23.8100</td>\n",
       "      <td>2019-06-09 11:09:42.5060</td>\n",
       "      <td>327.0</td>\n",
       "      <td>Vesey Pl &amp; River Terrace</td>\n",
       "      <td>40.715338</td>\n",
       "      <td>-74.016584</td>\n",
       "      <td>3472.0</td>\n",
       "      <td>W 15 St &amp; 10 Ave</td>\n",
       "      <td>40.742754</td>\n",
       "      <td>-74.007474</td>\n",
       "      <td>30921</td>\n",
       "      <td>Customer</td>\n",
       "      <td>1969</td>\n",
       "      <td>0</td>\n",
       "      <td>6</td>\n",
       "    </tr>\n",
       "  </tbody>\n",
       "</table>\n",
       "</div>"
      ],
      "text/plain": [
       "   tripduration                 starttime                  stoptime  \\\n",
       "0           569  2019-03-10 03:22:23.3270  2019-03-10 03:31:52.9430   \n",
       "1           295  2019-08-05 20:19:37.7690  2019-08-05 20:24:33.3330   \n",
       "2          1507  2019-08-23 18:36:18.0990  2019-08-23 19:01:25.7950   \n",
       "3           397  2019-01-18 14:45:44.1000  2019-01-18 14:52:21.5690   \n",
       "4          1638  2019-06-09 10:42:23.8100  2019-06-09 11:09:42.5060   \n",
       "\n",
       "   start station id          start station name  start station latitude  \\\n",
       "0             473.0  Rivington St & Chrystie St               40.721101   \n",
       "1            3263.0    Cooper Square & Astor Pl               40.729515   \n",
       "2            3641.0          Broadway & W 25 St               40.742869   \n",
       "3             468.0          Broadway & W 56 St               40.765265   \n",
       "4             327.0    Vesey Pl & River Terrace               40.715338   \n",
       "\n",
       "   start station longitude  end station id     end station name  \\\n",
       "0               -73.991925           445.0   E 10 St & Avenue A   \n",
       "1               -73.990753          3463.0  E 16 St & Irving Pl   \n",
       "2               -73.989186           330.0  Reade St & Broadway   \n",
       "3               -73.981923           479.0      9 Ave & W 45 St   \n",
       "4               -74.016584          3472.0     W 15 St & 10 Ave   \n",
       "\n",
       "   end station latitude  end station longitude  bikeid    usertype  \\\n",
       "0             40.727408             -73.981420   31105  Subscriber   \n",
       "1             40.735367             -73.987974   16399  Subscriber   \n",
       "2             40.714505             -74.005628   35048  Subscriber   \n",
       "3             40.760193             -73.991255   20529  Subscriber   \n",
       "4             40.742754             -74.007474   30921    Customer   \n",
       "\n",
       "   birth year  gender  month  \n",
       "0        1982       1      3  \n",
       "1        1964       1      8  \n",
       "2        1986       2      8  \n",
       "3        1980       1      1  \n",
       "4        1969       0      6  "
      ]
     },
     "execution_count": 12,
     "metadata": {},
     "output_type": "execute_result"
    }
   ],
   "source": [
    "citi.head()"
   ]
  },
  {
   "cell_type": "code",
   "execution_count": 13,
   "metadata": {},
   "outputs": [],
   "source": [
    "#export csv for use in Tableau\n",
    "citi.to_csv('citi.csv',index= False)"
   ]
  },
  {
   "cell_type": "code",
   "execution_count": 14,
   "metadata": {},
   "outputs": [],
   "source": [
    "citi['starttime'] = pd.to_datetime(citi['starttime'])\n",
    "citi['stoptime'] = pd.to_datetime(citi['stoptime'])\n"
   ]
  },
  {
   "cell_type": "code",
   "execution_count": 15,
   "metadata": {},
   "outputs": [],
   "source": [
    "citi['trip_dayofweek']= citi['starttime'].dt.weekday\n",
    "citi['trip_month']= citi['starttime'].dt.month\n",
    "citi['trip_hour']= citi['starttime'].dt.hour\n",
    "\n",
    "\n"
   ]
  },
  {
   "cell_type": "code",
   "execution_count": 16,
   "metadata": {},
   "outputs": [
    {
     "name": "stdout",
     "output_type": "stream",
     "text": [
      "<class 'pandas.core.frame.DataFrame'>\n",
      "RangeIndex: 999992 entries, 0 to 999991\n",
      "Data columns (total 19 columns):\n",
      " #   Column                   Non-Null Count   Dtype         \n",
      "---  ------                   --------------   -----         \n",
      " 0   tripduration             999992 non-null  int64         \n",
      " 1   starttime                999992 non-null  datetime64[ns]\n",
      " 2   stoptime                 999992 non-null  datetime64[ns]\n",
      " 3   start station id         999992 non-null  float64       \n",
      " 4   start station name       999992 non-null  object        \n",
      " 5   start station latitude   999992 non-null  float64       \n",
      " 6   start station longitude  999992 non-null  float64       \n",
      " 7   end station id           999992 non-null  float64       \n",
      " 8   end station name         999992 non-null  object        \n",
      " 9   end station latitude     999992 non-null  float64       \n",
      " 10  end station longitude    999992 non-null  float64       \n",
      " 11  bikeid                   999992 non-null  int64         \n",
      " 12  usertype                 999992 non-null  object        \n",
      " 13  birth year               999992 non-null  int64         \n",
      " 14  gender                   999992 non-null  int64         \n",
      " 15  month                    999992 non-null  int64         \n",
      " 16  trip_dayofweek           999992 non-null  int64         \n",
      " 17  trip_month               999992 non-null  int64         \n",
      " 18  trip_hour                999992 non-null  int64         \n",
      "dtypes: datetime64[ns](2), float64(6), int64(8), object(3)\n",
      "memory usage: 145.0+ MB\n"
     ]
    }
   ],
   "source": [
    "citi.info()"
   ]
  },
  {
   "cell_type": "code",
   "execution_count": 17,
   "metadata": {},
   "outputs": [
    {
     "data": {
      "text/html": [
       "<div>\n",
       "<style scoped>\n",
       "    .dataframe tbody tr th:only-of-type {\n",
       "        vertical-align: middle;\n",
       "    }\n",
       "\n",
       "    .dataframe tbody tr th {\n",
       "        vertical-align: top;\n",
       "    }\n",
       "\n",
       "    .dataframe thead th {\n",
       "        text-align: right;\n",
       "    }\n",
       "</style>\n",
       "<table border=\"1\" class=\"dataframe\">\n",
       "  <thead>\n",
       "    <tr style=\"text-align: right;\">\n",
       "      <th></th>\n",
       "      <th>tripduration</th>\n",
       "      <th>starttime</th>\n",
       "      <th>stoptime</th>\n",
       "      <th>start station id</th>\n",
       "      <th>start station name</th>\n",
       "      <th>start station latitude</th>\n",
       "      <th>start station longitude</th>\n",
       "      <th>end station id</th>\n",
       "      <th>end station name</th>\n",
       "      <th>end station latitude</th>\n",
       "      <th>end station longitude</th>\n",
       "      <th>bikeid</th>\n",
       "      <th>usertype</th>\n",
       "      <th>birth year</th>\n",
       "      <th>gender</th>\n",
       "      <th>month</th>\n",
       "      <th>trip_dayofweek</th>\n",
       "      <th>trip_month</th>\n",
       "      <th>trip_hour</th>\n",
       "    </tr>\n",
       "  </thead>\n",
       "  <tbody>\n",
       "  </tbody>\n",
       "</table>\n",
       "</div>"
      ],
      "text/plain": [
       "Empty DataFrame\n",
       "Columns: [tripduration, starttime, stoptime, start station id, start station name, start station latitude, start station longitude, end station id, end station name, end station latitude, end station longitude, bikeid, usertype, birth year, gender, month, trip_dayofweek, trip_month, trip_hour]\n",
       "Index: []"
      ]
     },
     "execution_count": 17,
     "metadata": {},
     "output_type": "execute_result"
    }
   ],
   "source": [
    "citi[citi['end station name'].isnull()]"
   ]
  },
  {
   "cell_type": "code",
   "execution_count": 18,
   "metadata": {},
   "outputs": [
    {
     "data": {
      "text/html": [
       "<div>\n",
       "<style scoped>\n",
       "    .dataframe tbody tr th:only-of-type {\n",
       "        vertical-align: middle;\n",
       "    }\n",
       "\n",
       "    .dataframe tbody tr th {\n",
       "        vertical-align: top;\n",
       "    }\n",
       "\n",
       "    .dataframe thead th {\n",
       "        text-align: right;\n",
       "    }\n",
       "</style>\n",
       "<table border=\"1\" class=\"dataframe\">\n",
       "  <thead>\n",
       "    <tr style=\"text-align: right;\">\n",
       "      <th></th>\n",
       "      <th>tripduration</th>\n",
       "      <th>starttime</th>\n",
       "      <th>stoptime</th>\n",
       "      <th>start station id</th>\n",
       "      <th>start station name</th>\n",
       "      <th>start station latitude</th>\n",
       "      <th>start station longitude</th>\n",
       "      <th>end station id</th>\n",
       "      <th>end station name</th>\n",
       "      <th>end station latitude</th>\n",
       "      <th>end station longitude</th>\n",
       "      <th>bikeid</th>\n",
       "      <th>usertype</th>\n",
       "      <th>birth year</th>\n",
       "      <th>gender</th>\n",
       "      <th>month</th>\n",
       "      <th>trip_dayofweek</th>\n",
       "      <th>trip_month</th>\n",
       "      <th>trip_hour</th>\n",
       "    </tr>\n",
       "  </thead>\n",
       "  <tbody>\n",
       "    <tr>\n",
       "      <th>0</th>\n",
       "      <td>569</td>\n",
       "      <td>2019-03-10 03:22:23.327</td>\n",
       "      <td>2019-03-10 03:31:52.943</td>\n",
       "      <td>473.0</td>\n",
       "      <td>Rivington St &amp; Chrystie St</td>\n",
       "      <td>40.721101</td>\n",
       "      <td>-73.991925</td>\n",
       "      <td>445.0</td>\n",
       "      <td>E 10 St &amp; Avenue A</td>\n",
       "      <td>40.727408</td>\n",
       "      <td>-73.981420</td>\n",
       "      <td>31105</td>\n",
       "      <td>Subscriber</td>\n",
       "      <td>1982</td>\n",
       "      <td>1</td>\n",
       "      <td>3</td>\n",
       "      <td>6</td>\n",
       "      <td>3</td>\n",
       "      <td>3</td>\n",
       "    </tr>\n",
       "    <tr>\n",
       "      <th>1</th>\n",
       "      <td>295</td>\n",
       "      <td>2019-08-05 20:19:37.769</td>\n",
       "      <td>2019-08-05 20:24:33.333</td>\n",
       "      <td>3263.0</td>\n",
       "      <td>Cooper Square &amp; Astor Pl</td>\n",
       "      <td>40.729515</td>\n",
       "      <td>-73.990753</td>\n",
       "      <td>3463.0</td>\n",
       "      <td>E 16 St &amp; Irving Pl</td>\n",
       "      <td>40.735367</td>\n",
       "      <td>-73.987974</td>\n",
       "      <td>16399</td>\n",
       "      <td>Subscriber</td>\n",
       "      <td>1964</td>\n",
       "      <td>1</td>\n",
       "      <td>8</td>\n",
       "      <td>0</td>\n",
       "      <td>8</td>\n",
       "      <td>20</td>\n",
       "    </tr>\n",
       "    <tr>\n",
       "      <th>2</th>\n",
       "      <td>1507</td>\n",
       "      <td>2019-08-23 18:36:18.099</td>\n",
       "      <td>2019-08-23 19:01:25.795</td>\n",
       "      <td>3641.0</td>\n",
       "      <td>Broadway &amp; W 25 St</td>\n",
       "      <td>40.742869</td>\n",
       "      <td>-73.989186</td>\n",
       "      <td>330.0</td>\n",
       "      <td>Reade St &amp; Broadway</td>\n",
       "      <td>40.714505</td>\n",
       "      <td>-74.005628</td>\n",
       "      <td>35048</td>\n",
       "      <td>Subscriber</td>\n",
       "      <td>1986</td>\n",
       "      <td>2</td>\n",
       "      <td>8</td>\n",
       "      <td>4</td>\n",
       "      <td>8</td>\n",
       "      <td>18</td>\n",
       "    </tr>\n",
       "    <tr>\n",
       "      <th>3</th>\n",
       "      <td>397</td>\n",
       "      <td>2019-01-18 14:45:44.100</td>\n",
       "      <td>2019-01-18 14:52:21.569</td>\n",
       "      <td>468.0</td>\n",
       "      <td>Broadway &amp; W 56 St</td>\n",
       "      <td>40.765265</td>\n",
       "      <td>-73.981923</td>\n",
       "      <td>479.0</td>\n",
       "      <td>9 Ave &amp; W 45 St</td>\n",
       "      <td>40.760193</td>\n",
       "      <td>-73.991255</td>\n",
       "      <td>20529</td>\n",
       "      <td>Subscriber</td>\n",
       "      <td>1980</td>\n",
       "      <td>1</td>\n",
       "      <td>1</td>\n",
       "      <td>4</td>\n",
       "      <td>1</td>\n",
       "      <td>14</td>\n",
       "    </tr>\n",
       "    <tr>\n",
       "      <th>4</th>\n",
       "      <td>1638</td>\n",
       "      <td>2019-06-09 10:42:23.810</td>\n",
       "      <td>2019-06-09 11:09:42.506</td>\n",
       "      <td>327.0</td>\n",
       "      <td>Vesey Pl &amp; River Terrace</td>\n",
       "      <td>40.715338</td>\n",
       "      <td>-74.016584</td>\n",
       "      <td>3472.0</td>\n",
       "      <td>W 15 St &amp; 10 Ave</td>\n",
       "      <td>40.742754</td>\n",
       "      <td>-74.007474</td>\n",
       "      <td>30921</td>\n",
       "      <td>Customer</td>\n",
       "      <td>1969</td>\n",
       "      <td>0</td>\n",
       "      <td>6</td>\n",
       "      <td>6</td>\n",
       "      <td>6</td>\n",
       "      <td>10</td>\n",
       "    </tr>\n",
       "  </tbody>\n",
       "</table>\n",
       "</div>"
      ],
      "text/plain": [
       "   tripduration               starttime                stoptime  \\\n",
       "0           569 2019-03-10 03:22:23.327 2019-03-10 03:31:52.943   \n",
       "1           295 2019-08-05 20:19:37.769 2019-08-05 20:24:33.333   \n",
       "2          1507 2019-08-23 18:36:18.099 2019-08-23 19:01:25.795   \n",
       "3           397 2019-01-18 14:45:44.100 2019-01-18 14:52:21.569   \n",
       "4          1638 2019-06-09 10:42:23.810 2019-06-09 11:09:42.506   \n",
       "\n",
       "   start station id          start station name  start station latitude  \\\n",
       "0             473.0  Rivington St & Chrystie St               40.721101   \n",
       "1            3263.0    Cooper Square & Astor Pl               40.729515   \n",
       "2            3641.0          Broadway & W 25 St               40.742869   \n",
       "3             468.0          Broadway & W 56 St               40.765265   \n",
       "4             327.0    Vesey Pl & River Terrace               40.715338   \n",
       "\n",
       "   start station longitude  end station id     end station name  \\\n",
       "0               -73.991925           445.0   E 10 St & Avenue A   \n",
       "1               -73.990753          3463.0  E 16 St & Irving Pl   \n",
       "2               -73.989186           330.0  Reade St & Broadway   \n",
       "3               -73.981923           479.0      9 Ave & W 45 St   \n",
       "4               -74.016584          3472.0     W 15 St & 10 Ave   \n",
       "\n",
       "   end station latitude  end station longitude  bikeid    usertype  \\\n",
       "0             40.727408             -73.981420   31105  Subscriber   \n",
       "1             40.735367             -73.987974   16399  Subscriber   \n",
       "2             40.714505             -74.005628   35048  Subscriber   \n",
       "3             40.760193             -73.991255   20529  Subscriber   \n",
       "4             40.742754             -74.007474   30921    Customer   \n",
       "\n",
       "   birth year  gender  month  trip_dayofweek  trip_month  trip_hour  \n",
       "0        1982       1      3               6           3          3  \n",
       "1        1964       1      8               0           8         20  \n",
       "2        1986       2      8               4           8         18  \n",
       "3        1980       1      1               4           1         14  \n",
       "4        1969       0      6               6           6         10  "
      ]
     },
     "execution_count": 18,
     "metadata": {},
     "output_type": "execute_result"
    }
   ],
   "source": [
    "citi.head()"
   ]
  },
  {
   "cell_type": "code",
   "execution_count": 19,
   "metadata": {},
   "outputs": [],
   "source": [
    "#make age column\n",
    "citi['age']= 2019 - citi['birth year']"
   ]
  },
  {
   "cell_type": "code",
   "execution_count": 20,
   "metadata": {},
   "outputs": [],
   "source": [
    "#make trip duration from seconds to minutes\n",
    "citi['tripduration_mins']= citi['tripduration']/60"
   ]
  },
  {
   "cell_type": "markdown",
   "metadata": {},
   "source": [
    "# EDA"
   ]
  },
  {
   "cell_type": "code",
   "execution_count": 21,
   "metadata": {},
   "outputs": [
    {
     "data": {
      "text/plain": [
       "55071.03333333333"
      ]
     },
     "execution_count": 21,
     "metadata": {},
     "output_type": "execute_result"
    }
   ],
   "source": [
    "citi.tripduration_mins.max()"
   ]
  },
  {
   "cell_type": "code",
   "execution_count": 22,
   "metadata": {},
   "outputs": [
    {
     "data": {
      "text/plain": [
       "Pershing Square North            7628\n",
       "E 17 St & Broadway               5905\n",
       "8 Ave & W 31 St                  5779\n",
       "Broadway & E 14 St               5631\n",
       "Broadway & E 22 St               5589\n",
       "                                 ... \n",
       "Stephen St & Seneca Ave             1\n",
       "Cypress Ave & George St             1\n",
       "Greene Ave & Grandview Ave          1\n",
       "Wyckoff St & Nevins St              1\n",
       "Linden St & Knickerbocker Ave       1\n",
       "Name: start station name, Length: 928, dtype: int64"
      ]
     },
     "execution_count": 22,
     "metadata": {},
     "output_type": "execute_result"
    }
   ],
   "source": [
    "citi['start station name'].value_counts()"
   ]
  },
  {
   "cell_type": "code",
   "execution_count": 23,
   "metadata": {},
   "outputs": [
    {
     "data": {
      "text/plain": [
       "116       517.0\n",
       "309       517.0\n",
       "368       517.0\n",
       "459       517.0\n",
       "573       517.0\n",
       "          ...  \n",
       "999167    517.0\n",
       "999180    517.0\n",
       "999561    517.0\n",
       "999729    517.0\n",
       "999879    517.0\n",
       "Name: end station id, Length: 2934, dtype: float64"
      ]
     },
     "execution_count": 23,
     "metadata": {},
     "output_type": "execute_result"
    }
   ],
   "source": [
    "citi[citi['end station name']== 'Pershing Square South']['end station id']"
   ]
  },
  {
   "cell_type": "code",
   "execution_count": 24,
   "metadata": {},
   "outputs": [
    {
     "data": {
      "text/plain": [
       "49        497.0\n",
       "279       497.0\n",
       "363       497.0\n",
       "514       497.0\n",
       "711       497.0\n",
       "          ...  \n",
       "998969    497.0\n",
       "999066    497.0\n",
       "999504    497.0\n",
       "999722    497.0\n",
       "999791    497.0\n",
       "Name: end station id, Length: 6118, dtype: float64"
      ]
     },
     "execution_count": 24,
     "metadata": {},
     "output_type": "execute_result"
    }
   ],
   "source": [
    "citi[citi['end station name']== 'E 17 St & Broadway']['end station id']"
   ]
  },
  {
   "cell_type": "code",
   "execution_count": 25,
   "metadata": {},
   "outputs": [
    {
     "data": {
      "text/html": [
       "<div>\n",
       "<style scoped>\n",
       "    .dataframe tbody tr th:only-of-type {\n",
       "        vertical-align: middle;\n",
       "    }\n",
       "\n",
       "    .dataframe tbody tr th {\n",
       "        vertical-align: top;\n",
       "    }\n",
       "\n",
       "    .dataframe thead th {\n",
       "        text-align: right;\n",
       "    }\n",
       "</style>\n",
       "<table border=\"1\" class=\"dataframe\">\n",
       "  <thead>\n",
       "    <tr style=\"text-align: right;\">\n",
       "      <th></th>\n",
       "      <th>tripduration</th>\n",
       "      <th>starttime</th>\n",
       "      <th>stoptime</th>\n",
       "      <th>start station id</th>\n",
       "      <th>start station latitude</th>\n",
       "      <th>start station longitude</th>\n",
       "      <th>end station id</th>\n",
       "      <th>end station name</th>\n",
       "      <th>end station latitude</th>\n",
       "      <th>end station longitude</th>\n",
       "      <th>bikeid</th>\n",
       "      <th>usertype</th>\n",
       "      <th>birth year</th>\n",
       "      <th>gender</th>\n",
       "      <th>month</th>\n",
       "      <th>trip_dayofweek</th>\n",
       "      <th>trip_month</th>\n",
       "      <th>trip_hour</th>\n",
       "      <th>age</th>\n",
       "      <th>tripduration_mins</th>\n",
       "    </tr>\n",
       "    <tr>\n",
       "      <th>start station name</th>\n",
       "      <th></th>\n",
       "      <th></th>\n",
       "      <th></th>\n",
       "      <th></th>\n",
       "      <th></th>\n",
       "      <th></th>\n",
       "      <th></th>\n",
       "      <th></th>\n",
       "      <th></th>\n",
       "      <th></th>\n",
       "      <th></th>\n",
       "      <th></th>\n",
       "      <th></th>\n",
       "      <th></th>\n",
       "      <th></th>\n",
       "      <th></th>\n",
       "      <th></th>\n",
       "      <th></th>\n",
       "      <th></th>\n",
       "      <th></th>\n",
       "    </tr>\n",
       "  </thead>\n",
       "  <tbody>\n",
       "    <tr>\n",
       "      <th>Pershing Square North</th>\n",
       "      <td>7628</td>\n",
       "      <td>7628</td>\n",
       "      <td>7628</td>\n",
       "      <td>7628</td>\n",
       "      <td>7628</td>\n",
       "      <td>7628</td>\n",
       "      <td>7628</td>\n",
       "      <td>7628</td>\n",
       "      <td>7628</td>\n",
       "      <td>7628</td>\n",
       "      <td>7628</td>\n",
       "      <td>7628</td>\n",
       "      <td>7628</td>\n",
       "      <td>7628</td>\n",
       "      <td>7628</td>\n",
       "      <td>7628</td>\n",
       "      <td>7628</td>\n",
       "      <td>7628</td>\n",
       "      <td>7628</td>\n",
       "      <td>7628</td>\n",
       "    </tr>\n",
       "    <tr>\n",
       "      <th>E 17 St &amp; Broadway</th>\n",
       "      <td>5905</td>\n",
       "      <td>5905</td>\n",
       "      <td>5905</td>\n",
       "      <td>5905</td>\n",
       "      <td>5905</td>\n",
       "      <td>5905</td>\n",
       "      <td>5905</td>\n",
       "      <td>5905</td>\n",
       "      <td>5905</td>\n",
       "      <td>5905</td>\n",
       "      <td>5905</td>\n",
       "      <td>5905</td>\n",
       "      <td>5905</td>\n",
       "      <td>5905</td>\n",
       "      <td>5905</td>\n",
       "      <td>5905</td>\n",
       "      <td>5905</td>\n",
       "      <td>5905</td>\n",
       "      <td>5905</td>\n",
       "      <td>5905</td>\n",
       "    </tr>\n",
       "    <tr>\n",
       "      <th>8 Ave &amp; W 31 St</th>\n",
       "      <td>5779</td>\n",
       "      <td>5779</td>\n",
       "      <td>5779</td>\n",
       "      <td>5779</td>\n",
       "      <td>5779</td>\n",
       "      <td>5779</td>\n",
       "      <td>5779</td>\n",
       "      <td>5779</td>\n",
       "      <td>5779</td>\n",
       "      <td>5779</td>\n",
       "      <td>5779</td>\n",
       "      <td>5779</td>\n",
       "      <td>5779</td>\n",
       "      <td>5779</td>\n",
       "      <td>5779</td>\n",
       "      <td>5779</td>\n",
       "      <td>5779</td>\n",
       "      <td>5779</td>\n",
       "      <td>5779</td>\n",
       "      <td>5779</td>\n",
       "    </tr>\n",
       "    <tr>\n",
       "      <th>Broadway &amp; E 14 St</th>\n",
       "      <td>5631</td>\n",
       "      <td>5631</td>\n",
       "      <td>5631</td>\n",
       "      <td>5631</td>\n",
       "      <td>5631</td>\n",
       "      <td>5631</td>\n",
       "      <td>5631</td>\n",
       "      <td>5631</td>\n",
       "      <td>5631</td>\n",
       "      <td>5631</td>\n",
       "      <td>5631</td>\n",
       "      <td>5631</td>\n",
       "      <td>5631</td>\n",
       "      <td>5631</td>\n",
       "      <td>5631</td>\n",
       "      <td>5631</td>\n",
       "      <td>5631</td>\n",
       "      <td>5631</td>\n",
       "      <td>5631</td>\n",
       "      <td>5631</td>\n",
       "    </tr>\n",
       "    <tr>\n",
       "      <th>Broadway &amp; E 22 St</th>\n",
       "      <td>5589</td>\n",
       "      <td>5589</td>\n",
       "      <td>5589</td>\n",
       "      <td>5589</td>\n",
       "      <td>5589</td>\n",
       "      <td>5589</td>\n",
       "      <td>5589</td>\n",
       "      <td>5589</td>\n",
       "      <td>5589</td>\n",
       "      <td>5589</td>\n",
       "      <td>5589</td>\n",
       "      <td>5589</td>\n",
       "      <td>5589</td>\n",
       "      <td>5589</td>\n",
       "      <td>5589</td>\n",
       "      <td>5589</td>\n",
       "      <td>5589</td>\n",
       "      <td>5589</td>\n",
       "      <td>5589</td>\n",
       "      <td>5589</td>\n",
       "    </tr>\n",
       "    <tr>\n",
       "      <th>W 21 St &amp; 6 Ave</th>\n",
       "      <td>5311</td>\n",
       "      <td>5311</td>\n",
       "      <td>5311</td>\n",
       "      <td>5311</td>\n",
       "      <td>5311</td>\n",
       "      <td>5311</td>\n",
       "      <td>5311</td>\n",
       "      <td>5311</td>\n",
       "      <td>5311</td>\n",
       "      <td>5311</td>\n",
       "      <td>5311</td>\n",
       "      <td>5311</td>\n",
       "      <td>5311</td>\n",
       "      <td>5311</td>\n",
       "      <td>5311</td>\n",
       "      <td>5311</td>\n",
       "      <td>5311</td>\n",
       "      <td>5311</td>\n",
       "      <td>5311</td>\n",
       "      <td>5311</td>\n",
       "    </tr>\n",
       "    <tr>\n",
       "      <th>West St &amp; Chambers St</th>\n",
       "      <td>5260</td>\n",
       "      <td>5260</td>\n",
       "      <td>5260</td>\n",
       "      <td>5260</td>\n",
       "      <td>5260</td>\n",
       "      <td>5260</td>\n",
       "      <td>5260</td>\n",
       "      <td>5260</td>\n",
       "      <td>5260</td>\n",
       "      <td>5260</td>\n",
       "      <td>5260</td>\n",
       "      <td>5260</td>\n",
       "      <td>5260</td>\n",
       "      <td>5260</td>\n",
       "      <td>5260</td>\n",
       "      <td>5260</td>\n",
       "      <td>5260</td>\n",
       "      <td>5260</td>\n",
       "      <td>5260</td>\n",
       "      <td>5260</td>\n",
       "    </tr>\n",
       "    <tr>\n",
       "      <th>Broadway &amp; W 60 St</th>\n",
       "      <td>5194</td>\n",
       "      <td>5194</td>\n",
       "      <td>5194</td>\n",
       "      <td>5194</td>\n",
       "      <td>5194</td>\n",
       "      <td>5194</td>\n",
       "      <td>5194</td>\n",
       "      <td>5194</td>\n",
       "      <td>5194</td>\n",
       "      <td>5194</td>\n",
       "      <td>5194</td>\n",
       "      <td>5194</td>\n",
       "      <td>5194</td>\n",
       "      <td>5194</td>\n",
       "      <td>5194</td>\n",
       "      <td>5194</td>\n",
       "      <td>5194</td>\n",
       "      <td>5194</td>\n",
       "      <td>5194</td>\n",
       "      <td>5194</td>\n",
       "    </tr>\n",
       "    <tr>\n",
       "      <th>Christopher St &amp; Greenwich St</th>\n",
       "      <td>4892</td>\n",
       "      <td>4892</td>\n",
       "      <td>4892</td>\n",
       "      <td>4892</td>\n",
       "      <td>4892</td>\n",
       "      <td>4892</td>\n",
       "      <td>4892</td>\n",
       "      <td>4892</td>\n",
       "      <td>4892</td>\n",
       "      <td>4892</td>\n",
       "      <td>4892</td>\n",
       "      <td>4892</td>\n",
       "      <td>4892</td>\n",
       "      <td>4892</td>\n",
       "      <td>4892</td>\n",
       "      <td>4892</td>\n",
       "      <td>4892</td>\n",
       "      <td>4892</td>\n",
       "      <td>4892</td>\n",
       "      <td>4892</td>\n",
       "    </tr>\n",
       "    <tr>\n",
       "      <th>12 Ave &amp; W 40 St</th>\n",
       "      <td>4847</td>\n",
       "      <td>4847</td>\n",
       "      <td>4847</td>\n",
       "      <td>4847</td>\n",
       "      <td>4847</td>\n",
       "      <td>4847</td>\n",
       "      <td>4847</td>\n",
       "      <td>4847</td>\n",
       "      <td>4847</td>\n",
       "      <td>4847</td>\n",
       "      <td>4847</td>\n",
       "      <td>4847</td>\n",
       "      <td>4847</td>\n",
       "      <td>4847</td>\n",
       "      <td>4847</td>\n",
       "      <td>4847</td>\n",
       "      <td>4847</td>\n",
       "      <td>4847</td>\n",
       "      <td>4847</td>\n",
       "      <td>4847</td>\n",
       "    </tr>\n",
       "  </tbody>\n",
       "</table>\n",
       "</div>"
      ],
      "text/plain": [
       "                               tripduration  starttime  stoptime  \\\n",
       "start station name                                                 \n",
       "Pershing Square North                  7628       7628      7628   \n",
       "E 17 St & Broadway                     5905       5905      5905   \n",
       "8 Ave & W 31 St                        5779       5779      5779   \n",
       "Broadway & E 14 St                     5631       5631      5631   \n",
       "Broadway & E 22 St                     5589       5589      5589   \n",
       "W 21 St & 6 Ave                        5311       5311      5311   \n",
       "West St & Chambers St                  5260       5260      5260   \n",
       "Broadway & W 60 St                     5194       5194      5194   \n",
       "Christopher St & Greenwich St          4892       4892      4892   \n",
       "12 Ave & W 40 St                       4847       4847      4847   \n",
       "\n",
       "                               start station id  start station latitude  \\\n",
       "start station name                                                        \n",
       "Pershing Square North                      7628                    7628   \n",
       "E 17 St & Broadway                         5905                    5905   \n",
       "8 Ave & W 31 St                            5779                    5779   \n",
       "Broadway & E 14 St                         5631                    5631   \n",
       "Broadway & E 22 St                         5589                    5589   \n",
       "W 21 St & 6 Ave                            5311                    5311   \n",
       "West St & Chambers St                      5260                    5260   \n",
       "Broadway & W 60 St                         5194                    5194   \n",
       "Christopher St & Greenwich St              4892                    4892   \n",
       "12 Ave & W 40 St                           4847                    4847   \n",
       "\n",
       "                               start station longitude  end station id  \\\n",
       "start station name                                                       \n",
       "Pershing Square North                             7628            7628   \n",
       "E 17 St & Broadway                                5905            5905   \n",
       "8 Ave & W 31 St                                   5779            5779   \n",
       "Broadway & E 14 St                                5631            5631   \n",
       "Broadway & E 22 St                                5589            5589   \n",
       "W 21 St & 6 Ave                                   5311            5311   \n",
       "West St & Chambers St                             5260            5260   \n",
       "Broadway & W 60 St                                5194            5194   \n",
       "Christopher St & Greenwich St                     4892            4892   \n",
       "12 Ave & W 40 St                                  4847            4847   \n",
       "\n",
       "                               end station name  end station latitude  \\\n",
       "start station name                                                      \n",
       "Pershing Square North                      7628                  7628   \n",
       "E 17 St & Broadway                         5905                  5905   \n",
       "8 Ave & W 31 St                            5779                  5779   \n",
       "Broadway & E 14 St                         5631                  5631   \n",
       "Broadway & E 22 St                         5589                  5589   \n",
       "W 21 St & 6 Ave                            5311                  5311   \n",
       "West St & Chambers St                      5260                  5260   \n",
       "Broadway & W 60 St                         5194                  5194   \n",
       "Christopher St & Greenwich St              4892                  4892   \n",
       "12 Ave & W 40 St                           4847                  4847   \n",
       "\n",
       "                               end station longitude  bikeid  usertype  \\\n",
       "start station name                                                       \n",
       "Pershing Square North                           7628    7628      7628   \n",
       "E 17 St & Broadway                              5905    5905      5905   \n",
       "8 Ave & W 31 St                                 5779    5779      5779   \n",
       "Broadway & E 14 St                              5631    5631      5631   \n",
       "Broadway & E 22 St                              5589    5589      5589   \n",
       "W 21 St & 6 Ave                                 5311    5311      5311   \n",
       "West St & Chambers St                           5260    5260      5260   \n",
       "Broadway & W 60 St                              5194    5194      5194   \n",
       "Christopher St & Greenwich St                   4892    4892      4892   \n",
       "12 Ave & W 40 St                                4847    4847      4847   \n",
       "\n",
       "                               birth year  gender  month  trip_dayofweek  \\\n",
       "start station name                                                         \n",
       "Pershing Square North                7628    7628   7628            7628   \n",
       "E 17 St & Broadway                   5905    5905   5905            5905   \n",
       "8 Ave & W 31 St                      5779    5779   5779            5779   \n",
       "Broadway & E 14 St                   5631    5631   5631            5631   \n",
       "Broadway & E 22 St                   5589    5589   5589            5589   \n",
       "W 21 St & 6 Ave                      5311    5311   5311            5311   \n",
       "West St & Chambers St                5260    5260   5260            5260   \n",
       "Broadway & W 60 St                   5194    5194   5194            5194   \n",
       "Christopher St & Greenwich St        4892    4892   4892            4892   \n",
       "12 Ave & W 40 St                     4847    4847   4847            4847   \n",
       "\n",
       "                               trip_month  trip_hour   age  tripduration_mins  \n",
       "start station name                                                             \n",
       "Pershing Square North                7628       7628  7628               7628  \n",
       "E 17 St & Broadway                   5905       5905  5905               5905  \n",
       "8 Ave & W 31 St                      5779       5779  5779               5779  \n",
       "Broadway & E 14 St                   5631       5631  5631               5631  \n",
       "Broadway & E 22 St                   5589       5589  5589               5589  \n",
       "W 21 St & 6 Ave                      5311       5311  5311               5311  \n",
       "West St & Chambers St                5260       5260  5260               5260  \n",
       "Broadway & W 60 St                   5194       5194  5194               5194  \n",
       "Christopher St & Greenwich St        4892       4892  4892               4892  \n",
       "12 Ave & W 40 St                     4847       4847  4847               4847  "
      ]
     },
     "execution_count": 25,
     "metadata": {},
     "output_type": "execute_result"
    }
   ],
   "source": [
    "#most popular starting stations\n",
    "citi.groupby('start station name').count().sort_values(by='age', ascending=False).head(10)"
   ]
  },
  {
   "cell_type": "code",
   "execution_count": 26,
   "metadata": {},
   "outputs": [
    {
     "data": {
      "text/html": [
       "<div>\n",
       "<style scoped>\n",
       "    .dataframe tbody tr th:only-of-type {\n",
       "        vertical-align: middle;\n",
       "    }\n",
       "\n",
       "    .dataframe tbody tr th {\n",
       "        vertical-align: top;\n",
       "    }\n",
       "\n",
       "    .dataframe thead th {\n",
       "        text-align: right;\n",
       "    }\n",
       "</style>\n",
       "<table border=\"1\" class=\"dataframe\">\n",
       "  <thead>\n",
       "    <tr style=\"text-align: right;\">\n",
       "      <th></th>\n",
       "      <th>tripduration</th>\n",
       "      <th>starttime</th>\n",
       "      <th>stoptime</th>\n",
       "      <th>start station id</th>\n",
       "      <th>start station name</th>\n",
       "      <th>start station latitude</th>\n",
       "      <th>start station longitude</th>\n",
       "      <th>end station id</th>\n",
       "      <th>end station latitude</th>\n",
       "      <th>end station longitude</th>\n",
       "      <th>bikeid</th>\n",
       "      <th>usertype</th>\n",
       "      <th>birth year</th>\n",
       "      <th>gender</th>\n",
       "      <th>month</th>\n",
       "      <th>trip_dayofweek</th>\n",
       "      <th>trip_month</th>\n",
       "      <th>trip_hour</th>\n",
       "      <th>age</th>\n",
       "      <th>tripduration_mins</th>\n",
       "    </tr>\n",
       "    <tr>\n",
       "      <th>end station name</th>\n",
       "      <th></th>\n",
       "      <th></th>\n",
       "      <th></th>\n",
       "      <th></th>\n",
       "      <th></th>\n",
       "      <th></th>\n",
       "      <th></th>\n",
       "      <th></th>\n",
       "      <th></th>\n",
       "      <th></th>\n",
       "      <th></th>\n",
       "      <th></th>\n",
       "      <th></th>\n",
       "      <th></th>\n",
       "      <th></th>\n",
       "      <th></th>\n",
       "      <th></th>\n",
       "      <th></th>\n",
       "      <th></th>\n",
       "      <th></th>\n",
       "    </tr>\n",
       "  </thead>\n",
       "  <tbody>\n",
       "    <tr>\n",
       "      <th>Pershing Square North</th>\n",
       "      <td>7616</td>\n",
       "      <td>7616</td>\n",
       "      <td>7616</td>\n",
       "      <td>7616</td>\n",
       "      <td>7616</td>\n",
       "      <td>7616</td>\n",
       "      <td>7616</td>\n",
       "      <td>7616</td>\n",
       "      <td>7616</td>\n",
       "      <td>7616</td>\n",
       "      <td>7616</td>\n",
       "      <td>7616</td>\n",
       "      <td>7616</td>\n",
       "      <td>7616</td>\n",
       "      <td>7616</td>\n",
       "      <td>7616</td>\n",
       "      <td>7616</td>\n",
       "      <td>7616</td>\n",
       "      <td>7616</td>\n",
       "      <td>7616</td>\n",
       "    </tr>\n",
       "    <tr>\n",
       "      <th>E 17 St &amp; Broadway</th>\n",
       "      <td>6118</td>\n",
       "      <td>6118</td>\n",
       "      <td>6118</td>\n",
       "      <td>6118</td>\n",
       "      <td>6118</td>\n",
       "      <td>6118</td>\n",
       "      <td>6118</td>\n",
       "      <td>6118</td>\n",
       "      <td>6118</td>\n",
       "      <td>6118</td>\n",
       "      <td>6118</td>\n",
       "      <td>6118</td>\n",
       "      <td>6118</td>\n",
       "      <td>6118</td>\n",
       "      <td>6118</td>\n",
       "      <td>6118</td>\n",
       "      <td>6118</td>\n",
       "      <td>6118</td>\n",
       "      <td>6118</td>\n",
       "      <td>6118</td>\n",
       "    </tr>\n",
       "    <tr>\n",
       "      <th>Broadway &amp; E 22 St</th>\n",
       "      <td>6041</td>\n",
       "      <td>6041</td>\n",
       "      <td>6041</td>\n",
       "      <td>6041</td>\n",
       "      <td>6041</td>\n",
       "      <td>6041</td>\n",
       "      <td>6041</td>\n",
       "      <td>6041</td>\n",
       "      <td>6041</td>\n",
       "      <td>6041</td>\n",
       "      <td>6041</td>\n",
       "      <td>6041</td>\n",
       "      <td>6041</td>\n",
       "      <td>6041</td>\n",
       "      <td>6041</td>\n",
       "      <td>6041</td>\n",
       "      <td>6041</td>\n",
       "      <td>6041</td>\n",
       "      <td>6041</td>\n",
       "      <td>6041</td>\n",
       "    </tr>\n",
       "    <tr>\n",
       "      <th>8 Ave &amp; W 31 St</th>\n",
       "      <td>5929</td>\n",
       "      <td>5929</td>\n",
       "      <td>5929</td>\n",
       "      <td>5929</td>\n",
       "      <td>5929</td>\n",
       "      <td>5929</td>\n",
       "      <td>5929</td>\n",
       "      <td>5929</td>\n",
       "      <td>5929</td>\n",
       "      <td>5929</td>\n",
       "      <td>5929</td>\n",
       "      <td>5929</td>\n",
       "      <td>5929</td>\n",
       "      <td>5929</td>\n",
       "      <td>5929</td>\n",
       "      <td>5929</td>\n",
       "      <td>5929</td>\n",
       "      <td>5929</td>\n",
       "      <td>5929</td>\n",
       "      <td>5929</td>\n",
       "    </tr>\n",
       "    <tr>\n",
       "      <th>West St &amp; Chambers St</th>\n",
       "      <td>5654</td>\n",
       "      <td>5654</td>\n",
       "      <td>5654</td>\n",
       "      <td>5654</td>\n",
       "      <td>5654</td>\n",
       "      <td>5654</td>\n",
       "      <td>5654</td>\n",
       "      <td>5654</td>\n",
       "      <td>5654</td>\n",
       "      <td>5654</td>\n",
       "      <td>5654</td>\n",
       "      <td>5654</td>\n",
       "      <td>5654</td>\n",
       "      <td>5654</td>\n",
       "      <td>5654</td>\n",
       "      <td>5654</td>\n",
       "      <td>5654</td>\n",
       "      <td>5654</td>\n",
       "      <td>5654</td>\n",
       "      <td>5654</td>\n",
       "    </tr>\n",
       "    <tr>\n",
       "      <th>Broadway &amp; E 14 St</th>\n",
       "      <td>5571</td>\n",
       "      <td>5571</td>\n",
       "      <td>5571</td>\n",
       "      <td>5571</td>\n",
       "      <td>5571</td>\n",
       "      <td>5571</td>\n",
       "      <td>5571</td>\n",
       "      <td>5571</td>\n",
       "      <td>5571</td>\n",
       "      <td>5571</td>\n",
       "      <td>5571</td>\n",
       "      <td>5571</td>\n",
       "      <td>5571</td>\n",
       "      <td>5571</td>\n",
       "      <td>5571</td>\n",
       "      <td>5571</td>\n",
       "      <td>5571</td>\n",
       "      <td>5571</td>\n",
       "      <td>5571</td>\n",
       "      <td>5571</td>\n",
       "    </tr>\n",
       "    <tr>\n",
       "      <th>W 21 St &amp; 6 Ave</th>\n",
       "      <td>5534</td>\n",
       "      <td>5534</td>\n",
       "      <td>5534</td>\n",
       "      <td>5534</td>\n",
       "      <td>5534</td>\n",
       "      <td>5534</td>\n",
       "      <td>5534</td>\n",
       "      <td>5534</td>\n",
       "      <td>5534</td>\n",
       "      <td>5534</td>\n",
       "      <td>5534</td>\n",
       "      <td>5534</td>\n",
       "      <td>5534</td>\n",
       "      <td>5534</td>\n",
       "      <td>5534</td>\n",
       "      <td>5534</td>\n",
       "      <td>5534</td>\n",
       "      <td>5534</td>\n",
       "      <td>5534</td>\n",
       "      <td>5534</td>\n",
       "    </tr>\n",
       "    <tr>\n",
       "      <th>12 Ave &amp; W 40 St</th>\n",
       "      <td>5059</td>\n",
       "      <td>5059</td>\n",
       "      <td>5059</td>\n",
       "      <td>5059</td>\n",
       "      <td>5059</td>\n",
       "      <td>5059</td>\n",
       "      <td>5059</td>\n",
       "      <td>5059</td>\n",
       "      <td>5059</td>\n",
       "      <td>5059</td>\n",
       "      <td>5059</td>\n",
       "      <td>5059</td>\n",
       "      <td>5059</td>\n",
       "      <td>5059</td>\n",
       "      <td>5059</td>\n",
       "      <td>5059</td>\n",
       "      <td>5059</td>\n",
       "      <td>5059</td>\n",
       "      <td>5059</td>\n",
       "      <td>5059</td>\n",
       "    </tr>\n",
       "    <tr>\n",
       "      <th>Christopher St &amp; Greenwich St</th>\n",
       "      <td>4971</td>\n",
       "      <td>4971</td>\n",
       "      <td>4971</td>\n",
       "      <td>4971</td>\n",
       "      <td>4971</td>\n",
       "      <td>4971</td>\n",
       "      <td>4971</td>\n",
       "      <td>4971</td>\n",
       "      <td>4971</td>\n",
       "      <td>4971</td>\n",
       "      <td>4971</td>\n",
       "      <td>4971</td>\n",
       "      <td>4971</td>\n",
       "      <td>4971</td>\n",
       "      <td>4971</td>\n",
       "      <td>4971</td>\n",
       "      <td>4971</td>\n",
       "      <td>4971</td>\n",
       "      <td>4971</td>\n",
       "      <td>4971</td>\n",
       "    </tr>\n",
       "    <tr>\n",
       "      <th>W 20 St &amp; 11 Ave</th>\n",
       "      <td>4845</td>\n",
       "      <td>4845</td>\n",
       "      <td>4845</td>\n",
       "      <td>4845</td>\n",
       "      <td>4845</td>\n",
       "      <td>4845</td>\n",
       "      <td>4845</td>\n",
       "      <td>4845</td>\n",
       "      <td>4845</td>\n",
       "      <td>4845</td>\n",
       "      <td>4845</td>\n",
       "      <td>4845</td>\n",
       "      <td>4845</td>\n",
       "      <td>4845</td>\n",
       "      <td>4845</td>\n",
       "      <td>4845</td>\n",
       "      <td>4845</td>\n",
       "      <td>4845</td>\n",
       "      <td>4845</td>\n",
       "      <td>4845</td>\n",
       "    </tr>\n",
       "  </tbody>\n",
       "</table>\n",
       "</div>"
      ],
      "text/plain": [
       "                               tripduration  starttime  stoptime  \\\n",
       "end station name                                                   \n",
       "Pershing Square North                  7616       7616      7616   \n",
       "E 17 St & Broadway                     6118       6118      6118   \n",
       "Broadway & E 22 St                     6041       6041      6041   \n",
       "8 Ave & W 31 St                        5929       5929      5929   \n",
       "West St & Chambers St                  5654       5654      5654   \n",
       "Broadway & E 14 St                     5571       5571      5571   \n",
       "W 21 St & 6 Ave                        5534       5534      5534   \n",
       "12 Ave & W 40 St                       5059       5059      5059   \n",
       "Christopher St & Greenwich St          4971       4971      4971   \n",
       "W 20 St & 11 Ave                       4845       4845      4845   \n",
       "\n",
       "                               start station id  start station name  \\\n",
       "end station name                                                      \n",
       "Pershing Square North                      7616                7616   \n",
       "E 17 St & Broadway                         6118                6118   \n",
       "Broadway & E 22 St                         6041                6041   \n",
       "8 Ave & W 31 St                            5929                5929   \n",
       "West St & Chambers St                      5654                5654   \n",
       "Broadway & E 14 St                         5571                5571   \n",
       "W 21 St & 6 Ave                            5534                5534   \n",
       "12 Ave & W 40 St                           5059                5059   \n",
       "Christopher St & Greenwich St              4971                4971   \n",
       "W 20 St & 11 Ave                           4845                4845   \n",
       "\n",
       "                               start station latitude  \\\n",
       "end station name                                        \n",
       "Pershing Square North                            7616   \n",
       "E 17 St & Broadway                               6118   \n",
       "Broadway & E 22 St                               6041   \n",
       "8 Ave & W 31 St                                  5929   \n",
       "West St & Chambers St                            5654   \n",
       "Broadway & E 14 St                               5571   \n",
       "W 21 St & 6 Ave                                  5534   \n",
       "12 Ave & W 40 St                                 5059   \n",
       "Christopher St & Greenwich St                    4971   \n",
       "W 20 St & 11 Ave                                 4845   \n",
       "\n",
       "                               start station longitude  end station id  \\\n",
       "end station name                                                         \n",
       "Pershing Square North                             7616            7616   \n",
       "E 17 St & Broadway                                6118            6118   \n",
       "Broadway & E 22 St                                6041            6041   \n",
       "8 Ave & W 31 St                                   5929            5929   \n",
       "West St & Chambers St                             5654            5654   \n",
       "Broadway & E 14 St                                5571            5571   \n",
       "W 21 St & 6 Ave                                   5534            5534   \n",
       "12 Ave & W 40 St                                  5059            5059   \n",
       "Christopher St & Greenwich St                     4971            4971   \n",
       "W 20 St & 11 Ave                                  4845            4845   \n",
       "\n",
       "                               end station latitude  end station longitude  \\\n",
       "end station name                                                             \n",
       "Pershing Square North                          7616                   7616   \n",
       "E 17 St & Broadway                             6118                   6118   \n",
       "Broadway & E 22 St                             6041                   6041   \n",
       "8 Ave & W 31 St                                5929                   5929   \n",
       "West St & Chambers St                          5654                   5654   \n",
       "Broadway & E 14 St                             5571                   5571   \n",
       "W 21 St & 6 Ave                                5534                   5534   \n",
       "12 Ave & W 40 St                               5059                   5059   \n",
       "Christopher St & Greenwich St                  4971                   4971   \n",
       "W 20 St & 11 Ave                               4845                   4845   \n",
       "\n",
       "                               bikeid  usertype  birth year  gender  month  \\\n",
       "end station name                                                             \n",
       "Pershing Square North            7616      7616        7616    7616   7616   \n",
       "E 17 St & Broadway               6118      6118        6118    6118   6118   \n",
       "Broadway & E 22 St               6041      6041        6041    6041   6041   \n",
       "8 Ave & W 31 St                  5929      5929        5929    5929   5929   \n",
       "West St & Chambers St            5654      5654        5654    5654   5654   \n",
       "Broadway & E 14 St               5571      5571        5571    5571   5571   \n",
       "W 21 St & 6 Ave                  5534      5534        5534    5534   5534   \n",
       "12 Ave & W 40 St                 5059      5059        5059    5059   5059   \n",
       "Christopher St & Greenwich St    4971      4971        4971    4971   4971   \n",
       "W 20 St & 11 Ave                 4845      4845        4845    4845   4845   \n",
       "\n",
       "                               trip_dayofweek  trip_month  trip_hour   age  \\\n",
       "end station name                                                             \n",
       "Pershing Square North                    7616        7616       7616  7616   \n",
       "E 17 St & Broadway                       6118        6118       6118  6118   \n",
       "Broadway & E 22 St                       6041        6041       6041  6041   \n",
       "8 Ave & W 31 St                          5929        5929       5929  5929   \n",
       "West St & Chambers St                    5654        5654       5654  5654   \n",
       "Broadway & E 14 St                       5571        5571       5571  5571   \n",
       "W 21 St & 6 Ave                          5534        5534       5534  5534   \n",
       "12 Ave & W 40 St                         5059        5059       5059  5059   \n",
       "Christopher St & Greenwich St            4971        4971       4971  4971   \n",
       "W 20 St & 11 Ave                         4845        4845       4845  4845   \n",
       "\n",
       "                               tripduration_mins  \n",
       "end station name                                  \n",
       "Pershing Square North                       7616  \n",
       "E 17 St & Broadway                          6118  \n",
       "Broadway & E 22 St                          6041  \n",
       "8 Ave & W 31 St                             5929  \n",
       "West St & Chambers St                       5654  \n",
       "Broadway & E 14 St                          5571  \n",
       "W 21 St & 6 Ave                             5534  \n",
       "12 Ave & W 40 St                            5059  \n",
       "Christopher St & Greenwich St               4971  \n",
       "W 20 St & 11 Ave                            4845  "
      ]
     },
     "execution_count": 26,
     "metadata": {},
     "output_type": "execute_result"
    }
   ],
   "source": [
    "#most popular ending stations\n",
    "citi.groupby('end station name').count().sort_values(by='age', ascending=False).head(10)"
   ]
  },
  {
   "cell_type": "code",
   "execution_count": 27,
   "metadata": {},
   "outputs": [
    {
     "data": {
      "text/plain": [
       "2.355173319327731"
      ]
     },
     "execution_count": 27,
     "metadata": {},
     "output_type": "execute_result"
    }
   ],
   "source": [
    "citi[citi['end station name']== 'Pershing Square North']['trip_dayofweek'].mean()"
   ]
  },
  {
   "cell_type": "code",
   "execution_count": 28,
   "metadata": {},
   "outputs": [
    {
     "data": {
      "text/plain": [
       "2.890449789192806"
      ]
     },
     "execution_count": 28,
     "metadata": {},
     "output_type": "execute_result"
    }
   ],
   "source": [
    "citi[citi['end station name']!= 'Pershing Square North']['trip_dayofweek'].mean()"
   ]
  },
  {
   "cell_type": "code",
   "execution_count": 29,
   "metadata": {},
   "outputs": [
    {
     "data": {
      "text/plain": [
       "tripduration               2934\n",
       "starttime                  2934\n",
       "stoptime                   2934\n",
       "start station id           2934\n",
       "start station name         2934\n",
       "start station latitude     2934\n",
       "start station longitude    2934\n",
       "end station id             2934\n",
       "end station name           2934\n",
       "end station latitude       2934\n",
       "end station longitude      2934\n",
       "bikeid                     2934\n",
       "usertype                   2934\n",
       "birth year                 2934\n",
       "gender                     2934\n",
       "month                      2934\n",
       "trip_dayofweek             2934\n",
       "trip_month                 2934\n",
       "trip_hour                  2934\n",
       "age                        2934\n",
       "tripduration_mins          2934\n",
       "dtype: int64"
      ]
     },
     "execution_count": 29,
     "metadata": {},
     "output_type": "execute_result"
    }
   ],
   "source": [
    "citi[citi['end station name']== 'Pershing Square South'].count()"
   ]
  },
  {
   "cell_type": "code",
   "execution_count": 30,
   "metadata": {},
   "outputs": [
    {
     "data": {
      "text/plain": [
       "<matplotlib.axes._subplots.AxesSubplot at 0x7fe54b5f15b0>"
      ]
     },
     "execution_count": 30,
     "metadata": {},
     "output_type": "execute_result"
    },
    {
     "data": {
      "image/png": "[encoded data removed]",
      "text/plain": [
       "<Figure size 432x288 with 1 Axes>"
      ]
     },
     "metadata": {
      "needs_background": "light"
     },
     "output_type": "display_data"
    }
   ],
   "source": [
    "sns.countplot(x= 'trip_dayofweek' , data=citi[citi['end station name']== 'Pershing Square South'])"
   ]
  },
  {
   "cell_type": "code",
   "execution_count": 31,
   "metadata": {},
   "outputs": [
    {
     "data": {
      "text/plain": [
       "<matplotlib.axes._subplots.AxesSubplot at 0x7fe54b853760>"
      ]
     },
     "execution_count": 31,
     "metadata": {},
     "output_type": "execute_result"
    },
    {
     "data": {
      "image/png": "[encoded data removed]",
      "text/plain": [
       "<Figure size 432x288 with 1 Axes>"
      ]
     },
     "metadata": {
      "needs_background": "light"
     },
     "output_type": "display_data"
    }
   ],
   "source": [
    "sns.countplot(x= 'trip_dayofweek' , data=citi[citi['end station name']== 'Pershing Square North'])"
   ]
  },
  {
   "cell_type": "code",
   "execution_count": 32,
   "metadata": {},
   "outputs": [
    {
     "data": {
      "text/plain": [
       "<matplotlib.axes._subplots.AxesSubplot at 0x7fe54a02b3d0>"
      ]
     },
     "execution_count": 32,
     "metadata": {},
     "output_type": "execute_result"
    },
    {
     "data": {
      "image/png": "[encoded data removed]",
      "text/plain": [
       "<Figure size 432x288 with 1 Axes>"
      ]
     },
     "metadata": {
      "needs_background": "light"
     },
     "output_type": "display_data"
    }
   ],
   "source": [
    "sns.countplot(x= 'trip_dayofweek' , data=citi[citi['end station name']== 'Pershing Square North'])"
   ]
  },
  {
   "cell_type": "code",
   "execution_count": 33,
   "metadata": {},
   "outputs": [
    {
     "data": {
      "text/plain": [
       "<matplotlib.axes._subplots.AxesSubplot at 0x7fe549dddac0>"
      ]
     },
     "execution_count": 33,
     "metadata": {},
     "output_type": "execute_result"
    },
    {
     "data": {
      "image/png": "[encoded data removed]",
      "text/plain": [
       "<Figure size 432x288 with 1 Axes>"
      ]
     },
     "metadata": {
      "needs_background": "light"
     },
     "output_type": "display_data"
    }
   ],
   "source": [
    "#day of the week could be helpful to the model\n",
    "sns.countplot(x= 'trip_dayofweek' , data=citi[citi['end station name']!= 'Pershing Square North'])"
   ]
  },
  {
   "cell_type": "code",
   "execution_count": 34,
   "metadata": {},
   "outputs": [
    {
     "data": {
      "text/plain": [
       "2.854527623406342"
      ]
     },
     "execution_count": 34,
     "metadata": {},
     "output_type": "execute_result"
    }
   ],
   "source": [
    "citi[citi['end station name']== 'E 17 St & Broadway']['trip_dayofweek'].mean()"
   ]
  },
  {
   "cell_type": "code",
   "execution_count": 35,
   "metadata": {},
   "outputs": [
    {
     "data": {
      "text/plain": [
       "2.8865691224440924"
      ]
     },
     "execution_count": 35,
     "metadata": {},
     "output_type": "execute_result"
    }
   ],
   "source": [
    "citi[citi['end station name']!= 'E 17 St & Broadway']['trip_dayofweek'].mean()"
   ]
  },
  {
   "cell_type": "code",
   "execution_count": 36,
   "metadata": {},
   "outputs": [
    {
     "data": {
      "text/plain": [
       "<matplotlib.axes._subplots.AxesSubplot at 0x7fe54a470dc0>"
      ]
     },
     "execution_count": 36,
     "metadata": {},
     "output_type": "execute_result"
    },
    {
     "data": {
      "image/png": "[encoded data removed]",
      "text/plain": [
       "<Figure size 432x288 with 1 Axes>"
      ]
     },
     "metadata": {
      "needs_background": "light"
     },
     "output_type": "display_data"
    }
   ],
   "source": [
    "sns.countplot(x= 'trip_dayofweek' , data=citi[citi['end station name']== 'E 17 St & Broadway'])"
   ]
  },
  {
   "cell_type": "code",
   "execution_count": 37,
   "metadata": {},
   "outputs": [
    {
     "data": {
      "text/plain": [
       "<matplotlib.axes._subplots.AxesSubplot at 0x7fe54a099730>"
      ]
     },
     "execution_count": 37,
     "metadata": {},
     "output_type": "execute_result"
    },
    {
     "data": {
      "image/png": "[encoded data removed]",
      "text/plain": [
       "<Figure size 432x288 with 1 Axes>"
      ]
     },
     "metadata": {
      "needs_background": "light"
     },
     "output_type": "display_data"
    }
   ],
   "source": [
    "sns.countplot(x= 'trip_dayofweek' , data=citi[citi['end station name']!= 'E 17 St & Broadway'])"
   ]
  },
  {
   "cell_type": "code",
   "execution_count": 38,
   "metadata": {},
   "outputs": [
    {
     "data": {
      "text/plain": [
       "2.526568448932296"
      ]
     },
     "execution_count": 38,
     "metadata": {},
     "output_type": "execute_result"
    }
   ],
   "source": [
    "citi[citi['end station name']== 'Broadway & E 22 St']['trip_dayofweek'].mean()"
   ]
  },
  {
   "cell_type": "code",
   "execution_count": 39,
   "metadata": {},
   "outputs": [
    {
     "data": {
      "text/plain": [
       "2.8885598988280106"
      ]
     },
     "execution_count": 39,
     "metadata": {},
     "output_type": "execute_result"
    }
   ],
   "source": [
    "citi[citi['end station name']!= 'Broadway & E 22 St']['trip_dayofweek'].mean()"
   ]
  },
  {
   "cell_type": "code",
   "execution_count": 40,
   "metadata": {},
   "outputs": [
    {
     "data": {
      "text/plain": [
       "<matplotlib.axes._subplots.AxesSubplot at 0x7fe549d76d90>"
      ]
     },
     "execution_count": 40,
     "metadata": {},
     "output_type": "execute_result"
    },
    {
     "data": {
      "image/png": "[encoded data removed]",
      "text/plain": [
       "<Figure size 432x288 with 1 Axes>"
      ]
     },
     "metadata": {
      "needs_background": "light"
     },
     "output_type": "display_data"
    }
   ],
   "source": [
    "sns.countplot(x= 'trip_dayofweek' , data=citi[citi['end station name']== 'Broadway & E 22 St'])"
   ]
  },
  {
   "cell_type": "code",
   "execution_count": 41,
   "metadata": {},
   "outputs": [
    {
     "data": {
      "text/plain": [
       "<matplotlib.axes._subplots.AxesSubplot at 0x7fe54a3fc850>"
      ]
     },
     "execution_count": 41,
     "metadata": {},
     "output_type": "execute_result"
    },
    {
     "data": {
      "image/png": "[encoded data removed]",
      "text/plain": [
       "<Figure size 432x288 with 1 Axes>"
      ]
     },
     "metadata": {
      "needs_background": "light"
     },
     "output_type": "display_data"
    }
   ],
   "source": [
    "sns.countplot(x= 'trip_dayofweek' , data=citi[citi['end station name']!= 'Broadway & E 22 St'])"
   ]
  },
  {
   "cell_type": "code",
   "execution_count": 42,
   "metadata": {},
   "outputs": [],
   "source": [
    "#8 Ave & W 31 St"
   ]
  },
  {
   "cell_type": "code",
   "execution_count": 43,
   "metadata": {},
   "outputs": [
    {
     "data": {
      "text/plain": [
       "2.4697250801146904"
      ]
     },
     "execution_count": 43,
     "metadata": {},
     "output_type": "execute_result"
    }
   ],
   "source": [
    "citi[citi['end station name']== '8 Ave & W 31 St']['trip_dayofweek'].mean()"
   ]
  },
  {
   "cell_type": "code",
   "execution_count": 44,
   "metadata": {},
   "outputs": [
    {
     "data": {
      "text/plain": [
       "2.8888581508415463"
      ]
     },
     "execution_count": 44,
     "metadata": {},
     "output_type": "execute_result"
    }
   ],
   "source": [
    "citi[citi['end station name']!= '8 Ave & W 31 St']['trip_dayofweek'].mean()"
   ]
  },
  {
   "cell_type": "code",
   "execution_count": 45,
   "metadata": {},
   "outputs": [
    {
     "data": {
      "text/plain": [
       "<matplotlib.axes._subplots.AxesSubplot at 0x7fe54a1bc340>"
      ]
     },
     "execution_count": 45,
     "metadata": {},
     "output_type": "execute_result"
    },
    {
     "data": {
      "image/png": "[encoded data removed]",
      "text/plain": [
       "<Figure size 432x288 with 1 Axes>"
      ]
     },
     "metadata": {
      "needs_background": "light"
     },
     "output_type": "display_data"
    }
   ],
   "source": [
    "sns.countplot(x= 'trip_dayofweek' , data=citi[citi['end station name']== '8 Ave & W 31 St'])"
   ]
  },
  {
   "cell_type": "code",
   "execution_count": 46,
   "metadata": {},
   "outputs": [
    {
     "data": {
      "text/plain": [
       "<matplotlib.axes._subplots.AxesSubplot at 0x7fe54a0a25e0>"
      ]
     },
     "execution_count": 46,
     "metadata": {},
     "output_type": "execute_result"
    },
    {
     "data": {
      "image/png": "[encoded data removed]",
      "text/plain": [
       "<Figure size 432x288 with 1 Axes>"
      ]
     },
     "metadata": {
      "needs_background": "light"
     },
     "output_type": "display_data"
    }
   ],
   "source": [
    "sns.countplot(x= 'trip_dayofweek' , data=citi[citi['end station name']!= '8 Ave & W 31 St'])"
   ]
  },
  {
   "cell_type": "code",
   "execution_count": 47,
   "metadata": {},
   "outputs": [],
   "source": [
    "#Broadway & E 14 St"
   ]
  },
  {
   "cell_type": "code",
   "execution_count": 48,
   "metadata": {},
   "outputs": [
    {
     "data": {
      "text/plain": [
       "2.9104290073595407"
      ]
     },
     "execution_count": 48,
     "metadata": {},
     "output_type": "execute_result"
    }
   ],
   "source": [
    "citi[citi['end station name']== 'Broadway & E 14 St']['trip_dayofweek'].mean()"
   ]
  },
  {
   "cell_type": "code",
   "execution_count": 49,
   "metadata": {},
   "outputs": [
    {
     "data": {
      "text/plain": [
       "2.886238323607406"
      ]
     },
     "execution_count": 49,
     "metadata": {},
     "output_type": "execute_result"
    }
   ],
   "source": [
    "citi[citi['end station name']!= 'Broadway & E 14 St']['trip_dayofweek'].mean()"
   ]
  },
  {
   "cell_type": "code",
   "execution_count": 50,
   "metadata": {},
   "outputs": [
    {
     "data": {
      "text/plain": [
       "<matplotlib.axes._subplots.AxesSubplot at 0x7fe54b76e430>"
      ]
     },
     "execution_count": 50,
     "metadata": {},
     "output_type": "execute_result"
    },
    {
     "data": {
      "image/png": "[encoded data removed]",
      "text/plain": [
       "<Figure size 432x288 with 1 Axes>"
      ]
     },
     "metadata": {
      "needs_background": "light"
     },
     "output_type": "display_data"
    }
   ],
   "source": [
    "sns.countplot(x= 'trip_dayofweek' , data=citi[citi['end station name']== 'Broadway & E 14 St'])"
   ]
  },
  {
   "cell_type": "code",
   "execution_count": 51,
   "metadata": {},
   "outputs": [
    {
     "data": {
      "text/plain": [
       "<matplotlib.axes._subplots.AxesSubplot at 0x7fe54a551a60>"
      ]
     },
     "execution_count": 51,
     "metadata": {},
     "output_type": "execute_result"
    },
    {
     "data": {
      "image/png": "[encoded data removed]",
      "text/plain": [
       "<Figure size 432x288 with 1 Axes>"
      ]
     },
     "metadata": {
      "needs_background": "light"
     },
     "output_type": "display_data"
    }
   ],
   "source": [
    "sns.countplot(x= 'trip_dayofweek' , data=citi[citi['end station name']!= 'Broadway & E 14 St'])"
   ]
  },
  {
   "cell_type": "markdown",
   "metadata": {},
   "source": [
    "# Popular Station EDA"
   ]
  },
  {
   "cell_type": "code",
   "execution_count": 52,
   "metadata": {},
   "outputs": [],
   "source": [
    "def popular_station(row):\n",
    "    #if row [row['end station id'].isin([519,497,402,3255,285,426,435,514]) == True:\n",
    "    if row ['end station id']== 519:\n",
    "      return 1\n",
    "    elif row ['end station id']== 497:\n",
    "        return 1\n",
    "    elif row ['end station id']== 402:\n",
    "        return 1\n",
    "    elif row ['end station id']== 3255:\n",
    "        return 1\n",
    "    elif row ['end station id']== 285:\n",
    "        return 1\n",
    "    elif row ['end station id']== 426:\n",
    "        return 1\n",
    "    elif row ['end station id']== 435:\n",
    "        return 1\n",
    "    elif row ['end station id']== 514:\n",
    "        return 1\n",
    "    else:\n",
    "      return 0\n",
    "\n",
    "citi['popular_station_bool'] = citi.apply (lambda row: popular_station(row), axis=1)"
   ]
  },
  {
   "cell_type": "code",
   "execution_count": 53,
   "metadata": {},
   "outputs": [
    {
     "name": "stdout",
     "output_type": "stream",
     "text": [
      "<class 'pandas.core.frame.DataFrame'>\n",
      "RangeIndex: 999992 entries, 0 to 999991\n",
      "Data columns (total 22 columns):\n",
      " #   Column                   Non-Null Count   Dtype         \n",
      "---  ------                   --------------   -----         \n",
      " 0   tripduration             999992 non-null  int64         \n",
      " 1   starttime                999992 non-null  datetime64[ns]\n",
      " 2   stoptime                 999992 non-null  datetime64[ns]\n",
      " 3   start station id         999992 non-null  float64       \n",
      " 4   start station name       999992 non-null  object        \n",
      " 5   start station latitude   999992 non-null  float64       \n",
      " 6   start station longitude  999992 non-null  float64       \n",
      " 7   end station id           999992 non-null  float64       \n",
      " 8   end station name         999992 non-null  object        \n",
      " 9   end station latitude     999992 non-null  float64       \n",
      " 10  end station longitude    999992 non-null  float64       \n",
      " 11  bikeid                   999992 non-null  int64         \n",
      " 12  usertype                 999992 non-null  object        \n",
      " 13  birth year               999992 non-null  int64         \n",
      " 14  gender                   999992 non-null  int64         \n",
      " 15  month                    999992 non-null  int64         \n",
      " 16  trip_dayofweek           999992 non-null  int64         \n",
      " 17  trip_month               999992 non-null  int64         \n",
      " 18  trip_hour                999992 non-null  int64         \n",
      " 19  age                      999992 non-null  int64         \n",
      " 20  tripduration_mins        999992 non-null  float64       \n",
      " 21  popular_station_bool     999992 non-null  int64         \n",
      "dtypes: datetime64[ns](2), float64(7), int64(10), object(3)\n",
      "memory usage: 167.8+ MB\n"
     ]
    }
   ],
   "source": [
    "citi.info()"
   ]
  },
  {
   "cell_type": "code",
   "execution_count": 54,
   "metadata": {},
   "outputs": [
    {
     "data": {
      "text/plain": [
       "0    952470\n",
       "1     47522\n",
       "Name: popular_station_bool, dtype: int64"
      ]
     },
     "execution_count": 54,
     "metadata": {},
     "output_type": "execute_result"
    }
   ],
   "source": [
    "citi['popular_station_bool'].value_counts()"
   ]
  },
  {
   "cell_type": "code",
   "execution_count": 55,
   "metadata": {},
   "outputs": [
    {
     "data": {
      "text/plain": [
       "0    0.952478\n",
       "1    0.047522\n",
       "Name: popular_station_bool, dtype: float64"
      ]
     },
     "execution_count": 55,
     "metadata": {},
     "output_type": "execute_result"
    }
   ],
   "source": [
    "citi['popular_station_bool'].value_counts(normalize= True)"
   ]
  },
  {
   "cell_type": "code",
   "execution_count": 56,
   "metadata": {},
   "outputs": [
    {
     "data": {
      "text/plain": [
       "<matplotlib.axes._subplots.AxesSubplot at 0x7fe54b75d6d0>"
      ]
     },
     "execution_count": 56,
     "metadata": {},
     "output_type": "execute_result"
    },
    {
     "data": {
      "image/png": "[encoded data removed]",
      "text/plain": [
       "<Figure size 432x288 with 1 Axes>"
      ]
     },
     "metadata": {
      "needs_background": "light"
     },
     "output_type": "display_data"
    }
   ],
   "source": [
    "ax = sns.boxplot(x = 'popular_station_bool', y = 'age', data = citi)\n",
    "ax"
   ]
  },
  {
   "cell_type": "code",
   "execution_count": 57,
   "metadata": {},
   "outputs": [
    {
     "data": {
      "image/png": "[encoded data removed]",
      "text/plain": [
       "<Figure size 432x288 with 1 Axes>"
      ]
     },
     "metadata": {
      "needs_background": "light"
     },
     "output_type": "display_data"
    }
   ],
   "source": [
    "ax= sns.countplot(x='usertype', hue='popular_station_bool', data=citi)"
   ]
  },
  {
   "cell_type": "code",
   "execution_count": 58,
   "metadata": {},
   "outputs": [
    {
     "data": {
      "image/png": "[encoded data removed]",
      "text/plain": [
       "<Figure size 432x288 with 1 Axes>"
      ]
     },
     "metadata": {
      "needs_background": "light"
     },
     "output_type": "display_data"
    }
   ],
   "source": [
    "ax= sns.countplot(x='gender', hue='popular_station_bool', data=citi)"
   ]
  },
  {
   "cell_type": "code",
   "execution_count": 59,
   "metadata": {},
   "outputs": [
    {
     "data": {
      "image/png": "[encoded data removed]",
      "text/plain": [
       "<Figure size 432x288 with 1 Axes>"
      ]
     },
     "metadata": {
      "needs_background": "light"
     },
     "output_type": "display_data"
    }
   ],
   "source": [
    "ax= sns.countplot(x='trip_dayofweek', hue='popular_station_bool', data=citi)"
   ]
  },
  {
   "cell_type": "code",
   "execution_count": 60,
   "metadata": {},
   "outputs": [
    {
     "data": {
      "image/png": "[encoded data removed]",
      "text/plain": [
       "<Figure size 432x288 with 1 Axes>"
      ]
     },
     "metadata": {
      "needs_background": "light"
     },
     "output_type": "display_data"
    }
   ],
   "source": [
    "ax= sns.countplot(x='trip_month', hue='popular_station_bool', data=citi)"
   ]
  },
  {
   "cell_type": "code",
   "execution_count": 61,
   "metadata": {},
   "outputs": [
    {
     "data": {
      "image/png": "[encoded data removed]",
      "text/plain": [
       "<Figure size 432x288 with 1 Axes>"
      ]
     },
     "metadata": {
      "needs_background": "light"
     },
     "output_type": "display_data"
    }
   ],
   "source": [
    "ax= sns.countplot(x='trip_hour', hue='popular_station_bool', data=citi)"
   ]
  },
  {
   "cell_type": "markdown",
   "metadata": {},
   "source": [
    "# Pershing Sq Stations"
   ]
  },
  {
   "cell_type": "code",
   "execution_count": 62,
   "metadata": {},
   "outputs": [
    {
     "data": {
      "text/plain": [
       "<matplotlib.axes._subplots.AxesSubplot at 0x7fe552ff1160>"
      ]
     },
     "execution_count": 62,
     "metadata": {},
     "output_type": "execute_result"
    },
    {
     "data": {
      "image/png": "[encoded data removed]",
      "text/plain": [
       "<Figure size 432x288 with 1 Axes>"
      ]
     },
     "metadata": {
      "needs_background": "light"
     },
     "output_type": "display_data"
    }
   ],
   "source": [
    "sns.countplot(x= 'trip_dayofweek' , data=citi[citi['end station name']== 'Pershing Square North'])"
   ]
  },
  {
   "cell_type": "code",
   "execution_count": 63,
   "metadata": {},
   "outputs": [
    {
     "data": {
      "text/plain": [
       "<matplotlib.axes._subplots.AxesSubplot at 0x7fe54d134430>"
      ]
     },
     "execution_count": 63,
     "metadata": {},
     "output_type": "execute_result"
    },
    {
     "data": {
      "image/png": "[encoded data removed]",
      "text/plain": [
       "<Figure size 432x288 with 1 Axes>"
      ]
     },
     "metadata": {
      "needs_background": "light"
     },
     "output_type": "display_data"
    }
   ],
   "source": [
    "sns.countplot(x= 'trip_dayofweek' , data=citi[citi['end station name']== 'Pershing Square South'])"
   ]
  },
  {
   "cell_type": "code",
   "execution_count": 64,
   "metadata": {},
   "outputs": [
    {
     "data": {
      "text/plain": [
       "Index(['tripduration', 'starttime', 'stoptime', 'start station id',\n",
       "       'start station name', 'start station latitude',\n",
       "       'start station longitude', 'end station id', 'end station name',\n",
       "       'end station latitude', 'end station longitude', 'bikeid', 'usertype',\n",
       "       'birth year', 'gender', 'month', 'trip_dayofweek', 'trip_month',\n",
       "       'trip_hour', 'age', 'tripduration_mins', 'popular_station_bool'],\n",
       "      dtype='object')"
      ]
     },
     "execution_count": 64,
     "metadata": {},
     "output_type": "execute_result"
    }
   ],
   "source": [
    "citi.columns"
   ]
  },
  {
   "cell_type": "code",
   "execution_count": 65,
   "metadata": {},
   "outputs": [
    {
     "data": {
      "text/html": [
       "<div>\n",
       "<style scoped>\n",
       "    .dataframe tbody tr th:only-of-type {\n",
       "        vertical-align: middle;\n",
       "    }\n",
       "\n",
       "    .dataframe tbody tr th {\n",
       "        vertical-align: top;\n",
       "    }\n",
       "\n",
       "    .dataframe thead th {\n",
       "        text-align: right;\n",
       "    }\n",
       "</style>\n",
       "<table border=\"1\" class=\"dataframe\">\n",
       "  <thead>\n",
       "    <tr style=\"text-align: right;\">\n",
       "      <th></th>\n",
       "      <th>tripduration</th>\n",
       "      <th>starttime</th>\n",
       "      <th>stoptime</th>\n",
       "      <th>start station id</th>\n",
       "      <th>start station name</th>\n",
       "      <th>start station latitude</th>\n",
       "      <th>start station longitude</th>\n",
       "      <th>end station id</th>\n",
       "      <th>end station name</th>\n",
       "      <th>end station latitude</th>\n",
       "      <th>...</th>\n",
       "      <th>usertype</th>\n",
       "      <th>birth year</th>\n",
       "      <th>gender</th>\n",
       "      <th>month</th>\n",
       "      <th>trip_dayofweek</th>\n",
       "      <th>trip_month</th>\n",
       "      <th>trip_hour</th>\n",
       "      <th>age</th>\n",
       "      <th>tripduration_mins</th>\n",
       "      <th>popular_station_bool</th>\n",
       "    </tr>\n",
       "  </thead>\n",
       "  <tbody>\n",
       "    <tr>\n",
       "      <th>25</th>\n",
       "      <td>1258</td>\n",
       "      <td>2019-07-29 07:04:36.124</td>\n",
       "      <td>2019-07-29 07:25:34.509</td>\n",
       "      <td>347.0</td>\n",
       "      <td>Greenwich St &amp; W Houston St</td>\n",
       "      <td>40.728846</td>\n",
       "      <td>-74.008591</td>\n",
       "      <td>519.0</td>\n",
       "      <td>Pershing Square North</td>\n",
       "      <td>40.751873</td>\n",
       "      <td>...</td>\n",
       "      <td>Subscriber</td>\n",
       "      <td>1995</td>\n",
       "      <td>1</td>\n",
       "      <td>7</td>\n",
       "      <td>0</td>\n",
       "      <td>7</td>\n",
       "      <td>7</td>\n",
       "      <td>24</td>\n",
       "      <td>20.966667</td>\n",
       "      <td>1</td>\n",
       "    </tr>\n",
       "    <tr>\n",
       "      <th>63</th>\n",
       "      <td>642</td>\n",
       "      <td>2019-04-21 19:19:30.664</td>\n",
       "      <td>2019-04-21 19:30:12.957</td>\n",
       "      <td>174.0</td>\n",
       "      <td>E 25 St &amp; 1 Ave</td>\n",
       "      <td>40.738177</td>\n",
       "      <td>-73.977387</td>\n",
       "      <td>519.0</td>\n",
       "      <td>Pershing Square North</td>\n",
       "      <td>40.751873</td>\n",
       "      <td>...</td>\n",
       "      <td>Customer</td>\n",
       "      <td>1999</td>\n",
       "      <td>2</td>\n",
       "      <td>4</td>\n",
       "      <td>6</td>\n",
       "      <td>4</td>\n",
       "      <td>19</td>\n",
       "      <td>20</td>\n",
       "      <td>10.700000</td>\n",
       "      <td>1</td>\n",
       "    </tr>\n",
       "    <tr>\n",
       "      <th>116</th>\n",
       "      <td>487</td>\n",
       "      <td>2019-10-08 16:49:35.863</td>\n",
       "      <td>2019-10-08 16:57:43.491</td>\n",
       "      <td>503.0</td>\n",
       "      <td>E 20 St &amp; Park Ave</td>\n",
       "      <td>40.738274</td>\n",
       "      <td>-73.987520</td>\n",
       "      <td>517.0</td>\n",
       "      <td>Pershing Square South</td>\n",
       "      <td>40.751581</td>\n",
       "      <td>...</td>\n",
       "      <td>Subscriber</td>\n",
       "      <td>1978</td>\n",
       "      <td>1</td>\n",
       "      <td>10</td>\n",
       "      <td>1</td>\n",
       "      <td>10</td>\n",
       "      <td>16</td>\n",
       "      <td>41</td>\n",
       "      <td>8.116667</td>\n",
       "      <td>0</td>\n",
       "    </tr>\n",
       "    <tr>\n",
       "      <th>217</th>\n",
       "      <td>361</td>\n",
       "      <td>2019-04-06 17:24:12.592</td>\n",
       "      <td>2019-04-06 17:30:14.233</td>\n",
       "      <td>476.0</td>\n",
       "      <td>E 31 St &amp; 3 Ave</td>\n",
       "      <td>40.743943</td>\n",
       "      <td>-73.979661</td>\n",
       "      <td>519.0</td>\n",
       "      <td>Pershing Square North</td>\n",
       "      <td>40.751873</td>\n",
       "      <td>...</td>\n",
       "      <td>Subscriber</td>\n",
       "      <td>1966</td>\n",
       "      <td>1</td>\n",
       "      <td>4</td>\n",
       "      <td>5</td>\n",
       "      <td>4</td>\n",
       "      <td>17</td>\n",
       "      <td>53</td>\n",
       "      <td>6.016667</td>\n",
       "      <td>1</td>\n",
       "    </tr>\n",
       "    <tr>\n",
       "      <th>309</th>\n",
       "      <td>254</td>\n",
       "      <td>2019-06-20 09:42:21.953</td>\n",
       "      <td>2019-06-20 09:46:36.518</td>\n",
       "      <td>465.0</td>\n",
       "      <td>Broadway &amp; W 41 St</td>\n",
       "      <td>40.755136</td>\n",
       "      <td>-73.986580</td>\n",
       "      <td>517.0</td>\n",
       "      <td>Pershing Square South</td>\n",
       "      <td>40.751581</td>\n",
       "      <td>...</td>\n",
       "      <td>Subscriber</td>\n",
       "      <td>1982</td>\n",
       "      <td>1</td>\n",
       "      <td>6</td>\n",
       "      <td>3</td>\n",
       "      <td>6</td>\n",
       "      <td>9</td>\n",
       "      <td>37</td>\n",
       "      <td>4.233333</td>\n",
       "      <td>0</td>\n",
       "    </tr>\n",
       "    <tr>\n",
       "      <th>...</th>\n",
       "      <td>...</td>\n",
       "      <td>...</td>\n",
       "      <td>...</td>\n",
       "      <td>...</td>\n",
       "      <td>...</td>\n",
       "      <td>...</td>\n",
       "      <td>...</td>\n",
       "      <td>...</td>\n",
       "      <td>...</td>\n",
       "      <td>...</td>\n",
       "      <td>...</td>\n",
       "      <td>...</td>\n",
       "      <td>...</td>\n",
       "      <td>...</td>\n",
       "      <td>...</td>\n",
       "      <td>...</td>\n",
       "      <td>...</td>\n",
       "      <td>...</td>\n",
       "      <td>...</td>\n",
       "      <td>...</td>\n",
       "      <td>...</td>\n",
       "    </tr>\n",
       "    <tr>\n",
       "      <th>999561</th>\n",
       "      <td>1163</td>\n",
       "      <td>2019-09-13 12:59:22.749</td>\n",
       "      <td>2019-09-13 13:18:46.076</td>\n",
       "      <td>335.0</td>\n",
       "      <td>Washington Pl &amp; Broadway</td>\n",
       "      <td>40.729039</td>\n",
       "      <td>-73.994046</td>\n",
       "      <td>517.0</td>\n",
       "      <td>Pershing Square South</td>\n",
       "      <td>40.751581</td>\n",
       "      <td>...</td>\n",
       "      <td>Subscriber</td>\n",
       "      <td>1992</td>\n",
       "      <td>1</td>\n",
       "      <td>9</td>\n",
       "      <td>4</td>\n",
       "      <td>9</td>\n",
       "      <td>12</td>\n",
       "      <td>27</td>\n",
       "      <td>19.383333</td>\n",
       "      <td>0</td>\n",
       "    </tr>\n",
       "    <tr>\n",
       "      <th>999645</th>\n",
       "      <td>1298</td>\n",
       "      <td>2019-09-26 17:03:09.789</td>\n",
       "      <td>2019-09-26 17:24:48.275</td>\n",
       "      <td>3664.0</td>\n",
       "      <td>North Moore St &amp; Greenwich St</td>\n",
       "      <td>40.720195</td>\n",
       "      <td>-74.010301</td>\n",
       "      <td>519.0</td>\n",
       "      <td>Pershing Square North</td>\n",
       "      <td>40.751873</td>\n",
       "      <td>...</td>\n",
       "      <td>Subscriber</td>\n",
       "      <td>1965</td>\n",
       "      <td>1</td>\n",
       "      <td>9</td>\n",
       "      <td>3</td>\n",
       "      <td>9</td>\n",
       "      <td>17</td>\n",
       "      <td>54</td>\n",
       "      <td>21.633333</td>\n",
       "      <td>1</td>\n",
       "    </tr>\n",
       "    <tr>\n",
       "      <th>999729</th>\n",
       "      <td>1737</td>\n",
       "      <td>2019-04-24 08:49:12.393</td>\n",
       "      <td>2019-04-24 09:18:09.569</td>\n",
       "      <td>3144.0</td>\n",
       "      <td>E 81 St &amp; Park Ave</td>\n",
       "      <td>40.776777</td>\n",
       "      <td>-73.959010</td>\n",
       "      <td>517.0</td>\n",
       "      <td>Pershing Square South</td>\n",
       "      <td>40.751581</td>\n",
       "      <td>...</td>\n",
       "      <td>Subscriber</td>\n",
       "      <td>1973</td>\n",
       "      <td>1</td>\n",
       "      <td>4</td>\n",
       "      <td>2</td>\n",
       "      <td>4</td>\n",
       "      <td>8</td>\n",
       "      <td>46</td>\n",
       "      <td>28.950000</td>\n",
       "      <td>0</td>\n",
       "    </tr>\n",
       "    <tr>\n",
       "      <th>999787</th>\n",
       "      <td>265</td>\n",
       "      <td>2019-10-22 08:12:16.076</td>\n",
       "      <td>2019-10-22 08:16:41.252</td>\n",
       "      <td>546.0</td>\n",
       "      <td>E 30 St &amp; Park Ave S</td>\n",
       "      <td>40.744449</td>\n",
       "      <td>-73.983035</td>\n",
       "      <td>519.0</td>\n",
       "      <td>Pershing Square North</td>\n",
       "      <td>40.751873</td>\n",
       "      <td>...</td>\n",
       "      <td>Subscriber</td>\n",
       "      <td>1988</td>\n",
       "      <td>1</td>\n",
       "      <td>10</td>\n",
       "      <td>1</td>\n",
       "      <td>10</td>\n",
       "      <td>8</td>\n",
       "      <td>31</td>\n",
       "      <td>4.416667</td>\n",
       "      <td>1</td>\n",
       "    </tr>\n",
       "    <tr>\n",
       "      <th>999879</th>\n",
       "      <td>690</td>\n",
       "      <td>2019-08-10 21:40:17.458</td>\n",
       "      <td>2019-08-10 21:51:47.695</td>\n",
       "      <td>3155.0</td>\n",
       "      <td>Lexington Ave &amp; E 63 St</td>\n",
       "      <td>40.764400</td>\n",
       "      <td>-73.966490</td>\n",
       "      <td>517.0</td>\n",
       "      <td>Pershing Square South</td>\n",
       "      <td>40.751581</td>\n",
       "      <td>...</td>\n",
       "      <td>Subscriber</td>\n",
       "      <td>1987</td>\n",
       "      <td>1</td>\n",
       "      <td>8</td>\n",
       "      <td>5</td>\n",
       "      <td>8</td>\n",
       "      <td>21</td>\n",
       "      <td>32</td>\n",
       "      <td>11.500000</td>\n",
       "      <td>0</td>\n",
       "    </tr>\n",
       "  </tbody>\n",
       "</table>\n",
       "<p>10550 rows × 22 columns</p>\n",
       "</div>"
      ],
      "text/plain": [
       "        tripduration               starttime                stoptime  \\\n",
       "25              1258 2019-07-29 07:04:36.124 2019-07-29 07:25:34.509   \n",
       "63               642 2019-04-21 19:19:30.664 2019-04-21 19:30:12.957   \n",
       "116              487 2019-10-08 16:49:35.863 2019-10-08 16:57:43.491   \n",
       "217              361 2019-04-06 17:24:12.592 2019-04-06 17:30:14.233   \n",
       "309              254 2019-06-20 09:42:21.953 2019-06-20 09:46:36.518   \n",
       "...              ...                     ...                     ...   \n",
       "999561          1163 2019-09-13 12:59:22.749 2019-09-13 13:18:46.076   \n",
       "999645          1298 2019-09-26 17:03:09.789 2019-09-26 17:24:48.275   \n",
       "999729          1737 2019-04-24 08:49:12.393 2019-04-24 09:18:09.569   \n",
       "999787           265 2019-10-22 08:12:16.076 2019-10-22 08:16:41.252   \n",
       "999879           690 2019-08-10 21:40:17.458 2019-08-10 21:51:47.695   \n",
       "\n",
       "        start station id             start station name  \\\n",
       "25                 347.0    Greenwich St & W Houston St   \n",
       "63                 174.0                E 25 St & 1 Ave   \n",
       "116                503.0             E 20 St & Park Ave   \n",
       "217                476.0                E 31 St & 3 Ave   \n",
       "309                465.0             Broadway & W 41 St   \n",
       "...                  ...                            ...   \n",
       "999561             335.0       Washington Pl & Broadway   \n",
       "999645            3664.0  North Moore St & Greenwich St   \n",
       "999729            3144.0             E 81 St & Park Ave   \n",
       "999787             546.0           E 30 St & Park Ave S   \n",
       "999879            3155.0        Lexington Ave & E 63 St   \n",
       "\n",
       "        start station latitude  start station longitude  end station id  \\\n",
       "25                   40.728846               -74.008591           519.0   \n",
       "63                   40.738177               -73.977387           519.0   \n",
       "116                  40.738274               -73.987520           517.0   \n",
       "217                  40.743943               -73.979661           519.0   \n",
       "309                  40.755136               -73.986580           517.0   \n",
       "...                        ...                      ...             ...   \n",
       "999561               40.729039               -73.994046           517.0   \n",
       "999645               40.720195               -74.010301           519.0   \n",
       "999729               40.776777               -73.959010           517.0   \n",
       "999787               40.744449               -73.983035           519.0   \n",
       "999879               40.764400               -73.966490           517.0   \n",
       "\n",
       "             end station name  end station latitude  ...    usertype  \\\n",
       "25      Pershing Square North             40.751873  ...  Subscriber   \n",
       "63      Pershing Square North             40.751873  ...    Customer   \n",
       "116     Pershing Square South             40.751581  ...  Subscriber   \n",
       "217     Pershing Square North             40.751873  ...  Subscriber   \n",
       "309     Pershing Square South             40.751581  ...  Subscriber   \n",
       "...                       ...                   ...  ...         ...   \n",
       "999561  Pershing Square South             40.751581  ...  Subscriber   \n",
       "999645  Pershing Square North             40.751873  ...  Subscriber   \n",
       "999729  Pershing Square South             40.751581  ...  Subscriber   \n",
       "999787  Pershing Square North             40.751873  ...  Subscriber   \n",
       "999879  Pershing Square South             40.751581  ...  Subscriber   \n",
       "\n",
       "        birth year gender  month  trip_dayofweek  trip_month  trip_hour  age  \\\n",
       "25            1995      1      7               0           7          7   24   \n",
       "63            1999      2      4               6           4         19   20   \n",
       "116           1978      1     10               1          10         16   41   \n",
       "217           1966      1      4               5           4         17   53   \n",
       "309           1982      1      6               3           6          9   37   \n",
       "...            ...    ...    ...             ...         ...        ...  ...   \n",
       "999561        1992      1      9               4           9         12   27   \n",
       "999645        1965      1      9               3           9         17   54   \n",
       "999729        1973      1      4               2           4          8   46   \n",
       "999787        1988      1     10               1          10          8   31   \n",
       "999879        1987      1      8               5           8         21   32   \n",
       "\n",
       "        tripduration_mins  popular_station_bool  \n",
       "25              20.966667                     1  \n",
       "63              10.700000                     1  \n",
       "116              8.116667                     0  \n",
       "217              6.016667                     1  \n",
       "309              4.233333                     0  \n",
       "...                   ...                   ...  \n",
       "999561          19.383333                     0  \n",
       "999645          21.633333                     1  \n",
       "999729          28.950000                     0  \n",
       "999787           4.416667                     1  \n",
       "999879          11.500000                     0  \n",
       "\n",
       "[10550 rows x 22 columns]"
      ]
     },
     "execution_count": 65,
     "metadata": {},
     "output_type": "execute_result"
    }
   ],
   "source": [
    "#made just pershing sq north and south data frame\n",
    "#something is wrong here? popular station bool?\n",
    "pershing = citi[(citi['end station id'] == 519) | (citi['end station id'] == 517)]\n",
    "pershing"
   ]
  },
  {
   "cell_type": "code",
   "execution_count": 66,
   "metadata": {},
   "outputs": [
    {
     "data": {
      "text/plain": [
       "519.0    7616\n",
       "517.0    2934\n",
       "Name: end station id, dtype: int64"
      ]
     },
     "execution_count": 66,
     "metadata": {},
     "output_type": "execute_result"
    }
   ],
   "source": [
    "pershing['end station id'].value_counts()"
   ]
  },
  {
   "cell_type": "code",
   "execution_count": 67,
   "metadata": {},
   "outputs": [
    {
     "name": "stderr",
     "output_type": "stream",
     "text": [
      "<ipython-input-67-635d0ee0c5f7>:1: SettingWithCopyWarning: \n",
      "A value is trying to be set on a copy of a slice from a DataFrame.\n",
      "Try using .loc[row_indexer,col_indexer] = value instead\n",
      "\n",
      "See the caveats in the documentation: https://pandas.pydata.org/pandas-docs/stable/user_guide/indexing.html#returning-a-view-versus-a-copy\n",
      "  pershing['alternative_station_bool'] = np.where(pershing['end station id']==517, 1, 0)\n"
     ]
    }
   ],
   "source": [
    "pershing['alternative_station_bool'] = np.where(pershing['end station id']==517, 1, 0)"
   ]
  },
  {
   "cell_type": "code",
   "execution_count": 68,
   "metadata": {},
   "outputs": [
    {
     "name": "stderr",
     "output_type": "stream",
     "text": [
      "<ipython-input-68-743c2a4a1d6a>:1: SettingWithCopyWarning: \n",
      "A value is trying to be set on a copy of a slice from a DataFrame.\n",
      "Try using .loc[row_indexer,col_indexer] = value instead\n",
      "\n",
      "See the caveats in the documentation: https://pandas.pydata.org/pandas-docs/stable/user_guide/indexing.html#returning-a-view-versus-a-copy\n",
      "  pershing['popular_station_bool'] = np.where(pershing['end station id']==517, 0, 1)\n"
     ]
    }
   ],
   "source": [
    "pershing['popular_station_bool'] = np.where(pershing['end station id']==517, 0, 1)"
   ]
  },
  {
   "cell_type": "code",
   "execution_count": 69,
   "metadata": {},
   "outputs": [
    {
     "data": {
      "text/html": [
       "<div>\n",
       "<style scoped>\n",
       "    .dataframe tbody tr th:only-of-type {\n",
       "        vertical-align: middle;\n",
       "    }\n",
       "\n",
       "    .dataframe tbody tr th {\n",
       "        vertical-align: top;\n",
       "    }\n",
       "\n",
       "    .dataframe thead th {\n",
       "        text-align: right;\n",
       "    }\n",
       "</style>\n",
       "<table border=\"1\" class=\"dataframe\">\n",
       "  <thead>\n",
       "    <tr style=\"text-align: right;\">\n",
       "      <th></th>\n",
       "      <th>tripduration</th>\n",
       "      <th>starttime</th>\n",
       "      <th>stoptime</th>\n",
       "      <th>start station id</th>\n",
       "      <th>start station name</th>\n",
       "      <th>start station latitude</th>\n",
       "      <th>start station longitude</th>\n",
       "      <th>end station id</th>\n",
       "      <th>end station name</th>\n",
       "      <th>end station latitude</th>\n",
       "      <th>...</th>\n",
       "      <th>birth year</th>\n",
       "      <th>gender</th>\n",
       "      <th>month</th>\n",
       "      <th>trip_dayofweek</th>\n",
       "      <th>trip_month</th>\n",
       "      <th>trip_hour</th>\n",
       "      <th>age</th>\n",
       "      <th>tripduration_mins</th>\n",
       "      <th>popular_station_bool</th>\n",
       "      <th>alternative_station_bool</th>\n",
       "    </tr>\n",
       "  </thead>\n",
       "  <tbody>\n",
       "    <tr>\n",
       "      <th>25</th>\n",
       "      <td>1258</td>\n",
       "      <td>2019-07-29 07:04:36.124</td>\n",
       "      <td>2019-07-29 07:25:34.509</td>\n",
       "      <td>347.0</td>\n",
       "      <td>Greenwich St &amp; W Houston St</td>\n",
       "      <td>40.728846</td>\n",
       "      <td>-74.008591</td>\n",
       "      <td>519.0</td>\n",
       "      <td>Pershing Square North</td>\n",
       "      <td>40.751873</td>\n",
       "      <td>...</td>\n",
       "      <td>1995</td>\n",
       "      <td>1</td>\n",
       "      <td>7</td>\n",
       "      <td>0</td>\n",
       "      <td>7</td>\n",
       "      <td>7</td>\n",
       "      <td>24</td>\n",
       "      <td>20.966667</td>\n",
       "      <td>1</td>\n",
       "      <td>0</td>\n",
       "    </tr>\n",
       "    <tr>\n",
       "      <th>63</th>\n",
       "      <td>642</td>\n",
       "      <td>2019-04-21 19:19:30.664</td>\n",
       "      <td>2019-04-21 19:30:12.957</td>\n",
       "      <td>174.0</td>\n",
       "      <td>E 25 St &amp; 1 Ave</td>\n",
       "      <td>40.738177</td>\n",
       "      <td>-73.977387</td>\n",
       "      <td>519.0</td>\n",
       "      <td>Pershing Square North</td>\n",
       "      <td>40.751873</td>\n",
       "      <td>...</td>\n",
       "      <td>1999</td>\n",
       "      <td>2</td>\n",
       "      <td>4</td>\n",
       "      <td>6</td>\n",
       "      <td>4</td>\n",
       "      <td>19</td>\n",
       "      <td>20</td>\n",
       "      <td>10.700000</td>\n",
       "      <td>1</td>\n",
       "      <td>0</td>\n",
       "    </tr>\n",
       "    <tr>\n",
       "      <th>116</th>\n",
       "      <td>487</td>\n",
       "      <td>2019-10-08 16:49:35.863</td>\n",
       "      <td>2019-10-08 16:57:43.491</td>\n",
       "      <td>503.0</td>\n",
       "      <td>E 20 St &amp; Park Ave</td>\n",
       "      <td>40.738274</td>\n",
       "      <td>-73.987520</td>\n",
       "      <td>517.0</td>\n",
       "      <td>Pershing Square South</td>\n",
       "      <td>40.751581</td>\n",
       "      <td>...</td>\n",
       "      <td>1978</td>\n",
       "      <td>1</td>\n",
       "      <td>10</td>\n",
       "      <td>1</td>\n",
       "      <td>10</td>\n",
       "      <td>16</td>\n",
       "      <td>41</td>\n",
       "      <td>8.116667</td>\n",
       "      <td>0</td>\n",
       "      <td>1</td>\n",
       "    </tr>\n",
       "    <tr>\n",
       "      <th>217</th>\n",
       "      <td>361</td>\n",
       "      <td>2019-04-06 17:24:12.592</td>\n",
       "      <td>2019-04-06 17:30:14.233</td>\n",
       "      <td>476.0</td>\n",
       "      <td>E 31 St &amp; 3 Ave</td>\n",
       "      <td>40.743943</td>\n",
       "      <td>-73.979661</td>\n",
       "      <td>519.0</td>\n",
       "      <td>Pershing Square North</td>\n",
       "      <td>40.751873</td>\n",
       "      <td>...</td>\n",
       "      <td>1966</td>\n",
       "      <td>1</td>\n",
       "      <td>4</td>\n",
       "      <td>5</td>\n",
       "      <td>4</td>\n",
       "      <td>17</td>\n",
       "      <td>53</td>\n",
       "      <td>6.016667</td>\n",
       "      <td>1</td>\n",
       "      <td>0</td>\n",
       "    </tr>\n",
       "    <tr>\n",
       "      <th>309</th>\n",
       "      <td>254</td>\n",
       "      <td>2019-06-20 09:42:21.953</td>\n",
       "      <td>2019-06-20 09:46:36.518</td>\n",
       "      <td>465.0</td>\n",
       "      <td>Broadway &amp; W 41 St</td>\n",
       "      <td>40.755136</td>\n",
       "      <td>-73.986580</td>\n",
       "      <td>517.0</td>\n",
       "      <td>Pershing Square South</td>\n",
       "      <td>40.751581</td>\n",
       "      <td>...</td>\n",
       "      <td>1982</td>\n",
       "      <td>1</td>\n",
       "      <td>6</td>\n",
       "      <td>3</td>\n",
       "      <td>6</td>\n",
       "      <td>9</td>\n",
       "      <td>37</td>\n",
       "      <td>4.233333</td>\n",
       "      <td>0</td>\n",
       "      <td>1</td>\n",
       "    </tr>\n",
       "  </tbody>\n",
       "</table>\n",
       "<p>5 rows × 23 columns</p>\n",
       "</div>"
      ],
      "text/plain": [
       "     tripduration               starttime                stoptime  \\\n",
       "25           1258 2019-07-29 07:04:36.124 2019-07-29 07:25:34.509   \n",
       "63            642 2019-04-21 19:19:30.664 2019-04-21 19:30:12.957   \n",
       "116           487 2019-10-08 16:49:35.863 2019-10-08 16:57:43.491   \n",
       "217           361 2019-04-06 17:24:12.592 2019-04-06 17:30:14.233   \n",
       "309           254 2019-06-20 09:42:21.953 2019-06-20 09:46:36.518   \n",
       "\n",
       "     start station id           start station name  start station latitude  \\\n",
       "25              347.0  Greenwich St & W Houston St               40.728846   \n",
       "63              174.0              E 25 St & 1 Ave               40.738177   \n",
       "116             503.0           E 20 St & Park Ave               40.738274   \n",
       "217             476.0              E 31 St & 3 Ave               40.743943   \n",
       "309             465.0           Broadway & W 41 St               40.755136   \n",
       "\n",
       "     start station longitude  end station id       end station name  \\\n",
       "25                -74.008591           519.0  Pershing Square North   \n",
       "63                -73.977387           519.0  Pershing Square North   \n",
       "116               -73.987520           517.0  Pershing Square South   \n",
       "217               -73.979661           519.0  Pershing Square North   \n",
       "309               -73.986580           517.0  Pershing Square South   \n",
       "\n",
       "     end station latitude  ...  birth year  gender month  trip_dayofweek  \\\n",
       "25              40.751873  ...        1995       1     7               0   \n",
       "63              40.751873  ...        1999       2     4               6   \n",
       "116             40.751581  ...        1978       1    10               1   \n",
       "217             40.751873  ...        1966       1     4               5   \n",
       "309             40.751581  ...        1982       1     6               3   \n",
       "\n",
       "     trip_month  trip_hour  age  tripduration_mins  popular_station_bool  \\\n",
       "25            7          7   24          20.966667                     1   \n",
       "63            4         19   20          10.700000                     1   \n",
       "116          10         16   41           8.116667                     0   \n",
       "217           4         17   53           6.016667                     1   \n",
       "309           6          9   37           4.233333                     0   \n",
       "\n",
       "     alternative_station_bool  \n",
       "25                          0  \n",
       "63                          0  \n",
       "116                         1  \n",
       "217                         0  \n",
       "309                         1  \n",
       "\n",
       "[5 rows x 23 columns]"
      ]
     },
     "execution_count": 69,
     "metadata": {},
     "output_type": "execute_result"
    }
   ],
   "source": [
    "pershing.head()"
   ]
  },
  {
   "cell_type": "code",
   "execution_count": 70,
   "metadata": {},
   "outputs": [
    {
     "name": "stdout",
     "output_type": "stream",
     "text": [
      "<class 'pandas.core.frame.DataFrame'>\n",
      "Int64Index: 10550 entries, 25 to 999879\n",
      "Data columns (total 23 columns):\n",
      " #   Column                    Non-Null Count  Dtype         \n",
      "---  ------                    --------------  -----         \n",
      " 0   tripduration              10550 non-null  int64         \n",
      " 1   starttime                 10550 non-null  datetime64[ns]\n",
      " 2   stoptime                  10550 non-null  datetime64[ns]\n",
      " 3   start station id          10550 non-null  float64       \n",
      " 4   start station name        10550 non-null  object        \n",
      " 5   start station latitude    10550 non-null  float64       \n",
      " 6   start station longitude   10550 non-null  float64       \n",
      " 7   end station id            10550 non-null  float64       \n",
      " 8   end station name          10550 non-null  object        \n",
      " 9   end station latitude      10550 non-null  float64       \n",
      " 10  end station longitude     10550 non-null  float64       \n",
      " 11  bikeid                    10550 non-null  int64         \n",
      " 12  usertype                  10550 non-null  object        \n",
      " 13  birth year                10550 non-null  int64         \n",
      " 14  gender                    10550 non-null  int64         \n",
      " 15  month                     10550 non-null  int64         \n",
      " 16  trip_dayofweek            10550 non-null  int64         \n",
      " 17  trip_month                10550 non-null  int64         \n",
      " 18  trip_hour                 10550 non-null  int64         \n",
      " 19  age                       10550 non-null  int64         \n",
      " 20  tripduration_mins         10550 non-null  float64       \n",
      " 21  popular_station_bool      10550 non-null  int64         \n",
      " 22  alternative_station_bool  10550 non-null  int64         \n",
      "dtypes: datetime64[ns](2), float64(7), int64(11), object(3)\n",
      "memory usage: 1.9+ MB\n"
     ]
    }
   ],
   "source": [
    "pershing.info()"
   ]
  },
  {
   "cell_type": "code",
   "execution_count": 71,
   "metadata": {},
   "outputs": [
    {
     "data": {
      "text/plain": [
       "<matplotlib.axes._subplots.AxesSubplot at 0x7fe54a9fce80>"
      ]
     },
     "execution_count": 71,
     "metadata": {},
     "output_type": "execute_result"
    },
    {
     "data": {
      "image/png": "[encoded data removed]",
      "text/plain": [
       "<Figure size 432x288 with 1 Axes>"
      ]
     },
     "metadata": {
      "needs_background": "light"
     },
     "output_type": "display_data"
    }
   ],
   "source": [
    "ax = sns.boxplot(x = 'popular_station_bool', y = 'age', data = pershing)\n",
    "ax"
   ]
  },
  {
   "cell_type": "code",
   "execution_count": 72,
   "metadata": {},
   "outputs": [],
   "source": [
    "X= pershing[['gender','trip_hour', 'trip_dayofweek', 'trip_month', 'age' , 'usertype']]"
   ]
  },
  {
   "cell_type": "code",
   "execution_count": 73,
   "metadata": {},
   "outputs": [],
   "source": [
    "y= pershing[['popular_station_bool']]"
   ]
  },
  {
   "cell_type": "code",
   "execution_count": 74,
   "metadata": {},
   "outputs": [],
   "source": [
    "X_train, X_test, y_train, y_test = train_test_split(X,y,test_size = 0.2)"
   ]
  },
  {
   "cell_type": "code",
   "execution_count": 75,
   "metadata": {},
   "outputs": [
    {
     "data": {
      "text/html": [
       "<div>\n",
       "<style scoped>\n",
       "    .dataframe tbody tr th:only-of-type {\n",
       "        vertical-align: middle;\n",
       "    }\n",
       "\n",
       "    .dataframe tbody tr th {\n",
       "        vertical-align: top;\n",
       "    }\n",
       "\n",
       "    .dataframe thead th {\n",
       "        text-align: right;\n",
       "    }\n",
       "</style>\n",
       "<table border=\"1\" class=\"dataframe\">\n",
       "  <thead>\n",
       "    <tr style=\"text-align: right;\">\n",
       "      <th></th>\n",
       "      <th>gender</th>\n",
       "      <th>trip_hour</th>\n",
       "      <th>trip_dayofweek</th>\n",
       "      <th>trip_month</th>\n",
       "      <th>age</th>\n",
       "      <th>usertype</th>\n",
       "      <th>popular_station_bool</th>\n",
       "    </tr>\n",
       "  </thead>\n",
       "  <tbody>\n",
       "    <tr>\n",
       "      <th>710645</th>\n",
       "      <td>1</td>\n",
       "      <td>9</td>\n",
       "      <td>2</td>\n",
       "      <td>5</td>\n",
       "      <td>32</td>\n",
       "      <td>Subscriber</td>\n",
       "      <td>0</td>\n",
       "    </tr>\n",
       "    <tr>\n",
       "      <th>188062</th>\n",
       "      <td>1</td>\n",
       "      <td>7</td>\n",
       "      <td>0</td>\n",
       "      <td>7</td>\n",
       "      <td>36</td>\n",
       "      <td>Subscriber</td>\n",
       "      <td>1</td>\n",
       "    </tr>\n",
       "    <tr>\n",
       "      <th>127832</th>\n",
       "      <td>1</td>\n",
       "      <td>20</td>\n",
       "      <td>6</td>\n",
       "      <td>8</td>\n",
       "      <td>28</td>\n",
       "      <td>Customer</td>\n",
       "      <td>1</td>\n",
       "    </tr>\n",
       "    <tr>\n",
       "      <th>301845</th>\n",
       "      <td>1</td>\n",
       "      <td>18</td>\n",
       "      <td>0</td>\n",
       "      <td>7</td>\n",
       "      <td>43</td>\n",
       "      <td>Subscriber</td>\n",
       "      <td>1</td>\n",
       "    </tr>\n",
       "    <tr>\n",
       "      <th>317031</th>\n",
       "      <td>1</td>\n",
       "      <td>16</td>\n",
       "      <td>2</td>\n",
       "      <td>4</td>\n",
       "      <td>43</td>\n",
       "      <td>Subscriber</td>\n",
       "      <td>1</td>\n",
       "    </tr>\n",
       "    <tr>\n",
       "      <th>...</th>\n",
       "      <td>...</td>\n",
       "      <td>...</td>\n",
       "      <td>...</td>\n",
       "      <td>...</td>\n",
       "      <td>...</td>\n",
       "      <td>...</td>\n",
       "      <td>...</td>\n",
       "    </tr>\n",
       "    <tr>\n",
       "      <th>654244</th>\n",
       "      <td>1</td>\n",
       "      <td>8</td>\n",
       "      <td>3</td>\n",
       "      <td>2</td>\n",
       "      <td>53</td>\n",
       "      <td>Subscriber</td>\n",
       "      <td>1</td>\n",
       "    </tr>\n",
       "    <tr>\n",
       "      <th>125583</th>\n",
       "      <td>1</td>\n",
       "      <td>8</td>\n",
       "      <td>0</td>\n",
       "      <td>8</td>\n",
       "      <td>47</td>\n",
       "      <td>Subscriber</td>\n",
       "      <td>1</td>\n",
       "    </tr>\n",
       "    <tr>\n",
       "      <th>874767</th>\n",
       "      <td>1</td>\n",
       "      <td>8</td>\n",
       "      <td>2</td>\n",
       "      <td>10</td>\n",
       "      <td>25</td>\n",
       "      <td>Subscriber</td>\n",
       "      <td>1</td>\n",
       "    </tr>\n",
       "    <tr>\n",
       "      <th>776580</th>\n",
       "      <td>1</td>\n",
       "      <td>14</td>\n",
       "      <td>0</td>\n",
       "      <td>6</td>\n",
       "      <td>24</td>\n",
       "      <td>Customer</td>\n",
       "      <td>1</td>\n",
       "    </tr>\n",
       "    <tr>\n",
       "      <th>661938</th>\n",
       "      <td>1</td>\n",
       "      <td>14</td>\n",
       "      <td>0</td>\n",
       "      <td>11</td>\n",
       "      <td>25</td>\n",
       "      <td>Customer</td>\n",
       "      <td>1</td>\n",
       "    </tr>\n",
       "  </tbody>\n",
       "</table>\n",
       "<p>8440 rows × 7 columns</p>\n",
       "</div>"
      ],
      "text/plain": [
       "        gender  trip_hour  trip_dayofweek  trip_month  age    usertype  \\\n",
       "710645       1          9               2           5   32  Subscriber   \n",
       "188062       1          7               0           7   36  Subscriber   \n",
       "127832       1         20               6           8   28    Customer   \n",
       "301845       1         18               0           7   43  Subscriber   \n",
       "317031       1         16               2           4   43  Subscriber   \n",
       "...        ...        ...             ...         ...  ...         ...   \n",
       "654244       1          8               3           2   53  Subscriber   \n",
       "125583       1          8               0           8   47  Subscriber   \n",
       "874767       1          8               2          10   25  Subscriber   \n",
       "776580       1         14               0           6   24    Customer   \n",
       "661938       1         14               0          11   25    Customer   \n",
       "\n",
       "        popular_station_bool  \n",
       "710645                     0  \n",
       "188062                     1  \n",
       "127832                     1  \n",
       "301845                     1  \n",
       "317031                     1  \n",
       "...                      ...  \n",
       "654244                     1  \n",
       "125583                     1  \n",
       "874767                     1  \n",
       "776580                     1  \n",
       "661938                     1  \n",
       "\n",
       "[8440 rows x 7 columns]"
      ]
     },
     "execution_count": 75,
     "metadata": {},
     "output_type": "execute_result"
    }
   ],
   "source": [
    "pershing_train = pd.concat([X_train, y_train], axis = 1)\n",
    "pershing_train"
   ]
  },
  {
   "cell_type": "code",
   "execution_count": 76,
   "metadata": {},
   "outputs": [
    {
     "data": {
      "text/html": [
       "<div>\n",
       "<style scoped>\n",
       "    .dataframe tbody tr th:only-of-type {\n",
       "        vertical-align: middle;\n",
       "    }\n",
       "\n",
       "    .dataframe tbody tr th {\n",
       "        vertical-align: top;\n",
       "    }\n",
       "\n",
       "    .dataframe thead th {\n",
       "        text-align: right;\n",
       "    }\n",
       "</style>\n",
       "<table border=\"1\" class=\"dataframe\">\n",
       "  <thead>\n",
       "    <tr style=\"text-align: right;\">\n",
       "      <th></th>\n",
       "      <th>gender</th>\n",
       "      <th>trip_hour</th>\n",
       "      <th>trip_dayofweek</th>\n",
       "      <th>trip_month</th>\n",
       "      <th>age</th>\n",
       "      <th>usertype</th>\n",
       "      <th>popular_station_bool</th>\n",
       "    </tr>\n",
       "  </thead>\n",
       "  <tbody>\n",
       "    <tr>\n",
       "      <th>204522</th>\n",
       "      <td>1</td>\n",
       "      <td>17</td>\n",
       "      <td>0</td>\n",
       "      <td>3</td>\n",
       "      <td>55</td>\n",
       "      <td>Subscriber</td>\n",
       "      <td>1</td>\n",
       "    </tr>\n",
       "    <tr>\n",
       "      <th>142715</th>\n",
       "      <td>1</td>\n",
       "      <td>17</td>\n",
       "      <td>4</td>\n",
       "      <td>3</td>\n",
       "      <td>41</td>\n",
       "      <td>Subscriber</td>\n",
       "      <td>1</td>\n",
       "    </tr>\n",
       "    <tr>\n",
       "      <th>812506</th>\n",
       "      <td>1</td>\n",
       "      <td>16</td>\n",
       "      <td>5</td>\n",
       "      <td>3</td>\n",
       "      <td>35</td>\n",
       "      <td>Subscriber</td>\n",
       "      <td>0</td>\n",
       "    </tr>\n",
       "    <tr>\n",
       "      <th>530642</th>\n",
       "      <td>1</td>\n",
       "      <td>18</td>\n",
       "      <td>2</td>\n",
       "      <td>10</td>\n",
       "      <td>47</td>\n",
       "      <td>Subscriber</td>\n",
       "      <td>0</td>\n",
       "    </tr>\n",
       "    <tr>\n",
       "      <th>814581</th>\n",
       "      <td>1</td>\n",
       "      <td>15</td>\n",
       "      <td>3</td>\n",
       "      <td>10</td>\n",
       "      <td>24</td>\n",
       "      <td>Subscriber</td>\n",
       "      <td>1</td>\n",
       "    </tr>\n",
       "    <tr>\n",
       "      <th>...</th>\n",
       "      <td>...</td>\n",
       "      <td>...</td>\n",
       "      <td>...</td>\n",
       "      <td>...</td>\n",
       "      <td>...</td>\n",
       "      <td>...</td>\n",
       "      <td>...</td>\n",
       "    </tr>\n",
       "    <tr>\n",
       "      <th>200819</th>\n",
       "      <td>1</td>\n",
       "      <td>17</td>\n",
       "      <td>1</td>\n",
       "      <td>7</td>\n",
       "      <td>46</td>\n",
       "      <td>Subscriber</td>\n",
       "      <td>1</td>\n",
       "    </tr>\n",
       "    <tr>\n",
       "      <th>480086</th>\n",
       "      <td>1</td>\n",
       "      <td>10</td>\n",
       "      <td>5</td>\n",
       "      <td>2</td>\n",
       "      <td>51</td>\n",
       "      <td>Subscriber</td>\n",
       "      <td>1</td>\n",
       "    </tr>\n",
       "    <tr>\n",
       "      <th>96219</th>\n",
       "      <td>1</td>\n",
       "      <td>9</td>\n",
       "      <td>3</td>\n",
       "      <td>4</td>\n",
       "      <td>66</td>\n",
       "      <td>Subscriber</td>\n",
       "      <td>0</td>\n",
       "    </tr>\n",
       "    <tr>\n",
       "      <th>203327</th>\n",
       "      <td>1</td>\n",
       "      <td>16</td>\n",
       "      <td>1</td>\n",
       "      <td>4</td>\n",
       "      <td>64</td>\n",
       "      <td>Subscriber</td>\n",
       "      <td>1</td>\n",
       "    </tr>\n",
       "    <tr>\n",
       "      <th>767771</th>\n",
       "      <td>1</td>\n",
       "      <td>16</td>\n",
       "      <td>1</td>\n",
       "      <td>11</td>\n",
       "      <td>37</td>\n",
       "      <td>Subscriber</td>\n",
       "      <td>1</td>\n",
       "    </tr>\n",
       "  </tbody>\n",
       "</table>\n",
       "<p>2110 rows × 7 columns</p>\n",
       "</div>"
      ],
      "text/plain": [
       "        gender  trip_hour  trip_dayofweek  trip_month  age    usertype  \\\n",
       "204522       1         17               0           3   55  Subscriber   \n",
       "142715       1         17               4           3   41  Subscriber   \n",
       "812506       1         16               5           3   35  Subscriber   \n",
       "530642       1         18               2          10   47  Subscriber   \n",
       "814581       1         15               3          10   24  Subscriber   \n",
       "...        ...        ...             ...         ...  ...         ...   \n",
       "200819       1         17               1           7   46  Subscriber   \n",
       "480086       1         10               5           2   51  Subscriber   \n",
       "96219        1          9               3           4   66  Subscriber   \n",
       "203327       1         16               1           4   64  Subscriber   \n",
       "767771       1         16               1          11   37  Subscriber   \n",
       "\n",
       "        popular_station_bool  \n",
       "204522                     1  \n",
       "142715                     1  \n",
       "812506                     0  \n",
       "530642                     0  \n",
       "814581                     1  \n",
       "...                      ...  \n",
       "200819                     1  \n",
       "480086                     1  \n",
       "96219                      0  \n",
       "203327                     1  \n",
       "767771                     1  \n",
       "\n",
       "[2110 rows x 7 columns]"
      ]
     },
     "execution_count": 76,
     "metadata": {},
     "output_type": "execute_result"
    }
   ],
   "source": [
    "pershing_test = pd.concat([X_test, y_test], axis = 1)\n",
    "pershing_test"
   ]
  },
  {
   "cell_type": "code",
   "execution_count": 77,
   "metadata": {},
   "outputs": [
    {
     "name": "stdout",
     "output_type": "stream",
     "text": [
      "Optimization terminated successfully.\n",
      "         Current function value: 0.569072\n",
      "         Iterations 6\n"
     ]
    },
    {
     "data": {
      "text/html": [
       "<table class=\"simpletable\">\n",
       "<caption>Logit Regression Results</caption>\n",
       "<tr>\n",
       "  <th>Dep. Variable:</th>   <td>popular_station_bool</td> <th>  No. Observations:  </th>  <td>  8440</td>  \n",
       "</tr>\n",
       "<tr>\n",
       "  <th>Model:</th>                   <td>Logit</td>        <th>  Df Residuals:      </th>  <td>  8399</td>  \n",
       "</tr>\n",
       "<tr>\n",
       "  <th>Method:</th>                   <td>MLE</td>         <th>  Df Model:          </th>  <td>    40</td>  \n",
       "</tr>\n",
       "<tr>\n",
       "  <th>Date:</th>              <td>Fri, 25 Sep 2020</td>   <th>  Pseudo R-squ.:     </th>  <td>0.03472</td> \n",
       "</tr>\n",
       "<tr>\n",
       "  <th>Time:</th>                  <td>10:57:10</td>       <th>  Log-Likelihood:    </th> <td> -4803.0</td> \n",
       "</tr>\n",
       "<tr>\n",
       "  <th>converged:</th>               <td>True</td>         <th>  LL-Null:           </th> <td> -4975.7</td> \n",
       "</tr>\n",
       "<tr>\n",
       "  <th>Covariance Type:</th>       <td>nonrobust</td>      <th>  LLR p-value:       </th> <td>2.781e-50</td>\n",
       "</tr>\n",
       "</table>\n",
       "<table class=\"simpletable\">\n",
       "<tr>\n",
       "             <td></td>               <th>coef</th>     <th>std err</th>      <th>z</th>      <th>P>|z|</th>  <th>[0.025</th>    <th>0.975]</th>  \n",
       "</tr>\n",
       "<tr>\n",
       "  <th>Intercept</th>              <td>    1.9320</td> <td>    0.422</td> <td>    4.576</td> <td> 0.000</td> <td>    1.104</td> <td>    2.759</td>\n",
       "</tr>\n",
       "<tr>\n",
       "  <th>C(trip_hour)[T.1]</th>      <td>   -1.5561</td> <td>    0.672</td> <td>   -2.315</td> <td> 0.021</td> <td>   -2.874</td> <td>   -0.239</td>\n",
       "</tr>\n",
       "<tr>\n",
       "  <th>C(trip_hour)[T.2]</th>      <td>   -2.3439</td> <td>    0.876</td> <td>   -2.676</td> <td> 0.007</td> <td>   -4.060</td> <td>   -0.627</td>\n",
       "</tr>\n",
       "<tr>\n",
       "  <th>C(trip_hour)[T.3]</th>      <td>   -1.3063</td> <td>    1.312</td> <td>   -0.996</td> <td> 0.319</td> <td>   -3.878</td> <td>    1.265</td>\n",
       "</tr>\n",
       "<tr>\n",
       "  <th>C(trip_hour)[T.4]</th>      <td>   -1.0459</td> <td>    0.960</td> <td>   -1.089</td> <td> 0.276</td> <td>   -2.928</td> <td>    0.836</td>\n",
       "</tr>\n",
       "<tr>\n",
       "  <th>C(trip_hour)[T.5]</th>      <td>    0.2867</td> <td>    0.574</td> <td>    0.500</td> <td> 0.617</td> <td>   -0.838</td> <td>    1.411</td>\n",
       "</tr>\n",
       "<tr>\n",
       "  <th>C(trip_hour)[T.6]</th>      <td>   -0.2680</td> <td>    0.436</td> <td>   -0.615</td> <td> 0.539</td> <td>   -1.122</td> <td>    0.586</td>\n",
       "</tr>\n",
       "<tr>\n",
       "  <th>C(trip_hour)[T.7]</th>      <td>   -0.9872</td> <td>    0.419</td> <td>   -2.358</td> <td> 0.018</td> <td>   -1.808</td> <td>   -0.167</td>\n",
       "</tr>\n",
       "<tr>\n",
       "  <th>C(trip_hour)[T.8]</th>      <td>   -1.2458</td> <td>    0.413</td> <td>   -3.013</td> <td> 0.003</td> <td>   -2.056</td> <td>   -0.435</td>\n",
       "</tr>\n",
       "<tr>\n",
       "  <th>C(trip_hour)[T.9]</th>      <td>   -1.3727</td> <td>    0.415</td> <td>   -3.309</td> <td> 0.001</td> <td>   -2.186</td> <td>   -0.560</td>\n",
       "</tr>\n",
       "<tr>\n",
       "  <th>C(trip_hour)[T.10]</th>     <td>   -1.1526</td> <td>    0.423</td> <td>   -2.722</td> <td> 0.006</td> <td>   -1.983</td> <td>   -0.323</td>\n",
       "</tr>\n",
       "<tr>\n",
       "  <th>C(trip_hour)[T.11]</th>     <td>   -0.9628</td> <td>    0.428</td> <td>   -2.250</td> <td> 0.024</td> <td>   -1.801</td> <td>   -0.124</td>\n",
       "</tr>\n",
       "<tr>\n",
       "  <th>C(trip_hour)[T.12]</th>     <td>   -1.2947</td> <td>    0.424</td> <td>   -3.053</td> <td> 0.002</td> <td>   -2.126</td> <td>   -0.464</td>\n",
       "</tr>\n",
       "<tr>\n",
       "  <th>C(trip_hour)[T.13]</th>     <td>   -0.9106</td> <td>    0.428</td> <td>   -2.129</td> <td> 0.033</td> <td>   -1.749</td> <td>   -0.072</td>\n",
       "</tr>\n",
       "<tr>\n",
       "  <th>C(trip_hour)[T.14]</th>     <td>   -0.8263</td> <td>    0.427</td> <td>   -1.936</td> <td> 0.053</td> <td>   -1.663</td> <td>    0.010</td>\n",
       "</tr>\n",
       "<tr>\n",
       "  <th>C(trip_hour)[T.15]</th>     <td>   -0.3171</td> <td>    0.427</td> <td>   -0.742</td> <td> 0.458</td> <td>   -1.155</td> <td>    0.520</td>\n",
       "</tr>\n",
       "<tr>\n",
       "  <th>C(trip_hour)[T.16]</th>     <td>   -0.5272</td> <td>    0.418</td> <td>   -1.263</td> <td> 0.207</td> <td>   -1.346</td> <td>    0.291</td>\n",
       "</tr>\n",
       "<tr>\n",
       "  <th>C(trip_hour)[T.17]</th>     <td>   -0.8583</td> <td>    0.413</td> <td>   -2.077</td> <td> 0.038</td> <td>   -1.668</td> <td>   -0.049</td>\n",
       "</tr>\n",
       "<tr>\n",
       "  <th>C(trip_hour)[T.18]</th>     <td>   -0.3121</td> <td>    0.420</td> <td>   -0.744</td> <td> 0.457</td> <td>   -1.135</td> <td>    0.511</td>\n",
       "</tr>\n",
       "<tr>\n",
       "  <th>C(trip_hour)[T.19]</th>     <td>   -0.2609</td> <td>    0.434</td> <td>   -0.601</td> <td> 0.548</td> <td>   -1.112</td> <td>    0.591</td>\n",
       "</tr>\n",
       "<tr>\n",
       "  <th>C(trip_hour)[T.20]</th>     <td>   -0.1855</td> <td>    0.460</td> <td>   -0.403</td> <td> 0.687</td> <td>   -1.087</td> <td>    0.716</td>\n",
       "</tr>\n",
       "<tr>\n",
       "  <th>C(trip_hour)[T.21]</th>     <td>    0.0528</td> <td>    0.506</td> <td>    0.104</td> <td> 0.917</td> <td>   -0.939</td> <td>    1.045</td>\n",
       "</tr>\n",
       "<tr>\n",
       "  <th>C(trip_hour)[T.22]</th>     <td>   -0.0905</td> <td>    0.545</td> <td>   -0.166</td> <td> 0.868</td> <td>   -1.158</td> <td>    0.977</td>\n",
       "</tr>\n",
       "<tr>\n",
       "  <th>C(trip_hour)[T.23]</th>     <td>    0.2935</td> <td>    0.625</td> <td>    0.470</td> <td> 0.639</td> <td>   -0.932</td> <td>    1.518</td>\n",
       "</tr>\n",
       "<tr>\n",
       "  <th>C(trip_month)[T.2]</th>     <td>   -0.3573</td> <td>    0.140</td> <td>   -2.551</td> <td> 0.011</td> <td>   -0.632</td> <td>   -0.083</td>\n",
       "</tr>\n",
       "<tr>\n",
       "  <th>C(trip_month)[T.3]</th>     <td>   -0.0774</td> <td>    0.136</td> <td>   -0.570</td> <td> 0.569</td> <td>   -0.344</td> <td>    0.189</td>\n",
       "</tr>\n",
       "<tr>\n",
       "  <th>C(trip_month)[T.4]</th>     <td>    0.0480</td> <td>    0.133</td> <td>    0.361</td> <td> 0.718</td> <td>   -0.213</td> <td>    0.308</td>\n",
       "</tr>\n",
       "<tr>\n",
       "  <th>C(trip_month)[T.5]</th>     <td>    0.1617</td> <td>    0.130</td> <td>    1.245</td> <td> 0.213</td> <td>   -0.093</td> <td>    0.416</td>\n",
       "</tr>\n",
       "<tr>\n",
       "  <th>C(trip_month)[T.6]</th>     <td>    0.0673</td> <td>    0.132</td> <td>    0.508</td> <td> 0.611</td> <td>   -0.192</td> <td>    0.327</td>\n",
       "</tr>\n",
       "<tr>\n",
       "  <th>C(trip_month)[T.7]</th>     <td>    0.3297</td> <td>    0.134</td> <td>    2.466</td> <td> 0.014</td> <td>    0.068</td> <td>    0.592</td>\n",
       "</tr>\n",
       "<tr>\n",
       "  <th>C(trip_month)[T.8]</th>     <td>    0.0714</td> <td>    0.130</td> <td>    0.550</td> <td> 0.582</td> <td>   -0.183</td> <td>    0.326</td>\n",
       "</tr>\n",
       "<tr>\n",
       "  <th>C(trip_month)[T.9]</th>     <td>   -0.2255</td> <td>    0.124</td> <td>   -1.814</td> <td> 0.070</td> <td>   -0.469</td> <td>    0.018</td>\n",
       "</tr>\n",
       "<tr>\n",
       "  <th>C(trip_month)[T.10]</th>    <td>   -0.1423</td> <td>    0.125</td> <td>   -1.138</td> <td> 0.255</td> <td>   -0.387</td> <td>    0.103</td>\n",
       "</tr>\n",
       "<tr>\n",
       "  <th>C(trip_month)[T.11]</th>    <td>   -0.1192</td> <td>    0.135</td> <td>   -0.883</td> <td> 0.377</td> <td>   -0.384</td> <td>    0.145</td>\n",
       "</tr>\n",
       "<tr>\n",
       "  <th>C(trip_month)[T.12]</th>    <td>    0.0319</td> <td>    0.155</td> <td>    0.206</td> <td> 0.837</td> <td>   -0.272</td> <td>    0.336</td>\n",
       "</tr>\n",
       "<tr>\n",
       "  <th>C(trip_dayofweek)[T.1]</th> <td>   -0.1936</td> <td>    0.083</td> <td>   -2.330</td> <td> 0.020</td> <td>   -0.357</td> <td>   -0.031</td>\n",
       "</tr>\n",
       "<tr>\n",
       "  <th>C(trip_dayofweek)[T.2]</th> <td>   -0.2018</td> <td>    0.083</td> <td>   -2.436</td> <td> 0.015</td> <td>   -0.364</td> <td>   -0.039</td>\n",
       "</tr>\n",
       "<tr>\n",
       "  <th>C(trip_dayofweek)[T.3]</th> <td>   -0.2293</td> <td>    0.085</td> <td>   -2.703</td> <td> 0.007</td> <td>   -0.395</td> <td>   -0.063</td>\n",
       "</tr>\n",
       "<tr>\n",
       "  <th>C(trip_dayofweek)[T.4]</th> <td>   -0.0277</td> <td>    0.088</td> <td>   -0.315</td> <td> 0.753</td> <td>   -0.200</td> <td>    0.144</td>\n",
       "</tr>\n",
       "<tr>\n",
       "  <th>C(trip_dayofweek)[T.5]</th> <td>    0.0517</td> <td>    0.126</td> <td>    0.412</td> <td> 0.681</td> <td>   -0.194</td> <td>    0.298</td>\n",
       "</tr>\n",
       "<tr>\n",
       "  <th>C(trip_dayofweek)[T.6]</th> <td>    0.2294</td> <td>    0.146</td> <td>    1.575</td> <td> 0.115</td> <td>   -0.056</td> <td>    0.515</td>\n",
       "</tr>\n",
       "</table>"
      ],
      "text/plain": [
       "<class 'statsmodels.iolib.summary.Summary'>\n",
       "\"\"\"\n",
       "                            Logit Regression Results                            \n",
       "================================================================================\n",
       "Dep. Variable:     popular_station_bool   No. Observations:                 8440\n",
       "Model:                            Logit   Df Residuals:                     8399\n",
       "Method:                             MLE   Df Model:                           40\n",
       "Date:                  Fri, 25 Sep 2020   Pseudo R-squ.:                 0.03472\n",
       "Time:                          10:57:10   Log-Likelihood:                -4803.0\n",
       "converged:                         True   LL-Null:                       -4975.7\n",
       "Covariance Type:              nonrobust   LLR p-value:                 2.781e-50\n",
       "==========================================================================================\n",
       "                             coef    std err          z      P>|z|      [0.025      0.975]\n",
       "------------------------------------------------------------------------------------------\n",
       "Intercept                  1.9320      0.422      4.576      0.000       1.104       2.759\n",
       "C(trip_hour)[T.1]         -1.5561      0.672     -2.315      0.021      -2.874      -0.239\n",
       "C(trip_hour)[T.2]         -2.3439      0.876     -2.676      0.007      -4.060      -0.627\n",
       "C(trip_hour)[T.3]         -1.3063      1.312     -0.996      0.319      -3.878       1.265\n",
       "C(trip_hour)[T.4]         -1.0459      0.960     -1.089      0.276      -2.928       0.836\n",
       "C(trip_hour)[T.5]          0.2867      0.574      0.500      0.617      -0.838       1.411\n",
       "C(trip_hour)[T.6]         -0.2680      0.436     -0.615      0.539      -1.122       0.586\n",
       "C(trip_hour)[T.7]         -0.9872      0.419     -2.358      0.018      -1.808      -0.167\n",
       "C(trip_hour)[T.8]         -1.2458      0.413     -3.013      0.003      -2.056      -0.435\n",
       "C(trip_hour)[T.9]         -1.3727      0.415     -3.309      0.001      -2.186      -0.560\n",
       "C(trip_hour)[T.10]        -1.1526      0.423     -2.722      0.006      -1.983      -0.323\n",
       "C(trip_hour)[T.11]        -0.9628      0.428     -2.250      0.024      -1.801      -0.124\n",
       "C(trip_hour)[T.12]        -1.2947      0.424     -3.053      0.002      -2.126      -0.464\n",
       "C(trip_hour)[T.13]        -0.9106      0.428     -2.129      0.033      -1.749      -0.072\n",
       "C(trip_hour)[T.14]        -0.8263      0.427     -1.936      0.053      -1.663       0.010\n",
       "C(trip_hour)[T.15]        -0.3171      0.427     -0.742      0.458      -1.155       0.520\n",
       "C(trip_hour)[T.16]        -0.5272      0.418     -1.263      0.207      -1.346       0.291\n",
       "C(trip_hour)[T.17]        -0.8583      0.413     -2.077      0.038      -1.668      -0.049\n",
       "C(trip_hour)[T.18]        -0.3121      0.420     -0.744      0.457      -1.135       0.511\n",
       "C(trip_hour)[T.19]        -0.2609      0.434     -0.601      0.548      -1.112       0.591\n",
       "C(trip_hour)[T.20]        -0.1855      0.460     -0.403      0.687      -1.087       0.716\n",
       "C(trip_hour)[T.21]         0.0528      0.506      0.104      0.917      -0.939       1.045\n",
       "C(trip_hour)[T.22]        -0.0905      0.545     -0.166      0.868      -1.158       0.977\n",
       "C(trip_hour)[T.23]         0.2935      0.625      0.470      0.639      -0.932       1.518\n",
       "C(trip_month)[T.2]        -0.3573      0.140     -2.551      0.011      -0.632      -0.083\n",
       "C(trip_month)[T.3]        -0.0774      0.136     -0.570      0.569      -0.344       0.189\n",
       "C(trip_month)[T.4]         0.0480      0.133      0.361      0.718      -0.213       0.308\n",
       "C(trip_month)[T.5]         0.1617      0.130      1.245      0.213      -0.093       0.416\n",
       "C(trip_month)[T.6]         0.0673      0.132      0.508      0.611      -0.192       0.327\n",
       "C(trip_month)[T.7]         0.3297      0.134      2.466      0.014       0.068       0.592\n",
       "C(trip_month)[T.8]         0.0714      0.130      0.550      0.582      -0.183       0.326\n",
       "C(trip_month)[T.9]        -0.2255      0.124     -1.814      0.070      -0.469       0.018\n",
       "C(trip_month)[T.10]       -0.1423      0.125     -1.138      0.255      -0.387       0.103\n",
       "C(trip_month)[T.11]       -0.1192      0.135     -0.883      0.377      -0.384       0.145\n",
       "C(trip_month)[T.12]        0.0319      0.155      0.206      0.837      -0.272       0.336\n",
       "C(trip_dayofweek)[T.1]    -0.1936      0.083     -2.330      0.020      -0.357      -0.031\n",
       "C(trip_dayofweek)[T.2]    -0.2018      0.083     -2.436      0.015      -0.364      -0.039\n",
       "C(trip_dayofweek)[T.3]    -0.2293      0.085     -2.703      0.007      -0.395      -0.063\n",
       "C(trip_dayofweek)[T.4]    -0.0277      0.088     -0.315      0.753      -0.200       0.144\n",
       "C(trip_dayofweek)[T.5]     0.0517      0.126      0.412      0.681      -0.194       0.298\n",
       "C(trip_dayofweek)[T.6]     0.2294      0.146      1.575      0.115      -0.056       0.515\n",
       "==========================================================================================\n",
       "\"\"\""
      ]
     },
     "execution_count": 77,
     "metadata": {},
     "output_type": "execute_result"
    }
   ],
   "source": [
    "formula = 'popular_station_bool ~ C(trip_hour) + C(trip_month) + C(trip_dayofweek)' \n",
    "fitted_model = smf.logit(formula=formula, data=pershing_train, missing='drop').fit()\n",
    "\n",
    "fitted_model.summary()"
   ]
  },
  {
   "cell_type": "code",
   "execution_count": 78,
   "metadata": {},
   "outputs": [
    {
     "data": {
      "text/plain": [
       "204522    1.0\n",
       "142715    1.0\n",
       "812506    1.0\n",
       "530642    1.0\n",
       "814581    1.0\n",
       "         ... \n",
       "200819    1.0\n",
       "480086    1.0\n",
       "96219     1.0\n",
       "203327    1.0\n",
       "767771    1.0\n",
       "Length: 2110, dtype: float64"
      ]
     },
     "execution_count": 78,
     "metadata": {},
     "output_type": "execute_result"
    }
   ],
   "source": [
    "y_pred_test = np.round(fitted_model.predict(pershing_test))\n",
    "y_pred_test"
   ]
  },
  {
   "cell_type": "code",
   "execution_count": 79,
   "metadata": {},
   "outputs": [
    {
     "data": {
      "text/html": [
       "<div>\n",
       "<style scoped>\n",
       "    .dataframe tbody tr th:only-of-type {\n",
       "        vertical-align: middle;\n",
       "    }\n",
       "\n",
       "    .dataframe tbody tr th {\n",
       "        vertical-align: top;\n",
       "    }\n",
       "\n",
       "    .dataframe thead th {\n",
       "        text-align: right;\n",
       "    }\n",
       "</style>\n",
       "<table border=\"1\" class=\"dataframe\">\n",
       "  <thead>\n",
       "    <tr style=\"text-align: right;\">\n",
       "      <th>col_0</th>\n",
       "      <th>0.0</th>\n",
       "      <th>1.0</th>\n",
       "    </tr>\n",
       "    <tr>\n",
       "      <th>popular_station_bool</th>\n",
       "      <th></th>\n",
       "      <th></th>\n",
       "    </tr>\n",
       "  </thead>\n",
       "  <tbody>\n",
       "    <tr>\n",
       "      <th>0</th>\n",
       "      <td>3</td>\n",
       "      <td>598</td>\n",
       "    </tr>\n",
       "    <tr>\n",
       "      <th>1</th>\n",
       "      <td>1</td>\n",
       "      <td>1508</td>\n",
       "    </tr>\n",
       "  </tbody>\n",
       "</table>\n",
       "</div>"
      ],
      "text/plain": [
       "col_0                 0.0   1.0\n",
       "popular_station_bool           \n",
       "0                       3   598\n",
       "1                       1  1508"
      ]
     },
     "execution_count": 79,
     "metadata": {},
     "output_type": "execute_result"
    }
   ],
   "source": [
    "pd.crosstab(pershing_test['popular_station_bool'], y_pred_test)"
   ]
  },
  {
   "cell_type": "code",
   "execution_count": 80,
   "metadata": {},
   "outputs": [
    {
     "data": {
      "text/plain": [
       "array([[   3,  598],\n",
       "       [   1, 1508]])"
      ]
     },
     "execution_count": 80,
     "metadata": {},
     "output_type": "execute_result"
    }
   ],
   "source": [
    "confusion_matrix(pershing_test['popular_station_bool'], y_pred_test)"
   ]
  },
  {
   "cell_type": "code",
   "execution_count": null,
   "metadata": {},
   "outputs": [],
   "source": []
  },
  {
   "cell_type": "markdown",
   "metadata": {},
   "source": [
    "# Adjacent to Popular Stations"
   ]
  },
  {
   "cell_type": "code",
   "execution_count": null,
   "metadata": {},
   "outputs": [],
   "source": []
  },
  {
   "cell_type": "markdown",
   "metadata": {},
   "source": [
    "# Model"
   ]
  },
  {
   "cell_type": "code",
   "execution_count": 81,
   "metadata": {},
   "outputs": [],
   "source": [
    "citi.rename(columns = {'start station id': 'start_station_id'}, inplace=True)"
   ]
  },
  {
   "cell_type": "code",
   "execution_count": 82,
   "metadata": {},
   "outputs": [],
   "source": [
    "X= citi[['gender','trip_hour', 'usertype', 'start_station_id']]"
   ]
  },
  {
   "cell_type": "code",
   "execution_count": 83,
   "metadata": {},
   "outputs": [],
   "source": [
    "y= citi[['popular_station_bool']]"
   ]
  },
  {
   "cell_type": "code",
   "execution_count": 84,
   "metadata": {},
   "outputs": [],
   "source": [
    "X_train, X_test, y_train, y_test = train_test_split(X,y,test_size = 0.2)"
   ]
  },
  {
   "cell_type": "code",
   "execution_count": 85,
   "metadata": {},
   "outputs": [
    {
     "data": {
      "text/html": [
       "<div>\n",
       "<style scoped>\n",
       "    .dataframe tbody tr th:only-of-type {\n",
       "        vertical-align: middle;\n",
       "    }\n",
       "\n",
       "    .dataframe tbody tr th {\n",
       "        vertical-align: top;\n",
       "    }\n",
       "\n",
       "    .dataframe thead th {\n",
       "        text-align: right;\n",
       "    }\n",
       "</style>\n",
       "<table border=\"1\" class=\"dataframe\">\n",
       "  <thead>\n",
       "    <tr style=\"text-align: right;\">\n",
       "      <th></th>\n",
       "      <th>gender</th>\n",
       "      <th>trip_hour</th>\n",
       "      <th>usertype</th>\n",
       "      <th>start_station_id</th>\n",
       "      <th>popular_station_bool</th>\n",
       "    </tr>\n",
       "  </thead>\n",
       "  <tbody>\n",
       "    <tr>\n",
       "      <th>38329</th>\n",
       "      <td>2</td>\n",
       "      <td>5</td>\n",
       "      <td>Subscriber</td>\n",
       "      <td>3116.0</td>\n",
       "      <td>0</td>\n",
       "    </tr>\n",
       "    <tr>\n",
       "      <th>956261</th>\n",
       "      <td>1</td>\n",
       "      <td>16</td>\n",
       "      <td>Subscriber</td>\n",
       "      <td>254.0</td>\n",
       "      <td>0</td>\n",
       "    </tr>\n",
       "    <tr>\n",
       "      <th>523081</th>\n",
       "      <td>2</td>\n",
       "      <td>18</td>\n",
       "      <td>Subscriber</td>\n",
       "      <td>417.0</td>\n",
       "      <td>0</td>\n",
       "    </tr>\n",
       "    <tr>\n",
       "      <th>887551</th>\n",
       "      <td>1</td>\n",
       "      <td>13</td>\n",
       "      <td>Subscriber</td>\n",
       "      <td>526.0</td>\n",
       "      <td>0</td>\n",
       "    </tr>\n",
       "    <tr>\n",
       "      <th>484274</th>\n",
       "      <td>2</td>\n",
       "      <td>12</td>\n",
       "      <td>Subscriber</td>\n",
       "      <td>3364.0</td>\n",
       "      <td>0</td>\n",
       "    </tr>\n",
       "    <tr>\n",
       "      <th>...</th>\n",
       "      <td>...</td>\n",
       "      <td>...</td>\n",
       "      <td>...</td>\n",
       "      <td>...</td>\n",
       "      <td>...</td>\n",
       "    </tr>\n",
       "    <tr>\n",
       "      <th>251269</th>\n",
       "      <td>1</td>\n",
       "      <td>7</td>\n",
       "      <td>Subscriber</td>\n",
       "      <td>3145.0</td>\n",
       "      <td>0</td>\n",
       "    </tr>\n",
       "    <tr>\n",
       "      <th>650500</th>\n",
       "      <td>1</td>\n",
       "      <td>15</td>\n",
       "      <td>Subscriber</td>\n",
       "      <td>3231.0</td>\n",
       "      <td>0</td>\n",
       "    </tr>\n",
       "    <tr>\n",
       "      <th>813160</th>\n",
       "      <td>1</td>\n",
       "      <td>22</td>\n",
       "      <td>Subscriber</td>\n",
       "      <td>3725.0</td>\n",
       "      <td>0</td>\n",
       "    </tr>\n",
       "    <tr>\n",
       "      <th>268092</th>\n",
       "      <td>1</td>\n",
       "      <td>16</td>\n",
       "      <td>Subscriber</td>\n",
       "      <td>3461.0</td>\n",
       "      <td>0</td>\n",
       "    </tr>\n",
       "    <tr>\n",
       "      <th>41574</th>\n",
       "      <td>0</td>\n",
       "      <td>16</td>\n",
       "      <td>Customer</td>\n",
       "      <td>3664.0</td>\n",
       "      <td>0</td>\n",
       "    </tr>\n",
       "  </tbody>\n",
       "</table>\n",
       "<p>799993 rows × 5 columns</p>\n",
       "</div>"
      ],
      "text/plain": [
       "        gender  trip_hour    usertype  start_station_id  popular_station_bool\n",
       "38329        2          5  Subscriber            3116.0                     0\n",
       "956261       1         16  Subscriber             254.0                     0\n",
       "523081       2         18  Subscriber             417.0                     0\n",
       "887551       1         13  Subscriber             526.0                     0\n",
       "484274       2         12  Subscriber            3364.0                     0\n",
       "...        ...        ...         ...               ...                   ...\n",
       "251269       1          7  Subscriber            3145.0                     0\n",
       "650500       1         15  Subscriber            3231.0                     0\n",
       "813160       1         22  Subscriber            3725.0                     0\n",
       "268092       1         16  Subscriber            3461.0                     0\n",
       "41574        0         16    Customer            3664.0                     0\n",
       "\n",
       "[799993 rows x 5 columns]"
      ]
     },
     "execution_count": 85,
     "metadata": {},
     "output_type": "execute_result"
    }
   ],
   "source": [
    "citi_train = pd.concat([X_train, y_train], axis = 1)\n",
    "citi_train"
   ]
  },
  {
   "cell_type": "code",
   "execution_count": 86,
   "metadata": {},
   "outputs": [
    {
     "data": {
      "text/html": [
       "<div>\n",
       "<style scoped>\n",
       "    .dataframe tbody tr th:only-of-type {\n",
       "        vertical-align: middle;\n",
       "    }\n",
       "\n",
       "    .dataframe tbody tr th {\n",
       "        vertical-align: top;\n",
       "    }\n",
       "\n",
       "    .dataframe thead th {\n",
       "        text-align: right;\n",
       "    }\n",
       "</style>\n",
       "<table border=\"1\" class=\"dataframe\">\n",
       "  <thead>\n",
       "    <tr style=\"text-align: right;\">\n",
       "      <th></th>\n",
       "      <th>gender</th>\n",
       "      <th>trip_hour</th>\n",
       "      <th>usertype</th>\n",
       "      <th>start_station_id</th>\n",
       "      <th>popular_station_bool</th>\n",
       "    </tr>\n",
       "  </thead>\n",
       "  <tbody>\n",
       "    <tr>\n",
       "      <th>999355</th>\n",
       "      <td>1</td>\n",
       "      <td>7</td>\n",
       "      <td>Subscriber</td>\n",
       "      <td>3712.0</td>\n",
       "      <td>0</td>\n",
       "    </tr>\n",
       "    <tr>\n",
       "      <th>9339</th>\n",
       "      <td>1</td>\n",
       "      <td>20</td>\n",
       "      <td>Subscriber</td>\n",
       "      <td>319.0</td>\n",
       "      <td>0</td>\n",
       "    </tr>\n",
       "    <tr>\n",
       "      <th>532489</th>\n",
       "      <td>1</td>\n",
       "      <td>16</td>\n",
       "      <td>Subscriber</td>\n",
       "      <td>3497.0</td>\n",
       "      <td>0</td>\n",
       "    </tr>\n",
       "    <tr>\n",
       "      <th>493125</th>\n",
       "      <td>1</td>\n",
       "      <td>10</td>\n",
       "      <td>Subscriber</td>\n",
       "      <td>3408.0</td>\n",
       "      <td>0</td>\n",
       "    </tr>\n",
       "    <tr>\n",
       "      <th>41617</th>\n",
       "      <td>2</td>\n",
       "      <td>8</td>\n",
       "      <td>Subscriber</td>\n",
       "      <td>3427.0</td>\n",
       "      <td>1</td>\n",
       "    </tr>\n",
       "    <tr>\n",
       "      <th>...</th>\n",
       "      <td>...</td>\n",
       "      <td>...</td>\n",
       "      <td>...</td>\n",
       "      <td>...</td>\n",
       "      <td>...</td>\n",
       "    </tr>\n",
       "    <tr>\n",
       "      <th>821970</th>\n",
       "      <td>1</td>\n",
       "      <td>12</td>\n",
       "      <td>Subscriber</td>\n",
       "      <td>351.0</td>\n",
       "      <td>0</td>\n",
       "    </tr>\n",
       "    <tr>\n",
       "      <th>94131</th>\n",
       "      <td>1</td>\n",
       "      <td>18</td>\n",
       "      <td>Subscriber</td>\n",
       "      <td>494.0</td>\n",
       "      <td>1</td>\n",
       "    </tr>\n",
       "    <tr>\n",
       "      <th>165470</th>\n",
       "      <td>1</td>\n",
       "      <td>15</td>\n",
       "      <td>Subscriber</td>\n",
       "      <td>406.0</td>\n",
       "      <td>0</td>\n",
       "    </tr>\n",
       "    <tr>\n",
       "      <th>379183</th>\n",
       "      <td>2</td>\n",
       "      <td>1</td>\n",
       "      <td>Subscriber</td>\n",
       "      <td>212.0</td>\n",
       "      <td>0</td>\n",
       "    </tr>\n",
       "    <tr>\n",
       "      <th>918577</th>\n",
       "      <td>1</td>\n",
       "      <td>8</td>\n",
       "      <td>Subscriber</td>\n",
       "      <td>3664.0</td>\n",
       "      <td>0</td>\n",
       "    </tr>\n",
       "  </tbody>\n",
       "</table>\n",
       "<p>199999 rows × 5 columns</p>\n",
       "</div>"
      ],
      "text/plain": [
       "        gender  trip_hour    usertype  start_station_id  popular_station_bool\n",
       "999355       1          7  Subscriber            3712.0                     0\n",
       "9339         1         20  Subscriber             319.0                     0\n",
       "532489       1         16  Subscriber            3497.0                     0\n",
       "493125       1         10  Subscriber            3408.0                     0\n",
       "41617        2          8  Subscriber            3427.0                     1\n",
       "...        ...        ...         ...               ...                   ...\n",
       "821970       1         12  Subscriber             351.0                     0\n",
       "94131        1         18  Subscriber             494.0                     1\n",
       "165470       1         15  Subscriber             406.0                     0\n",
       "379183       2          1  Subscriber             212.0                     0\n",
       "918577       1          8  Subscriber            3664.0                     0\n",
       "\n",
       "[199999 rows x 5 columns]"
      ]
     },
     "execution_count": 86,
     "metadata": {},
     "output_type": "execute_result"
    }
   ],
   "source": [
    "citi_test = pd.concat([X_test, y_test], axis = 1)\n",
    "citi_test"
   ]
  },
  {
   "cell_type": "code",
   "execution_count": 87,
   "metadata": {},
   "outputs": [
    {
     "ename": "PatsyError",
     "evalue": "Error evaluating factor: NameError: name 'trip_month' is not defined\n    popular_station_bool ~ gender + usertype + C(trip_hour) + C(trip_month)\n                                                              ^^^^^^^^^^^^^",
     "output_type": "error",
     "traceback": [
      "\u001b[0;31m---------------------------------------------------------------------------\u001b[0m",
      "\u001b[0;31mNameError\u001b[0m                                 Traceback (most recent call last)",
      "\u001b[0;32m~/miniconda3/lib/python3.8/site-packages/patsy/compat.py\u001b[0m in \u001b[0;36mcall_and_wrap_exc\u001b[0;34m(msg, origin, f, *args, **kwargs)\u001b[0m\n\u001b[1;32m     35\u001b[0m     \u001b[0;32mtry\u001b[0m\u001b[0;34m:\u001b[0m\u001b[0;34m\u001b[0m\u001b[0;34m\u001b[0m\u001b[0m\n\u001b[0;32m---> 36\u001b[0;31m         \u001b[0;32mreturn\u001b[0m \u001b[0mf\u001b[0m\u001b[0;34m(\u001b[0m\u001b[0;34m*\u001b[0m\u001b[0margs\u001b[0m\u001b[0;34m,\u001b[0m \u001b[0;34m**\u001b[0m\u001b[0mkwargs\u001b[0m\u001b[0;34m)\u001b[0m\u001b[0;34m\u001b[0m\u001b[0;34m\u001b[0m\u001b[0m\n\u001b[0m\u001b[1;32m     37\u001b[0m     \u001b[0;32mexcept\u001b[0m \u001b[0mException\u001b[0m \u001b[0;32mas\u001b[0m \u001b[0me\u001b[0m\u001b[0;34m:\u001b[0m\u001b[0;34m\u001b[0m\u001b[0;34m\u001b[0m\u001b[0m\n",
      "\u001b[0;32m~/miniconda3/lib/python3.8/site-packages/patsy/eval.py\u001b[0m in \u001b[0;36meval\u001b[0;34m(self, expr, source_name, inner_namespace)\u001b[0m\n\u001b[1;32m    164\u001b[0m         \u001b[0mcode\u001b[0m \u001b[0;34m=\u001b[0m \u001b[0mcompile\u001b[0m\u001b[0;34m(\u001b[0m\u001b[0mexpr\u001b[0m\u001b[0;34m,\u001b[0m \u001b[0msource_name\u001b[0m\u001b[0;34m,\u001b[0m \u001b[0;34m\"eval\"\u001b[0m\u001b[0;34m,\u001b[0m \u001b[0mself\u001b[0m\u001b[0;34m.\u001b[0m\u001b[0mflags\u001b[0m\u001b[0;34m,\u001b[0m \u001b[0;32mFalse\u001b[0m\u001b[0;34m)\u001b[0m\u001b[0;34m\u001b[0m\u001b[0;34m\u001b[0m\u001b[0m\n\u001b[0;32m--> 165\u001b[0;31m         return eval(code, {}, VarLookupDict([inner_namespace]\n\u001b[0m\u001b[1;32m    166\u001b[0m                                             + self._namespaces))\n",
      "\u001b[0;32m<string>\u001b[0m in \u001b[0;36m<module>\u001b[0;34m\u001b[0m\n",
      "\u001b[0;31mNameError\u001b[0m: name 'trip_month' is not defined",
      "\nThe above exception was the direct cause of the following exception:\n",
      "\u001b[0;31mPatsyError\u001b[0m                                Traceback (most recent call last)",
      "\u001b[0;32m<ipython-input-87-b938c2e18b79>\u001b[0m in \u001b[0;36m<module>\u001b[0;34m\u001b[0m\n\u001b[1;32m      1\u001b[0m \u001b[0mformula\u001b[0m \u001b[0;34m=\u001b[0m \u001b[0;34m'popular_station_bool ~ gender + usertype + C(trip_hour) + C(trip_month)'\u001b[0m\u001b[0;34m\u001b[0m\u001b[0;34m\u001b[0m\u001b[0m\n\u001b[0;32m----> 2\u001b[0;31m \u001b[0mfitted_model\u001b[0m \u001b[0;34m=\u001b[0m \u001b[0msmf\u001b[0m\u001b[0;34m.\u001b[0m\u001b[0mlogit\u001b[0m\u001b[0;34m(\u001b[0m\u001b[0mformula\u001b[0m\u001b[0;34m=\u001b[0m\u001b[0mformula\u001b[0m\u001b[0;34m,\u001b[0m \u001b[0mdata\u001b[0m\u001b[0;34m=\u001b[0m\u001b[0mciti_train\u001b[0m\u001b[0;34m,\u001b[0m \u001b[0mmissing\u001b[0m\u001b[0;34m=\u001b[0m\u001b[0;34m'drop'\u001b[0m\u001b[0;34m)\u001b[0m\u001b[0;34m.\u001b[0m\u001b[0mfit\u001b[0m\u001b[0;34m(\u001b[0m\u001b[0;34m)\u001b[0m\u001b[0;34m\u001b[0m\u001b[0;34m\u001b[0m\u001b[0m\n\u001b[0m\u001b[1;32m      3\u001b[0m \u001b[0;34m\u001b[0m\u001b[0m\n\u001b[1;32m      4\u001b[0m \u001b[0;34m\u001b[0m\u001b[0m\n\u001b[1;32m      5\u001b[0m \u001b[0mfitted_model\u001b[0m\u001b[0;34m.\u001b[0m\u001b[0msummary\u001b[0m\u001b[0;34m(\u001b[0m\u001b[0;34m)\u001b[0m\u001b[0;34m\u001b[0m\u001b[0;34m\u001b[0m\u001b[0m\n",
      "\u001b[0;32m~/miniconda3/lib/python3.8/site-packages/statsmodels/base/model.py\u001b[0m in \u001b[0;36mfrom_formula\u001b[0;34m(cls, formula, data, subset, drop_cols, *args, **kwargs)\u001b[0m\n\u001b[1;32m    167\u001b[0m             \u001b[0mmissing\u001b[0m \u001b[0;34m=\u001b[0m \u001b[0;34m'raise'\u001b[0m\u001b[0;34m\u001b[0m\u001b[0;34m\u001b[0m\u001b[0m\n\u001b[1;32m    168\u001b[0m \u001b[0;34m\u001b[0m\u001b[0m\n\u001b[0;32m--> 169\u001b[0;31m         tmp = handle_formula_data(data, None, formula, depth=eval_env,\n\u001b[0m\u001b[1;32m    170\u001b[0m                                   missing=missing)\n\u001b[1;32m    171\u001b[0m         \u001b[0;34m(\u001b[0m\u001b[0;34m(\u001b[0m\u001b[0mendog\u001b[0m\u001b[0;34m,\u001b[0m \u001b[0mexog\u001b[0m\u001b[0;34m)\u001b[0m\u001b[0;34m,\u001b[0m \u001b[0mmissing_idx\u001b[0m\u001b[0;34m,\u001b[0m \u001b[0mdesign_info\u001b[0m\u001b[0;34m)\u001b[0m \u001b[0;34m=\u001b[0m \u001b[0mtmp\u001b[0m\u001b[0;34m\u001b[0m\u001b[0;34m\u001b[0m\u001b[0m\n",
      "\u001b[0;32m~/miniconda3/lib/python3.8/site-packages/statsmodels/formula/formulatools.py\u001b[0m in \u001b[0;36mhandle_formula_data\u001b[0;34m(Y, X, formula, depth, missing)\u001b[0m\n\u001b[1;32m     61\u001b[0m     \u001b[0;32melse\u001b[0m\u001b[0;34m:\u001b[0m\u001b[0;34m\u001b[0m\u001b[0;34m\u001b[0m\u001b[0m\n\u001b[1;32m     62\u001b[0m         \u001b[0;32mif\u001b[0m \u001b[0mdata_util\u001b[0m\u001b[0;34m.\u001b[0m\u001b[0m_is_using_pandas\u001b[0m\u001b[0;34m(\u001b[0m\u001b[0mY\u001b[0m\u001b[0;34m,\u001b[0m \u001b[0;32mNone\u001b[0m\u001b[0;34m)\u001b[0m\u001b[0;34m:\u001b[0m\u001b[0;34m\u001b[0m\u001b[0;34m\u001b[0m\u001b[0m\n\u001b[0;32m---> 63\u001b[0;31m             result = dmatrices(formula, Y, depth, return_type='dataframe',\n\u001b[0m\u001b[1;32m     64\u001b[0m                                NA_action=na_action)\n\u001b[1;32m     65\u001b[0m         \u001b[0;32melse\u001b[0m\u001b[0;34m:\u001b[0m\u001b[0;34m\u001b[0m\u001b[0;34m\u001b[0m\u001b[0m\n",
      "\u001b[0;32m~/miniconda3/lib/python3.8/site-packages/patsy/highlevel.py\u001b[0m in \u001b[0;36mdmatrices\u001b[0;34m(formula_like, data, eval_env, NA_action, return_type)\u001b[0m\n\u001b[1;32m    307\u001b[0m     \"\"\"\n\u001b[1;32m    308\u001b[0m     \u001b[0meval_env\u001b[0m \u001b[0;34m=\u001b[0m \u001b[0mEvalEnvironment\u001b[0m\u001b[0;34m.\u001b[0m\u001b[0mcapture\u001b[0m\u001b[0;34m(\u001b[0m\u001b[0meval_env\u001b[0m\u001b[0;34m,\u001b[0m \u001b[0mreference\u001b[0m\u001b[0;34m=\u001b[0m\u001b[0;36m1\u001b[0m\u001b[0;34m)\u001b[0m\u001b[0;34m\u001b[0m\u001b[0;34m\u001b[0m\u001b[0m\n\u001b[0;32m--> 309\u001b[0;31m     (lhs, rhs) = _do_highlevel_design(formula_like, data, eval_env,\n\u001b[0m\u001b[1;32m    310\u001b[0m                                       NA_action, return_type)\n\u001b[1;32m    311\u001b[0m     \u001b[0;32mif\u001b[0m \u001b[0mlhs\u001b[0m\u001b[0;34m.\u001b[0m\u001b[0mshape\u001b[0m\u001b[0;34m[\u001b[0m\u001b[0;36m1\u001b[0m\u001b[0;34m]\u001b[0m \u001b[0;34m==\u001b[0m \u001b[0;36m0\u001b[0m\u001b[0;34m:\u001b[0m\u001b[0;34m\u001b[0m\u001b[0;34m\u001b[0m\u001b[0m\n",
      "\u001b[0;32m~/miniconda3/lib/python3.8/site-packages/patsy/highlevel.py\u001b[0m in \u001b[0;36m_do_highlevel_design\u001b[0;34m(formula_like, data, eval_env, NA_action, return_type)\u001b[0m\n\u001b[1;32m    162\u001b[0m     \u001b[0;32mdef\u001b[0m \u001b[0mdata_iter_maker\u001b[0m\u001b[0;34m(\u001b[0m\u001b[0;34m)\u001b[0m\u001b[0;34m:\u001b[0m\u001b[0;34m\u001b[0m\u001b[0;34m\u001b[0m\u001b[0m\n\u001b[1;32m    163\u001b[0m         \u001b[0;32mreturn\u001b[0m \u001b[0miter\u001b[0m\u001b[0;34m(\u001b[0m\u001b[0;34m[\u001b[0m\u001b[0mdata\u001b[0m\u001b[0;34m]\u001b[0m\u001b[0;34m)\u001b[0m\u001b[0;34m\u001b[0m\u001b[0;34m\u001b[0m\u001b[0m\n\u001b[0;32m--> 164\u001b[0;31m     design_infos = _try_incr_builders(formula_like, data_iter_maker, eval_env,\n\u001b[0m\u001b[1;32m    165\u001b[0m                                       NA_action)\n\u001b[1;32m    166\u001b[0m     \u001b[0;32mif\u001b[0m \u001b[0mdesign_infos\u001b[0m \u001b[0;32mis\u001b[0m \u001b[0;32mnot\u001b[0m \u001b[0;32mNone\u001b[0m\u001b[0;34m:\u001b[0m\u001b[0;34m\u001b[0m\u001b[0;34m\u001b[0m\u001b[0m\n",
      "\u001b[0;32m~/miniconda3/lib/python3.8/site-packages/patsy/highlevel.py\u001b[0m in \u001b[0;36m_try_incr_builders\u001b[0;34m(formula_like, data_iter_maker, eval_env, NA_action)\u001b[0m\n\u001b[1;32m     64\u001b[0m     \u001b[0;32mif\u001b[0m \u001b[0misinstance\u001b[0m\u001b[0;34m(\u001b[0m\u001b[0mformula_like\u001b[0m\u001b[0;34m,\u001b[0m \u001b[0mModelDesc\u001b[0m\u001b[0;34m)\u001b[0m\u001b[0;34m:\u001b[0m\u001b[0;34m\u001b[0m\u001b[0;34m\u001b[0m\u001b[0m\n\u001b[1;32m     65\u001b[0m         \u001b[0;32massert\u001b[0m \u001b[0misinstance\u001b[0m\u001b[0;34m(\u001b[0m\u001b[0meval_env\u001b[0m\u001b[0;34m,\u001b[0m \u001b[0mEvalEnvironment\u001b[0m\u001b[0;34m)\u001b[0m\u001b[0;34m\u001b[0m\u001b[0;34m\u001b[0m\u001b[0m\n\u001b[0;32m---> 66\u001b[0;31m         return design_matrix_builders([formula_like.lhs_termlist,\n\u001b[0m\u001b[1;32m     67\u001b[0m                                        formula_like.rhs_termlist],\n\u001b[1;32m     68\u001b[0m                                       \u001b[0mdata_iter_maker\u001b[0m\u001b[0;34m,\u001b[0m\u001b[0;34m\u001b[0m\u001b[0;34m\u001b[0m\u001b[0m\n",
      "\u001b[0;32m~/miniconda3/lib/python3.8/site-packages/patsy/build.py\u001b[0m in \u001b[0;36mdesign_matrix_builders\u001b[0;34m(termlists, data_iter_maker, eval_env, NA_action)\u001b[0m\n\u001b[1;32m    691\u001b[0m     \u001b[0;31m# on some data to find out what type of data they return.\u001b[0m\u001b[0;34m\u001b[0m\u001b[0;34m\u001b[0m\u001b[0;34m\u001b[0m\u001b[0m\n\u001b[1;32m    692\u001b[0m     (num_column_counts,\n\u001b[0;32m--> 693\u001b[0;31m      \u001b[0mcat_levels_contrasts\u001b[0m\u001b[0;34m)\u001b[0m \u001b[0;34m=\u001b[0m \u001b[0m_examine_factor_types\u001b[0m\u001b[0;34m(\u001b[0m\u001b[0mall_factors\u001b[0m\u001b[0;34m,\u001b[0m\u001b[0;34m\u001b[0m\u001b[0;34m\u001b[0m\u001b[0m\n\u001b[0m\u001b[1;32m    694\u001b[0m                                                    \u001b[0mfactor_states\u001b[0m\u001b[0;34m,\u001b[0m\u001b[0;34m\u001b[0m\u001b[0;34m\u001b[0m\u001b[0m\n\u001b[1;32m    695\u001b[0m                                                    \u001b[0mdata_iter_maker\u001b[0m\u001b[0;34m,\u001b[0m\u001b[0;34m\u001b[0m\u001b[0;34m\u001b[0m\u001b[0m\n",
      "\u001b[0;32m~/miniconda3/lib/python3.8/site-packages/patsy/build.py\u001b[0m in \u001b[0;36m_examine_factor_types\u001b[0;34m(factors, factor_states, data_iter_maker, NA_action)\u001b[0m\n\u001b[1;32m    441\u001b[0m     \u001b[0;32mfor\u001b[0m \u001b[0mdata\u001b[0m \u001b[0;32min\u001b[0m \u001b[0mdata_iter_maker\u001b[0m\u001b[0;34m(\u001b[0m\u001b[0;34m)\u001b[0m\u001b[0;34m:\u001b[0m\u001b[0;34m\u001b[0m\u001b[0;34m\u001b[0m\u001b[0m\n\u001b[1;32m    442\u001b[0m         \u001b[0;32mfor\u001b[0m \u001b[0mfactor\u001b[0m \u001b[0;32min\u001b[0m \u001b[0mlist\u001b[0m\u001b[0;34m(\u001b[0m\u001b[0mexamine_needed\u001b[0m\u001b[0;34m)\u001b[0m\u001b[0;34m:\u001b[0m\u001b[0;34m\u001b[0m\u001b[0;34m\u001b[0m\u001b[0m\n\u001b[0;32m--> 443\u001b[0;31m             \u001b[0mvalue\u001b[0m \u001b[0;34m=\u001b[0m \u001b[0mfactor\u001b[0m\u001b[0;34m.\u001b[0m\u001b[0meval\u001b[0m\u001b[0;34m(\u001b[0m\u001b[0mfactor_states\u001b[0m\u001b[0;34m[\u001b[0m\u001b[0mfactor\u001b[0m\u001b[0;34m]\u001b[0m\u001b[0;34m,\u001b[0m \u001b[0mdata\u001b[0m\u001b[0;34m)\u001b[0m\u001b[0;34m\u001b[0m\u001b[0;34m\u001b[0m\u001b[0m\n\u001b[0m\u001b[1;32m    444\u001b[0m             \u001b[0;32mif\u001b[0m \u001b[0mfactor\u001b[0m \u001b[0;32min\u001b[0m \u001b[0mcat_sniffers\u001b[0m \u001b[0;32mor\u001b[0m \u001b[0mguess_categorical\u001b[0m\u001b[0;34m(\u001b[0m\u001b[0mvalue\u001b[0m\u001b[0;34m)\u001b[0m\u001b[0;34m:\u001b[0m\u001b[0;34m\u001b[0m\u001b[0;34m\u001b[0m\u001b[0m\n\u001b[1;32m    445\u001b[0m                 \u001b[0;32mif\u001b[0m \u001b[0mfactor\u001b[0m \u001b[0;32mnot\u001b[0m \u001b[0;32min\u001b[0m \u001b[0mcat_sniffers\u001b[0m\u001b[0;34m:\u001b[0m\u001b[0;34m\u001b[0m\u001b[0;34m\u001b[0m\u001b[0m\n",
      "\u001b[0;32m~/miniconda3/lib/python3.8/site-packages/patsy/eval.py\u001b[0m in \u001b[0;36meval\u001b[0;34m(self, memorize_state, data)\u001b[0m\n\u001b[1;32m    562\u001b[0m \u001b[0;34m\u001b[0m\u001b[0m\n\u001b[1;32m    563\u001b[0m     \u001b[0;32mdef\u001b[0m \u001b[0meval\u001b[0m\u001b[0;34m(\u001b[0m\u001b[0mself\u001b[0m\u001b[0;34m,\u001b[0m \u001b[0mmemorize_state\u001b[0m\u001b[0;34m,\u001b[0m \u001b[0mdata\u001b[0m\u001b[0;34m)\u001b[0m\u001b[0;34m:\u001b[0m\u001b[0;34m\u001b[0m\u001b[0;34m\u001b[0m\u001b[0m\n\u001b[0;32m--> 564\u001b[0;31m         return self._eval(memorize_state[\"eval_code\"],\n\u001b[0m\u001b[1;32m    565\u001b[0m                           \u001b[0mmemorize_state\u001b[0m\u001b[0;34m,\u001b[0m\u001b[0;34m\u001b[0m\u001b[0;34m\u001b[0m\u001b[0m\n\u001b[1;32m    566\u001b[0m                           data)\n",
      "\u001b[0;32m~/miniconda3/lib/python3.8/site-packages/patsy/eval.py\u001b[0m in \u001b[0;36m_eval\u001b[0;34m(self, code, memorize_state, data)\u001b[0m\n\u001b[1;32m    545\u001b[0m     \u001b[0;32mdef\u001b[0m \u001b[0m_eval\u001b[0m\u001b[0;34m(\u001b[0m\u001b[0mself\u001b[0m\u001b[0;34m,\u001b[0m \u001b[0mcode\u001b[0m\u001b[0;34m,\u001b[0m \u001b[0mmemorize_state\u001b[0m\u001b[0;34m,\u001b[0m \u001b[0mdata\u001b[0m\u001b[0;34m)\u001b[0m\u001b[0;34m:\u001b[0m\u001b[0;34m\u001b[0m\u001b[0;34m\u001b[0m\u001b[0m\n\u001b[1;32m    546\u001b[0m         \u001b[0minner_namespace\u001b[0m \u001b[0;34m=\u001b[0m \u001b[0mVarLookupDict\u001b[0m\u001b[0;34m(\u001b[0m\u001b[0;34m[\u001b[0m\u001b[0mdata\u001b[0m\u001b[0;34m,\u001b[0m \u001b[0mmemorize_state\u001b[0m\u001b[0;34m[\u001b[0m\u001b[0;34m\"transforms\"\u001b[0m\u001b[0;34m]\u001b[0m\u001b[0;34m]\u001b[0m\u001b[0;34m)\u001b[0m\u001b[0;34m\u001b[0m\u001b[0;34m\u001b[0m\u001b[0m\n\u001b[0;32m--> 547\u001b[0;31m         return call_and_wrap_exc(\"Error evaluating factor\",\n\u001b[0m\u001b[1;32m    548\u001b[0m                                  \u001b[0mself\u001b[0m\u001b[0;34m,\u001b[0m\u001b[0;34m\u001b[0m\u001b[0;34m\u001b[0m\u001b[0m\n\u001b[1;32m    549\u001b[0m                                  \u001b[0mmemorize_state\u001b[0m\u001b[0;34m[\u001b[0m\u001b[0;34m\"eval_env\"\u001b[0m\u001b[0;34m]\u001b[0m\u001b[0;34m.\u001b[0m\u001b[0meval\u001b[0m\u001b[0;34m,\u001b[0m\u001b[0;34m\u001b[0m\u001b[0;34m\u001b[0m\u001b[0m\n",
      "\u001b[0;32m~/miniconda3/lib/python3.8/site-packages/patsy/compat.py\u001b[0m in \u001b[0;36mcall_and_wrap_exc\u001b[0;34m(msg, origin, f, *args, **kwargs)\u001b[0m\n\u001b[1;32m     41\u001b[0m                                  origin)\n\u001b[1;32m     42\u001b[0m             \u001b[0;31m# Use 'exec' to hide this syntax from the Python 2 parser:\u001b[0m\u001b[0;34m\u001b[0m\u001b[0;34m\u001b[0m\u001b[0;34m\u001b[0m\u001b[0m\n\u001b[0;32m---> 43\u001b[0;31m             \u001b[0mexec\u001b[0m\u001b[0;34m(\u001b[0m\u001b[0;34m\"raise new_exc from e\"\u001b[0m\u001b[0;34m)\u001b[0m\u001b[0;34m\u001b[0m\u001b[0;34m\u001b[0m\u001b[0m\n\u001b[0m\u001b[1;32m     44\u001b[0m         \u001b[0;32melse\u001b[0m\u001b[0;34m:\u001b[0m\u001b[0;34m\u001b[0m\u001b[0;34m\u001b[0m\u001b[0m\n\u001b[1;32m     45\u001b[0m             \u001b[0;31m# In python 2, we just let the original exception escape -- better\u001b[0m\u001b[0;34m\u001b[0m\u001b[0;34m\u001b[0m\u001b[0;34m\u001b[0m\u001b[0m\n",
      "\u001b[0;32m~/miniconda3/lib/python3.8/site-packages/patsy/compat.py\u001b[0m in \u001b[0;36m<module>\u001b[0;34m\u001b[0m\n",
      "\u001b[0;31mPatsyError\u001b[0m: Error evaluating factor: NameError: name 'trip_month' is not defined\n    popular_station_bool ~ gender + usertype + C(trip_hour) + C(trip_month)\n                                                              ^^^^^^^^^^^^^"
     ]
    }
   ],
   "source": [
    "formula = 'popular_station_bool ~ gender + usertype + C(trip_hour) + C(trip_month)' \n",
    "fitted_model = smf.logit(formula=formula, data=citi_train, missing='drop').fit()\n",
    "\n",
    "\n",
    "fitted_model.summary()"
   ]
  },
  {
   "cell_type": "code",
   "execution_count": null,
   "metadata": {},
   "outputs": [],
   "source": [
    "y_pred_test = np.round(fitted_model.predict(citi_test))\n",
    "y_pred_test"
   ]
  },
  {
   "cell_type": "code",
   "execution_count": null,
   "metadata": {},
   "outputs": [],
   "source": [
    "#wrong? i did something wrong but i dont know what... it predicted everything will be 0....?\n",
    "pd.crosstab(citi_test['popular_station_bool'], y_pred_test)"
   ]
  },
  {
   "cell_type": "code",
   "execution_count": null,
   "metadata": {},
   "outputs": [],
   "source": [
    "confusion_matrix(citi_test['popular_station_bool'], y_pred_test)"
   ]
  },
  {
   "cell_type": "code",
   "execution_count": null,
   "metadata": {},
   "outputs": [],
   "source": []
  },
  {
   "cell_type": "code",
   "execution_count": null,
   "metadata": {},
   "outputs": [],
   "source": [
    "#what stations are most popular and what time of day"
   ]
  },
  {
   "cell_type": "code",
   "execution_count": null,
   "metadata": {},
   "outputs": [],
   "source": [
    "#what times of day are the most rides/ rides by month"
   ]
  },
  {
   "cell_type": "code",
   "execution_count": null,
   "metadata": {},
   "outputs": [],
   "source": []
  },
  {
   "cell_type": "code",
   "execution_count": null,
   "metadata": {},
   "outputs": [],
   "source": [
    "sns.set(rc={'figure.figsize': (16,3)})\n",
    "ax = sns.distplot(citi['tripduration_mins'])"
   ]
  },
  {
   "cell_type": "code",
   "execution_count": null,
   "metadata": {},
   "outputs": [],
   "source": [
    "#how many trips are over 3 hours\n",
    "len(citi.loc[citi['tripduration_mins']>180])"
   ]
  },
  {
   "cell_type": "code",
   "execution_count": null,
   "metadata": {},
   "outputs": [],
   "source": [
    "len(citi)"
   ]
  },
  {
   "cell_type": "code",
   "execution_count": null,
   "metadata": {},
   "outputs": [],
   "source": [
    "#how much data am i dropping? \n",
    "len(citi.loc[citi['tripduration_mins']>180]) / len(citi)"
   ]
  },
  {
   "cell_type": "code",
   "execution_count": null,
   "metadata": {},
   "outputs": [],
   "source": [
    "#dropped all records of trips over 3 hours\n",
    "citi= citi.loc[citi['tripduration_mins']<=180]"
   ]
  },
  {
   "cell_type": "code",
   "execution_count": null,
   "metadata": {},
   "outputs": [],
   "source": []
  },
  {
   "cell_type": "code",
   "execution_count": null,
   "metadata": {},
   "outputs": [],
   "source": []
  },
  {
   "cell_type": "code",
   "execution_count": null,
   "metadata": {},
   "outputs": [],
   "source": [
    "#male/female ratio... drop unknowns or no?\n",
    "#there are a lot more men who use citibike than women\n",
    "citi['gender'].value_counts(normalize=True)"
   ]
  },
  {
   "cell_type": "code",
   "execution_count": null,
   "metadata": {},
   "outputs": [],
   "source": [
    "len(citi)"
   ]
  },
  {
   "cell_type": "code",
   "execution_count": null,
   "metadata": {},
   "outputs": [],
   "source": [
    "len(citi['gender'])"
   ]
  },
  {
   "cell_type": "code",
   "execution_count": null,
   "metadata": {},
   "outputs": [],
   "source": [
    "citi['gender'].sum()"
   ]
  },
  {
   "cell_type": "code",
   "execution_count": null,
   "metadata": {},
   "outputs": [],
   "source": [
    "683800 / len(citi) * 100"
   ]
  },
  {
   "cell_type": "code",
   "execution_count": null,
   "metadata": {},
   "outputs": [],
   "source": [
    "239952 / len(citi) * 100"
   ]
  },
  {
   "cell_type": "code",
   "execution_count": null,
   "metadata": {},
   "outputs": [],
   "source": [
    "74595 / len(citi) * 100"
   ]
  },
  {
   "cell_type": "code",
   "execution_count": null,
   "metadata": {},
   "outputs": [],
   "source": [
    "ax = sns.boxplot(x = 'usertype', y = 'trip_month', data = citi)\n",
    "ax"
   ]
  },
  {
   "cell_type": "code",
   "execution_count": null,
   "metadata": {},
   "outputs": [],
   "source": []
  },
  {
   "cell_type": "code",
   "execution_count": null,
   "metadata": {},
   "outputs": [],
   "source": []
  },
  {
   "cell_type": "code",
   "execution_count": null,
   "metadata": {},
   "outputs": [],
   "source": [
    "#subs v users breakdown\n",
    "citi['usertype'].value_counts()"
   ]
  },
  {
   "cell_type": "code",
   "execution_count": null,
   "metadata": {},
   "outputs": [],
   "source": []
  },
  {
   "cell_type": "code",
   "execution_count": null,
   "metadata": {},
   "outputs": [],
   "source": [
    "#sns.set(rc={'figure.figsize': (6, 6)})\n",
    "ax = sns.boxplot(x = 'usertype', y = 'tripduration_mins', data = citi)\n",
    "ax\n"
   ]
  },
  {
   "cell_type": "code",
   "execution_count": null,
   "metadata": {},
   "outputs": [],
   "source": [
    "citi.groupby(\"usertype\")[\"tripduration_mins\"].median()\n",
    "#user type has some effect on trip duration. \n",
    "#check if subscribesrs have longer trips than customers in big df because current pricing structure \n",
    "#incentivizes longer trips for subscribers\n",
    "\n",
    "#maybe there is a way to change pricing/make it more dynamic\n",
    "#\n"
   ]
  },
  {
   "cell_type": "code",
   "execution_count": null,
   "metadata": {},
   "outputs": [],
   "source": [
    "citi.groupby(\"usertype\")[\"tripduration_mins\"].mean()\n"
   ]
  },
  {
   "cell_type": "code",
   "execution_count": null,
   "metadata": {},
   "outputs": [],
   "source": [
    "sns.set(rc={'figure.figsize': (6, 6)})\n",
    "ax = sns.boxplot(x = 'usertype', y = 'age', data = citi)\n",
    "ax\n",
    "#subscribers skew younger than customers"
   ]
  },
  {
   "cell_type": "code",
   "execution_count": null,
   "metadata": {},
   "outputs": [],
   "source": [
    "#not a major difference between user type and ages\n",
    "citi.groupby(\"usertype\")[\"age\"].median()\n"
   ]
  },
  {
   "cell_type": "code",
   "execution_count": null,
   "metadata": {},
   "outputs": [],
   "source": [
    "#not a big difference\n",
    "citi.groupby(\"usertype\")[\"age\"].mean()\n"
   ]
  },
  {
   "cell_type": "code",
   "execution_count": null,
   "metadata": {},
   "outputs": [],
   "source": [
    "citi.tripduration_mins.mean()"
   ]
  },
  {
   "cell_type": "code",
   "execution_count": null,
   "metadata": {},
   "outputs": [],
   "source": [
    "citi.tripduration_mins.min()"
   ]
  },
  {
   "cell_type": "code",
   "execution_count": null,
   "metadata": {},
   "outputs": [],
   "source": [
    "citi.tripduration_mins.max()"
   ]
  },
  {
   "cell_type": "code",
   "execution_count": null,
   "metadata": {},
   "outputs": [],
   "source": [
    "citi.info()"
   ]
  },
  {
   "cell_type": "code",
   "execution_count": null,
   "metadata": {},
   "outputs": [],
   "source": []
  },
  {
   "cell_type": "code",
   "execution_count": null,
   "metadata": {},
   "outputs": [],
   "source": [
    "citi['age'].max()\n",
    "#how to cut out bogus ages?"
   ]
  },
  {
   "cell_type": "code",
   "execution_count": null,
   "metadata": {},
   "outputs": [],
   "source": [
    "citi['age'].min()"
   ]
  },
  {
   "cell_type": "code",
   "execution_count": null,
   "metadata": {},
   "outputs": [],
   "source": [
    "citi['age'].median()"
   ]
  },
  {
   "cell_type": "code",
   "execution_count": null,
   "metadata": {},
   "outputs": [],
   "source": [
    "citi['age'].mean()"
   ]
  },
  {
   "cell_type": "code",
   "execution_count": null,
   "metadata": {},
   "outputs": [],
   "source": [
    "#taking out ages over 80 (a check of my work)\n",
    "len(citi.loc[citi['age']>80])"
   ]
  },
  {
   "cell_type": "code",
   "execution_count": null,
   "metadata": {},
   "outputs": [],
   "source": []
  },
  {
   "cell_type": "code",
   "execution_count": null,
   "metadata": {},
   "outputs": [],
   "source": [
    "#actually reassigning the database \n",
    "citi= citi.loc[citi['age']<=80]"
   ]
  },
  {
   "cell_type": "code",
   "execution_count": null,
   "metadata": {},
   "outputs": [],
   "source": [
    "citi['age'].value_counts()"
   ]
  },
  {
   "cell_type": "code",
   "execution_count": null,
   "metadata": {},
   "outputs": [],
   "source": [
    "citi['age'].max()"
   ]
  },
  {
   "cell_type": "code",
   "execution_count": null,
   "metadata": {},
   "outputs": [],
   "source": [
    "citi['age'].min()"
   ]
  },
  {
   "cell_type": "code",
   "execution_count": null,
   "metadata": {},
   "outputs": [],
   "source": [
    "citi['age'].mean()"
   ]
  },
  {
   "cell_type": "code",
   "execution_count": null,
   "metadata": {},
   "outputs": [],
   "source": [
    "citi['age'].median()"
   ]
  },
  {
   "cell_type": "code",
   "execution_count": null,
   "metadata": {},
   "outputs": [],
   "source": [
    "age_count= citi['age'].value_counts()"
   ]
  },
  {
   "cell_type": "code",
   "execution_count": null,
   "metadata": {},
   "outputs": [],
   "source": [
    "#ax = sns.distplot(aug20, x='age') this didn't work!!!\n",
    "sns.set(rc={'figure.figsize': (16,3)})\n",
    "ax = sns.distplot(citi['age'])\n"
   ]
  },
  {
   "cell_type": "code",
   "execution_count": null,
   "metadata": {},
   "outputs": [],
   "source": [
    "citi.info()"
   ]
  },
  {
   "cell_type": "code",
   "execution_count": null,
   "metadata": {},
   "outputs": [],
   "source": [
    "sns.pairplot(citi[['age','trip_month','tripduration_mins']], plot_kws = {\"color\": \"green\"}, height = 10)"
   ]
  },
  {
   "cell_type": "code",
   "execution_count": null,
   "metadata": {},
   "outputs": [],
   "source": [
    "#USELESS\n",
    "sns.set(rc={'figure.figsize': (16, 5)})\n",
    "ax = sns.scatterplot(x = 'age', y = 'tripduration_mins', data = citi,\n",
    "                 palette ='plasma_r', ci = False)"
   ]
  },
  {
   "cell_type": "code",
   "execution_count": null,
   "metadata": {},
   "outputs": [],
   "source": []
  },
  {
   "cell_type": "code",
   "execution_count": null,
   "metadata": {},
   "outputs": [],
   "source": [
    "sns.set(rc={'figure.figsize': (10, 10)})\n",
    "ax = sns.barplot(x = 'age', y = 'tripduration_mins', data = citi, ci = False)\n"
   ]
  },
  {
   "cell_type": "code",
   "execution_count": null,
   "metadata": {},
   "outputs": [],
   "source": [
    "citi.info()"
   ]
  },
  {
   "cell_type": "code",
   "execution_count": null,
   "metadata": {},
   "outputs": [],
   "source": []
  },
  {
   "cell_type": "code",
   "execution_count": null,
   "metadata": {},
   "outputs": [],
   "source": [
    "citi.describe()"
   ]
  },
  {
   "cell_type": "code",
   "execution_count": null,
   "metadata": {},
   "outputs": [],
   "source": [
    "# Creating new df w/ only the numerical vars\n",
    "num_df = citi[['tripduration_mins', 'start_station_id',\n",
    "                  'end station id', 'gender', 'trip_dayofweek',\n",
    "                  'trip_month', 'trip_hour', 'age', \n",
    "                   'popular_station_bool']]\n",
    "num_df"
   ]
  },
  {
   "cell_type": "code",
   "execution_count": null,
   "metadata": {},
   "outputs": [],
   "source": [
    "plt.matshow(num_df.corr())\n",
    "\n",
    "f = plt.figure(figsize=(19, 15))\n",
    "plt.matshow(num_df.corr(), fignum=f.number)\n",
    "plt.xticks(range(num_df.shape[1]), num_df.columns, fontsize=14, rotation=45)\n",
    "plt.yticks(range(num_df.shape[1]), num_df.columns, fontsize=14)\n",
    "cb = plt.colorbar()\n",
    "cb.ax.tick_params(labelsize=14)\n",
    "plt.title('Correlation Matrix', fontsize=16, fontweight='bold')\n",
    "\n",
    "plt.show()"
   ]
  },
  {
   "cell_type": "code",
   "execution_count": null,
   "metadata": {},
   "outputs": [],
   "source": [
    "popular_df = citi.loc[citi['popular_station_bool']== 1]"
   ]
  },
  {
   "cell_type": "code",
   "execution_count": null,
   "metadata": {},
   "outputs": [],
   "source": [
    "sns.set(rc={'figure.figsize': (16,3)})\n",
    "ax= sns.countplot(x='trip_hour', data=popular_df)"
   ]
  },
  {
   "cell_type": "code",
   "execution_count": null,
   "metadata": {},
   "outputs": [],
   "source": [
    "sns.set(rc={'figure.figsize': (10,5)})\n",
    "ax= sns.countplot(x='trip_dayofweek', data=popular_df)"
   ]
  },
  {
   "cell_type": "code",
   "execution_count": null,
   "metadata": {},
   "outputs": [],
   "source": [
    "sns.set(rc={'figure.figsize': (10,5)})\n",
    "ax= sns.countplot(x='trip_month', data=popular_df)"
   ]
  },
  {
   "cell_type": "code",
   "execution_count": null,
   "metadata": {},
   "outputs": [],
   "source": [
    "citi.info()"
   ]
  },
  {
   "cell_type": "code",
   "execution_count": null,
   "metadata": {},
   "outputs": [],
   "source": [
    "sortby departure time stamps"
   ]
  },
  {
   "cell_type": "code",
   "execution_count": null,
   "metadata": {},
   "outputs": [],
   "source": [
    "sns.countplot(x= 'tripduration_mins' , data=citi[citi['age']== 25])"
   ]
  },
  {
   "cell_type": "code",
   "execution_count": null,
   "metadata": {},
   "outputs": [],
   "source": []
  },
  {
   "cell_type": "code",
   "execution_count": null,
   "metadata": {},
   "outputs": [],
   "source": []
  },
  {
   "cell_type": "code",
   "execution_count": null,
   "metadata": {},
   "outputs": [],
   "source": []
  }
 ],
 "metadata": {
  "kernelspec": {
   "display_name": "Python 3",
   "language": "python",
   "name": "python3"
  },
  "language_info": {
   "codemirror_mode": {
    "name": "ipython",
    "version": 3
   },
   "file_extension": ".py",
   "mimetype": "text/x-python",
   "name": "python",
   "nbconvert_exporter": "python",
   "pygments_lexer": "ipython3",
   "version": "3.8.3"
  }
 },
 "nbformat": 4,
 "nbformat_minor": 4
}
